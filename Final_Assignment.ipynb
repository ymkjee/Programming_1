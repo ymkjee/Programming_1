{
 "cells": [
  {
   "cell_type": "markdown",
   "metadata": {},
   "source": [
    "## Final Assignment"
   ]
  },
  {
   "cell_type": "markdown",
   "metadata": {},
   "source": [
    "\n",
    "Before working on this assignment please read these instructions fully. Use blackboard to submit a link to your repository. \n",
    "\n",
    "On blackboard your find the assessment criteria. Please familiarize yourself with the criteria before beginning the assignment.\n",
    "\n",
    "This assignment requires that you to find at least two datasets on the web which are related, and that you build an application that visualize these datasets to answer a research question with the broad topic of **health** or **agriculture** in the **region where you were born**. The region can be a city, town or a provence.  \n",
    "\n",
    "The research question should be a question with a causual nature. For instance questions like: How does independent variable X influence the dependent variable of Y?\n",
    "\n",
    "The code should be programmed efficiently. Also identify the most critical part and write software test for this part. Take into account the performance of the dataprocessing"
   ]
  },
  {
   "cell_type": "markdown",
   "metadata": {},
   "source": [
    "### About the data\n",
    "\n",
    "You can merge these datasets with data from different regions if you like. For instance, you might want to compare the health effect of earhtquacks in Groningen versus Los Angelos USA. \n",
    "\n",
    "You are welcome to choose datasets at your discretion, but keep in mind they will be shared with others, so choose appropriate datasets. You are welcome to use datasets of your own as well, but minimual two datasets should be coming from the web and or API's. \n",
    "\n",
    "Also, you are welcome to preserve data in its original language, but for the purposes of grading you should provide english translations in your visualization. "
   ]
  },
  {
   "cell_type": "markdown",
   "metadata": {},
   "source": [
    "### Instructions:\n",
    "\n",
    "Define a research question, select data and code your data acquisition, data processing, data analysis and visualization. Write code to test most critical parts. Use a repository with a commit strategy and write a readme file. \n",
    "\n",
    "Write a small document with the following:\n",
    "- State the region and the domain category that your data sets are about \n",
    "- State the research question \n",
    "- Justify the chosen data storage and processing approach\n",
    "- Justify the chosen analysis approach\n",
    "- Justify the chosen data visualization approach\n",
    "\n",
    "Upload your document and the link of your repository to black board"
   ]
  },
  {
   "cell_type": "markdown",
   "metadata": {},
   "source": [
    "## loading in the datafiles and taking a first look"
   ]
  },
  {
   "cell_type": "code",
   "execution_count": 1,
   "metadata": {},
   "outputs": [],
   "source": [
    "import pandas as pd\n",
    "import numpy as np\n",
    "from bokeh.models import (Band, ColumnDataSource, HoverTool, Span, \n",
    "                          LinearColorMapper, PrintfTickFormatter, BasicTicker, ColorBar)\n",
    "from bokeh.models.widgets import DataTable, DateFormatter, TableColumn, HTMLTemplateFormatter\n",
    "from bokeh.plotting import figure, show, output_file\n",
    "from bokeh.models.widgets import Panel, Tabs\n",
    "from bokeh.transform import transform\n",
    "from bokeh.palettes import Inferno\n",
    "from collections import OrderedDict\n",
    "from bokeh.io import output_notebook\n",
    "import seaborn as sns\n",
    "import matplotlib.pyplot as plt"
   ]
  },
  {
   "cell_type": "code",
   "execution_count": 2,
   "metadata": {},
   "outputs": [],
   "source": [
    "import json\n",
    "import pandas as pd\n",
    "pd.options.mode.chained_assignment = None\n",
    "\n",
    "def load_in(path_sewage, path_cases):\n",
    "    sewage = pd.read_json(path_sewage, orient= \"levels\")\n",
    "    cases = pd.read_json(path_cases, orient= \"levels\")\n",
    "    sewage.head()\n",
    "    cases.head()\n",
    "\n",
    "    return sewage, cases\n",
    "\n",
    "df_sewage, df_cases = load_in(\"Data/COVID-19_rioolwaterdata.json\", \n",
    "                              \"Data/COVID-19_aantallen_gemeente_cumulatief.json\")"
   ]
  },
  {
   "cell_type": "markdown",
   "metadata": {},
   "source": [
    "## Filtering\n",
    "For the filtering of the data the columns that are uneccesary for this research will be removed.\n",
    "Next there will be a check for missing data\n",
    "For the sewage data there will be looked at which measure points have been used \n",
    "throughout and the ones that have been added later.The measure points added later will be removed.\n",
    "\n",
    "Both datasets will be filtered on date. For an acurate date the sewage dataset is used. This is done\n",
    "by checking when they started wit measuring the RNA flow per 10.000 inhibitants instead of RNA per ml.\n",
    "This is done because it nearly impossible to calculate the RNA flow from the RNA per ml.\n",
    "The end date is the same as the end date of the last entry in the sewage dataset.\n",
    "\n",
    "Because of the many different measurepoints the RNA flow per 10.000 will be summed per province.\n",
    "This will also be done for the total amount of corona cases.\n",
    "\n"
   ]
  },
  {
   "cell_type": "markdown",
   "metadata": {},
   "source": [
    "#### sewage dataset"
   ]
  },
  {
   "cell_type": "code",
   "execution_count": 3,
   "metadata": {},
   "outputs": [
    {
     "name": "stdout",
     "output_type": "stream",
     "text": [
      "119\n",
      "1\n"
     ]
    }
   ],
   "source": [
    "# deleting uneccesary columns:\n",
    "\n",
    "df_sewage = df_sewage.drop([\"RWZI_AWZI_code\", \"RWZI_AWZI_name\", \"X_coordinate\", \"Y_coordinate\",\n",
    "                           \"Postal_code\", \"Security_region_code\", \"RNA_per_ml\"], axis = 1)\n",
    "\n",
    "# check unique values in the columns percentage_in_security_regrion and Representative_measurement to check \n",
    "# if there are any differences:\n",
    "\n",
    "print(df_sewage['Percentage_in_security_region'].nunique())\n",
    "\n",
    "print(df_sewage['Representative_measurement'].nunique())\n",
    "# with this we can remove the representative column because all values are TRUE\n",
    "df_sewage = df_sewage.drop(['Representative_measurement'], axis = 1)\n",
    "\n"
   ]
  },
  {
   "cell_type": "code",
   "execution_count": 4,
   "metadata": {
    "scrolled": false
   },
   "outputs": [],
   "source": [
    "import numpy as np\n",
    "# check the number of unique values in the Security region name.\n",
    "df_sewage['Security_region_name'].nunique()\n",
    "\n",
    "# from this we can see that there are 26 regions measured. However there are only twelve provinces.\n",
    "# We will check per region name in which province they belong and add them in an additional column.\n",
    "\n",
    "df_sewage.Security_region_name.unique()\n",
    "df_sewage[\"Province\"] = np.nan\n",
    "\n",
    "df_sewage.loc[(df_sewage.Security_region_name == \"Midden- en West-Brabant\")|\n",
    "              (df_sewage.Security_region_name == \"Brabant-Noord\")| \n",
    "              (df_sewage.Security_region_name == \"Brabant-Zuidoost\"), 'Province'] = \"Noord Brabant\"\n",
    "#df_sewage.loc[df_sewage.Security_region_name == \"Brabant-Noord\", 'Province'] = \"Noord Brabant\"\n",
    "#df_sewage.loc[df_sewage.Security_region_name == \"Brabant-Zuidoost\", 'Province'] = \"Noord Brabant\"\n",
    "\n",
    "df_sewage.loc[(df_sewage.Security_region_name == \"IJsselland\")|\n",
    "              (df_sewage.Security_region_name == \"Ijsselland\")|\n",
    "              (df_sewage.Security_region_name == \"Twente\"), 'Province'] = \"Overijssel\"\n",
    "# df_sewage.loc[df_sewage.Security_region_name == \"Ijsselland\", 'Province'] = \"Overijssel\"\n",
    "# df_sewage.loc[df_sewage.Security_region_name == \"Twente\", 'Province'] = \"Overijssel\"\n",
    "\n",
    "df_sewage.loc[(df_sewage.Security_region_name == \"Gelderland-Midden\")|\n",
    "              (df_sewage.Security_region_name == \"Gelderland-Zuid\")|\n",
    "              (df_sewage.Security_region_name == \"Noord- en Oost-Gelderland\"), 'Province'] = \"Gelderland\"\n",
    "# df_sewage.loc[df_sewage.Security_region_name == \"Gelderland-Zuid\", 'Province'] = \"Gelderland\"\n",
    "# df_sewage.loc[df_sewage.Security_region_name == \"Noord- en Oost-Gelderland\", 'Province'] = \"Gelderland\"\n",
    "\n",
    "df_sewage.loc[(df_sewage.Security_region_name == \"Kennemerland\")|\n",
    "              (df_sewage.Security_region_name == \"Noord-Holland-Noord\")|\n",
    "              (df_sewage.Security_region_name == \"Zaanstreek-Waterland\")|\n",
    "              (df_sewage.Security_region_name == \"Amsterdam-Amstelland\")|\n",
    "              (df_sewage.Security_region_name == \"Gooi en Vechtstreek\"), 'Province'] = \"Noord Holland\"\n",
    "# df_sewage.loc[df_sewage.Security_region_name == \"Noord-Holland-Noord\", 'Province'] = \"Noord Holland\"\n",
    "# df_sewage.loc[df_sewage.Security_region_name == \"Zaanstreek-Waterland\", 'Province'] = \"Noord Holland\"\n",
    "# df_sewage.loc[df_sewage.Security_region_name == \"Amsterdam-Amstelland\", 'Province'] = \"Noord Holland\"\n",
    "# df_sewage.loc[df_sewage.Security_region_name == \"Gooi en Vechtstreek\", 'Province'] = \"Noord Holland\"\n",
    "\n",
    "df_sewage.loc[(df_sewage.Security_region_name == \"Hollands-Midden\")|\n",
    "              (df_sewage.Security_region_name == \"Haaglanden\")|\n",
    "              (df_sewage.Security_region_name == \"Rotterdam-Rijnmond\")|\n",
    "              (df_sewage.Security_region_name == \"Zuid-Holland-Zuid\"), 'Province'] = \"Zuid Holland\"\n",
    "# df_sewage.loc[df_sewage.Security_region_name == \"Haaglanden\", 'Province'] = \"Zuid Holland\"\n",
    "# df_sewage.loc[df_sewage.Security_region_name == \"Rotterdam-Rijnmond\", 'Province'] = \"Zuid Holland\"\n",
    "# df_sewage.loc[df_sewage.Security_region_name == \"Zuid-Holland-Zuid\", 'Province'] = \"Zuid Holland\"\n",
    "\n",
    "df_sewage.loc[(df_sewage.Security_region_name == \"Limburg-Noord\")|\n",
    "              (df_sewage.Security_region_name == \"Limburg-Zuid\"), 'Province'] = \"Limburg\"\n",
    "# df_sewage.loc[df_sewage.Security_region_name == \"Limburg-Zuid\", 'Province'] = \"Limburg\"\n",
    "\n",
    "df_sewage.loc[df_sewage.Security_region_name == \"Drenthe\", 'Province'] = \"Drenthe\"\n",
    "df_sewage.loc[df_sewage.Security_region_name == \"Groningen\", 'Province'] = \"Groningen\"\n",
    "df_sewage.loc[df_sewage.Security_region_name == \"Friesland\", 'Province'] = \"Friesland\"\n",
    "df_sewage.loc[df_sewage.Security_region_name == \"Utrecht\", 'Province'] = \"Utrecht\"\n",
    "df_sewage.loc[df_sewage.Security_region_name == \"Flevoland\", 'Province'] = \"Flevoland\"\n",
    "df_sewage.loc[df_sewage.Security_region_name == \"Zeeland\", 'Province'] = \"Zeeland\"\n",
    "\n",
    "df_sewage.nunique()\n",
    "\n",
    "# Lastly in the cases df there is both Fryslan and Friesland, Fryslan will be changed to Friesland\n",
    "df_cases.Province = df_cases.Province.replace({\"Fryslân\": \"Friesland\"})"
   ]
  },
  {
   "cell_type": "code",
   "execution_count": 5,
   "metadata": {},
   "outputs": [
    {
     "name": "stdout",
     "output_type": "stream",
     "text": [
      "Date_measurement                 object\n",
      "Security_region_name             object\n",
      "Percentage_in_security_region    object\n",
      "RNA_flow_per_100000              object\n",
      "Province                         object\n",
      "dtype: object\n"
     ]
    },
    {
     "data": {
      "text/html": [
       "<div>\n",
       "<style scoped>\n",
       "    .dataframe tbody tr th:only-of-type {\n",
       "        vertical-align: middle;\n",
       "    }\n",
       "\n",
       "    .dataframe tbody tr th {\n",
       "        vertical-align: top;\n",
       "    }\n",
       "\n",
       "    .dataframe thead th {\n",
       "        text-align: right;\n",
       "    }\n",
       "</style>\n",
       "<table border=\"1\" class=\"dataframe\">\n",
       "  <thead>\n",
       "    <tr style=\"text-align: right;\">\n",
       "      <th></th>\n",
       "      <th>Date_measurement</th>\n",
       "      <th>Security_region_name</th>\n",
       "      <th>Percentage_in_security_region</th>\n",
       "      <th>RNA_flow_per_100000</th>\n",
       "      <th>Province</th>\n",
       "    </tr>\n",
       "  </thead>\n",
       "  <tbody>\n",
       "    <tr>\n",
       "      <th>1266</th>\n",
       "      <td>2020-09-07</td>\n",
       "      <td>IJsselland</td>\n",
       "      <td>1</td>\n",
       "      <td>0</td>\n",
       "      <td>Overijssel</td>\n",
       "    </tr>\n",
       "    <tr>\n",
       "      <th>1267</th>\n",
       "      <td>2020-09-07</td>\n",
       "      <td>Limburg-Zuid</td>\n",
       "      <td>1</td>\n",
       "      <td>0</td>\n",
       "      <td>Limburg</td>\n",
       "    </tr>\n",
       "    <tr>\n",
       "      <th>1268</th>\n",
       "      <td>2020-09-07</td>\n",
       "      <td>Limburg-Noord</td>\n",
       "      <td>1</td>\n",
       "      <td>0</td>\n",
       "      <td>Limburg</td>\n",
       "    </tr>\n",
       "    <tr>\n",
       "      <th>1269</th>\n",
       "      <td>2020-09-07</td>\n",
       "      <td>Utrecht</td>\n",
       "      <td>1</td>\n",
       "      <td>0</td>\n",
       "      <td>Utrecht</td>\n",
       "    </tr>\n",
       "    <tr>\n",
       "      <th>1270</th>\n",
       "      <td>2020-09-07</td>\n",
       "      <td>Haaglanden</td>\n",
       "      <td>0,841309046</td>\n",
       "      <td>0</td>\n",
       "      <td>Zuid Holland</td>\n",
       "    </tr>\n",
       "  </tbody>\n",
       "</table>\n",
       "</div>"
      ],
      "text/plain": [
       "     Date_measurement Security_region_name Percentage_in_security_region  \\\n",
       "1266       2020-09-07           IJsselland                             1   \n",
       "1267       2020-09-07         Limburg-Zuid                             1   \n",
       "1268       2020-09-07        Limburg-Noord                             1   \n",
       "1269       2020-09-07              Utrecht                             1   \n",
       "1270       2020-09-07           Haaglanden                   0,841309046   \n",
       "\n",
       "      RNA_flow_per_100000      Province  \n",
       "1266                    0    Overijssel  \n",
       "1267                    0       Limburg  \n",
       "1268                    0       Limburg  \n",
       "1269                    0       Utrecht  \n",
       "1270                    0  Zuid Holland  "
      ]
     },
     "execution_count": 5,
     "metadata": {},
     "output_type": "execute_result"
    }
   ],
   "source": [
    "# remove the empty entries for the RNA column\n",
    "df_sewage = df_sewage.replace(r'^\\s*$', np.nan, regex=True)\n",
    "df_sewage.dropna(subset = [\"RNA_flow_per_100000\"], inplace=True)\n",
    "\n",
    "#checking data types of the sewage dataframe\n",
    "print(df_sewage.dtypes)\n",
    "# the datatypes for the date should be changed, \n",
    "#furthermore the datatype of the percentage and the RNA column should be changed\n",
    "df_sewage['Date_measurement'] = df_sewage['Date_measurement'].astype('datetime64[ns]')\n",
    "df_sewage['RNA_flow_per_100000'] = df_sewage['RNA_flow_per_100000'].astype('int64')\n",
    "\n",
    "#df_sewage[\"Percentage_in_security_region\"].replace({\",\": \".\"}, inplace=True)\n",
    "#df_sewage['Percentage_in_security_region'] = df_sewage['Percentage_in_security_region'].astype('float')\n",
    "\n",
    "df_sewage.head()"
   ]
  },
  {
   "cell_type": "markdown",
   "metadata": {},
   "source": [
    "### The Cases dataset is from 13th of March 2020 to the first of February 2021. However the sewage dataset is only from the 7th of September 2020 to the 27th of January 2021.\n",
    "#### To work with both datsets and being able to compare them all dates out of the sewage dates will be removed from the cases dataet. This way it will be more logical to compare the two together."
   ]
  },
  {
   "cell_type": "code",
   "execution_count": 6,
   "metadata": {},
   "outputs": [],
   "source": [
    "df_cases['Date_of_report'] =pd.to_datetime(df_cases.Date_of_report)\n",
    "#df_cases.dtypes\n",
    "\n",
    "start_date = pd.to_datetime('2020/09/07')\n",
    "end_date = pd.to_datetime('2021/01/28')\n",
    "mask = (df_cases['Date_of_report'] > start_date) & (df_cases['Date_of_report'] <= end_date)\n",
    "df_cases = df_cases.loc[mask]"
   ]
  },
  {
   "cell_type": "code",
   "execution_count": 7,
   "metadata": {},
   "outputs": [
    {
     "data": {
      "text/html": [
       "<div>\n",
       "<style scoped>\n",
       "    .dataframe tbody tr th:only-of-type {\n",
       "        vertical-align: middle;\n",
       "    }\n",
       "\n",
       "    .dataframe tbody tr th {\n",
       "        vertical-align: top;\n",
       "    }\n",
       "\n",
       "    .dataframe thead th {\n",
       "        text-align: right;\n",
       "    }\n",
       "</style>\n",
       "<table border=\"1\" class=\"dataframe\">\n",
       "  <thead>\n",
       "    <tr style=\"text-align: right;\">\n",
       "      <th></th>\n",
       "      <th>Date_of_report</th>\n",
       "      <th>Province</th>\n",
       "      <th>Total_reported</th>\n",
       "      <th>Hospital_admission</th>\n",
       "      <th>Deceased</th>\n",
       "    </tr>\n",
       "  </thead>\n",
       "  <tbody>\n",
       "    <tr>\n",
       "      <th>65326</th>\n",
       "      <td>2020-09-07 10:00:00</td>\n",
       "      <td>Groningen</td>\n",
       "      <td>7</td>\n",
       "      <td>3</td>\n",
       "      <td>0</td>\n",
       "    </tr>\n",
       "    <tr>\n",
       "      <th>65327</th>\n",
       "      <td>2020-09-07 10:00:00</td>\n",
       "      <td>Groningen</td>\n",
       "      <td>63</td>\n",
       "      <td>6</td>\n",
       "      <td>0</td>\n",
       "    </tr>\n",
       "    <tr>\n",
       "      <th>65328</th>\n",
       "      <td>2020-09-07 10:00:00</td>\n",
       "      <td>Groningen</td>\n",
       "      <td>335</td>\n",
       "      <td>18</td>\n",
       "      <td>3</td>\n",
       "    </tr>\n",
       "    <tr>\n",
       "      <th>65329</th>\n",
       "      <td>2020-09-07 10:00:00</td>\n",
       "      <td>Groningen</td>\n",
       "      <td>2</td>\n",
       "      <td>0</td>\n",
       "      <td>0</td>\n",
       "    </tr>\n",
       "    <tr>\n",
       "      <th>65330</th>\n",
       "      <td>2020-09-07 10:00:00</td>\n",
       "      <td>Flevoland</td>\n",
       "      <td>817</td>\n",
       "      <td>132</td>\n",
       "      <td>33</td>\n",
       "    </tr>\n",
       "  </tbody>\n",
       "</table>\n",
       "</div>"
      ],
      "text/plain": [
       "           Date_of_report   Province  Total_reported  Hospital_admission  \\\n",
       "65326 2020-09-07 10:00:00  Groningen               7                   3   \n",
       "65327 2020-09-07 10:00:00  Groningen              63                   6   \n",
       "65328 2020-09-07 10:00:00  Groningen             335                  18   \n",
       "65329 2020-09-07 10:00:00  Groningen               2                   0   \n",
       "65330 2020-09-07 10:00:00  Flevoland             817                 132   \n",
       "\n",
       "       Deceased  \n",
       "65326         0  \n",
       "65327         0  \n",
       "65328         3  \n",
       "65329         0  \n",
       "65330        33  "
      ]
     },
     "execution_count": 7,
     "metadata": {},
     "output_type": "execute_result"
    }
   ],
   "source": [
    "# furthermore the columns with useless values (for this research) will be removed\n",
    "df_cases = df_cases.drop([\"Municipality_code\", \"Municipality_name\"], axis = 1)\n",
    "df_cases.head()"
   ]
  },
  {
   "cell_type": "code",
   "execution_count": 8,
   "metadata": {
    "scrolled": true
   },
   "outputs": [],
   "source": [
    "df_cases = df_cases.rename(columns={'Date_of_report': 'Date_measurement'})"
   ]
  },
  {
   "cell_type": "markdown",
   "metadata": {},
   "source": [
    "## Data comparison\n",
    "#### Now that both datasets have been cleaned an filtered, we can take a closer look to the data itself\n",
    "Because the data is so extensive we will first take a closer look at two provinces (Groningen and Friesland). \n",
    "We will then graph the cases of Groningen to the cases of Friesland.\n",
    "Furthermore we will graph the cases compared to the amount of virus particles in the sewage water."
   ]
  },
  {
   "cell_type": "markdown",
   "metadata": {},
   "source": [
    "#### Looking at all the provinces"
   ]
  },
  {
   "cell_type": "code",
   "execution_count": 9,
   "metadata": {},
   "outputs": [],
   "source": [
    "# Remove the time stamp on the date_measurements column in the cases for easier use throughout the research\n",
    "df_cases['Date_measurement'] = pd.to_datetime(df_cases['Date_measurement']).dt.date\n",
    "df_cases['Date_measurement'] =pd.to_datetime(df_cases.Date_measurement)\n"
   ]
  },
  {
   "cell_type": "code",
   "execution_count": 10,
   "metadata": {
    "scrolled": true
   },
   "outputs": [
    {
     "data": {
      "text/plain": [
       "array(['Groningen', 'Flevoland', 'Friesland', 'Drenthe', 'Overijssel',\n",
       "       'Gelderland', 'Utrecht', 'Noord-Holland', 'Zuid-Holland',\n",
       "       'Zeeland', 'Noord-Brabant', 'Limburg'], dtype=object)"
      ]
     },
     "execution_count": 10,
     "metadata": {},
     "output_type": "execute_result"
    }
   ],
   "source": [
    "df_cases['Province'].unique()"
   ]
  },
  {
   "cell_type": "code",
   "execution_count": 11,
   "metadata": {},
   "outputs": [],
   "source": [
    "# for easier comparison between the provinces for each date and province the total sum will be taken\n",
    "cases = df_cases.groupby(by=(['Date_measurement', 'Province'])).agg({'Total_reported': 'sum',\n",
    "                                                                   'Hospital_admission': 'sum',\n",
    "                                                                    'Deceased' : 'sum'\n",
    "                                                                   }).reset_index()\n",
    "sewage = df_sewage.groupby(by=(['Date_measurement', 'Province'])).agg({'RNA_flow_per_100000': 'sum'}).reset_index()"
   ]
  },
  {
   "cell_type": "code",
   "execution_count": 12,
   "metadata": {},
   "outputs": [
    {
     "data": {
      "text/html": [
       "<div>\n",
       "<style scoped>\n",
       "    .dataframe tbody tr th:only-of-type {\n",
       "        vertical-align: middle;\n",
       "    }\n",
       "\n",
       "    .dataframe tbody tr th {\n",
       "        vertical-align: top;\n",
       "    }\n",
       "\n",
       "    .dataframe thead th {\n",
       "        text-align: right;\n",
       "    }\n",
       "</style>\n",
       "<table border=\"1\" class=\"dataframe\">\n",
       "  <thead>\n",
       "    <tr style=\"text-align: right;\">\n",
       "      <th></th>\n",
       "      <th>Date_measurement</th>\n",
       "      <th>Province</th>\n",
       "      <th>RNA_flow_per_100000</th>\n",
       "    </tr>\n",
       "  </thead>\n",
       "  <tbody>\n",
       "    <tr>\n",
       "      <th>0</th>\n",
       "      <td>2020-01-25</td>\n",
       "      <td>Noord Brabant</td>\n",
       "      <td>7481744116612</td>\n",
       "    </tr>\n",
       "    <tr>\n",
       "      <th>1</th>\n",
       "      <td>2020-09-07</td>\n",
       "      <td>Gelderland</td>\n",
       "      <td>2206509031616</td>\n",
       "    </tr>\n",
       "    <tr>\n",
       "      <th>2</th>\n",
       "      <td>2020-09-07</td>\n",
       "      <td>Groningen</td>\n",
       "      <td>8344858763141</td>\n",
       "    </tr>\n",
       "    <tr>\n",
       "      <th>3</th>\n",
       "      <td>2020-09-07</td>\n",
       "      <td>Limburg</td>\n",
       "      <td>4173341445197</td>\n",
       "    </tr>\n",
       "    <tr>\n",
       "      <th>4</th>\n",
       "      <td>2020-09-07</td>\n",
       "      <td>Noord Brabant</td>\n",
       "      <td>25795176368127</td>\n",
       "    </tr>\n",
       "  </tbody>\n",
       "</table>\n",
       "</div>"
      ],
      "text/plain": [
       "  Date_measurement       Province  RNA_flow_per_100000\n",
       "0       2020-01-25  Noord Brabant        7481744116612\n",
       "1       2020-09-07     Gelderland        2206509031616\n",
       "2       2020-09-07      Groningen        8344858763141\n",
       "3       2020-09-07        Limburg        4173341445197\n",
       "4       2020-09-07  Noord Brabant       25795176368127"
      ]
     },
     "execution_count": 12,
     "metadata": {},
     "output_type": "execute_result"
    }
   ],
   "source": [
    "sewage.head()"
   ]
  },
  {
   "cell_type": "code",
   "execution_count": null,
   "metadata": {},
   "outputs": [],
   "source": []
  },
  {
   "cell_type": "code",
   "execution_count": 13,
   "metadata": {},
   "outputs": [
    {
     "data": {
      "image/png": "[encoded data removed]",
      "text/plain": [
       "<Figure size 432x288 with 2 Axes>"
      ]
     },
     "metadata": {
      "needs_background": "light"
     },
     "output_type": "display_data"
    }
   ],
   "source": [
    "# create a heatmap of the cases dataset\n",
    "\n",
    "cases['Date_measurement'] = cases.Date_measurement.astype('string')\n",
    "# pandas pivot\n",
    "heatmap1_data = pd.pivot_table(cases, values='Total_reported', \n",
    "                     index=['Province'], \n",
    "                     columns='Date_measurement')\n",
    "\n",
    "#heatmap\n",
    "heatmap = sns.heatmap(heatmap1_data, cmap=\"YlGnBu\")\n",
    "plt.show()"
   ]
  },
  {
   "cell_type": "markdown",
   "metadata": {},
   "source": [
    "#### In the heatmap above you can see that for most provinces the total number of cases gradually goes up. We can now also see that the cases are mostly seen in three 4 provinces, Gelderland, Noord-Brabant, Noord-Holland and Zuid-Holland. For a bit more explanation we quickly looked up the amount of people living in these provinces and if these are also the provinces with the most people:\n",
    "Groningen\t    582.649\n",
    "Friesland \t    646.092\n",
    "Drenthe\t\t    488.871\n",
    "Overijssel\t    1.142.360\n",
    "Flevoland\t    403.280\n",
    "Gelderland\t    2.031.123\n",
    "Utrecht\t        1.268.489\n",
    "Noord-Holland\t2.775.617\n",
    "Zuid-Holland\t3.607.150\n",
    "Zeeland         381.182\n",
    "Noord-Brabant\t2.495.107\n",
    "Limburg\t        1.115.805\n",
    "#### Looking at this we can indeed see that these are the provinces with at least 2 milion inhabitants per province."
   ]
  },
  {
   "cell_type": "code",
   "execution_count": 14,
   "metadata": {},
   "outputs": [
    {
     "data": {
      "image/png": "[encoded data removed]",
      "text/plain": [
       "<Figure size 432x288 with 2 Axes>"
      ]
     },
     "metadata": {
      "needs_background": "light"
     },
     "output_type": "display_data"
    }
   ],
   "source": [
    "# create a heatmap of the sewage dataset\n",
    "\n",
    "sewage['Date_measurement'] = sewage.Date_measurement.astype('string')\n",
    "# pandas pivot\n",
    "heatmap1_data = pd.pivot_table(sewage, values='RNA_flow_per_100000', \n",
    "                     index=['Province'], \n",
    "                     columns='Date_measurement')\n",
    "#heatmap\n",
    "heatmap = sns.heatmap(heatmap1_data, cmap=\"YlGnBu\")\n",
    "plt.show()"
   ]
  },
  {
   "cell_type": "markdown",
   "metadata": {},
   "source": [
    "#### From this heatmap we can already kinda conclude that the RNA particles in the sewage data do not seem like an accurate representation of the amount of corona cases in the netherlands.\n",
    "#### For further analyzation between the provices we will not look at the sewage data and focus on the total cases."
   ]
  },
  {
   "cell_type": "code",
   "execution_count": 42,
   "metadata": {},
   "outputs": [
    {
     "data": {
      "text/html": [
       "<div>\n",
       "<style scoped>\n",
       "    .dataframe tbody tr th:only-of-type {\n",
       "        vertical-align: middle;\n",
       "    }\n",
       "\n",
       "    .dataframe tbody tr th {\n",
       "        vertical-align: top;\n",
       "    }\n",
       "\n",
       "    .dataframe thead th {\n",
       "        text-align: right;\n",
       "    }\n",
       "</style>\n",
       "<table border=\"1\" class=\"dataframe\">\n",
       "  <thead>\n",
       "    <tr style=\"text-align: right;\">\n",
       "      <th></th>\n",
       "      <th>Date_measurement</th>\n",
       "      <th>Province</th>\n",
       "      <th>Total_reported</th>\n",
       "      <th>Hospital_admission</th>\n",
       "      <th>Deceased</th>\n",
       "    </tr>\n",
       "  </thead>\n",
       "  <tbody>\n",
       "    <tr>\n",
       "      <th>7</th>\n",
       "      <td>2020-09-07</td>\n",
       "      <td>Noord-Holland</td>\n",
       "      <td>13788</td>\n",
       "      <td>1726</td>\n",
       "      <td>832</td>\n",
       "    </tr>\n",
       "    <tr>\n",
       "      <th>19</th>\n",
       "      <td>2020-09-08</td>\n",
       "      <td>Noord-Holland</td>\n",
       "      <td>14092</td>\n",
       "      <td>1729</td>\n",
       "      <td>832</td>\n",
       "    </tr>\n",
       "    <tr>\n",
       "      <th>31</th>\n",
       "      <td>2020-09-09</td>\n",
       "      <td>Noord-Holland</td>\n",
       "      <td>14359</td>\n",
       "      <td>1729</td>\n",
       "      <td>832</td>\n",
       "    </tr>\n",
       "    <tr>\n",
       "      <th>43</th>\n",
       "      <td>2020-09-10</td>\n",
       "      <td>Noord-Holland</td>\n",
       "      <td>14581</td>\n",
       "      <td>1738</td>\n",
       "      <td>832</td>\n",
       "    </tr>\n",
       "    <tr>\n",
       "      <th>55</th>\n",
       "      <td>2020-09-11</td>\n",
       "      <td>Noord-Holland</td>\n",
       "      <td>14888</td>\n",
       "      <td>1743</td>\n",
       "      <td>834</td>\n",
       "    </tr>\n",
       "    <tr>\n",
       "      <th>...</th>\n",
       "      <td>...</td>\n",
       "      <td>...</td>\n",
       "      <td>...</td>\n",
       "      <td>...</td>\n",
       "      <td>...</td>\n",
       "    </tr>\n",
       "    <tr>\n",
       "      <th>1663</th>\n",
       "      <td>2021-01-23</td>\n",
       "      <td>Noord-Holland</td>\n",
       "      <td>159590</td>\n",
       "      <td>3369</td>\n",
       "      <td>1935</td>\n",
       "    </tr>\n",
       "    <tr>\n",
       "      <th>1675</th>\n",
       "      <td>2021-01-24</td>\n",
       "      <td>Noord-Holland</td>\n",
       "      <td>160373</td>\n",
       "      <td>3377</td>\n",
       "      <td>1937</td>\n",
       "    </tr>\n",
       "    <tr>\n",
       "      <th>1687</th>\n",
       "      <td>2021-01-25</td>\n",
       "      <td>Noord-Holland</td>\n",
       "      <td>160931</td>\n",
       "      <td>3388</td>\n",
       "      <td>1945</td>\n",
       "    </tr>\n",
       "    <tr>\n",
       "      <th>1699</th>\n",
       "      <td>2021-01-26</td>\n",
       "      <td>Noord-Holland</td>\n",
       "      <td>161760</td>\n",
       "      <td>3400</td>\n",
       "      <td>1958</td>\n",
       "    </tr>\n",
       "    <tr>\n",
       "      <th>1711</th>\n",
       "      <td>2021-01-27</td>\n",
       "      <td>Noord-Holland</td>\n",
       "      <td>162544</td>\n",
       "      <td>3410</td>\n",
       "      <td>1965</td>\n",
       "    </tr>\n",
       "  </tbody>\n",
       "</table>\n",
       "<p>143 rows × 5 columns</p>\n",
       "</div>"
      ],
      "text/plain": [
       "     Date_measurement       Province  Total_reported  Hospital_admission  \\\n",
       "7          2020-09-07  Noord-Holland           13788                1726   \n",
       "19         2020-09-08  Noord-Holland           14092                1729   \n",
       "31         2020-09-09  Noord-Holland           14359                1729   \n",
       "43         2020-09-10  Noord-Holland           14581                1738   \n",
       "55         2020-09-11  Noord-Holland           14888                1743   \n",
       "...               ...            ...             ...                 ...   \n",
       "1663       2021-01-23  Noord-Holland          159590                3369   \n",
       "1675       2021-01-24  Noord-Holland          160373                3377   \n",
       "1687       2021-01-25  Noord-Holland          160931                3388   \n",
       "1699       2021-01-26  Noord-Holland          161760                3400   \n",
       "1711       2021-01-27  Noord-Holland          162544                3410   \n",
       "\n",
       "      Deceased  \n",
       "7          832  \n",
       "19         832  \n",
       "31         832  \n",
       "43         832  \n",
       "55         834  \n",
       "...        ...  \n",
       "1663      1935  \n",
       "1675      1937  \n",
       "1687      1945  \n",
       "1699      1958  \n",
       "1711      1965  \n",
       "\n",
       "[143 rows x 5 columns]"
      ]
     },
     "execution_count": 42,
     "metadata": {},
     "output_type": "execute_result"
    }
   ],
   "source": [
    "NH"
   ]
  },
  {
   "cell_type": "code",
   "execution_count": 46,
   "metadata": {},
   "outputs": [
    {
     "name": "stdout",
     "output_type": "stream",
     "text": [
      "KruskalResult(statistic=1714.9999999999995, pvalue=0.0)\n"
     ]
    },
    {
     "data": {
      "image/png": "[encoded data removed]",
      "text/plain": [
       "<Figure size 432x288 with 4 Axes>"
      ]
     },
     "metadata": {
      "needs_background": "light"
     },
     "output_type": "display_data"
    }
   ],
   "source": [
    "from scipy import stats\n",
    "\n",
    "# Lets take a look at the normalization of the total amount of corona cases\n",
    "cases.hist()\n",
    "# none of the three columns is normally distributed but follows a more chi square distribution\n",
    "# to do a statistical test where we can test multiple different aspects like we would normally use the ANOVA\n",
    "# we will have to look for an alternative for non parametric data.\n",
    "# We will execute the Kruskal-Wallis H-test as an alternative option for the ANOVE on non parametric data.\n",
    "NB = cases[(cases['Province'] == 'Noord-Brabant')]\n",
    "O = cases[(cases['Province'] == 'Overijssel')]\n",
    "Gl = cases[(cases['Province'] == 'Gelderland')]\n",
    "NH = cases[(cases['Province'] == 'Noord-Holland')]\n",
    "ZH = cases[(cases['Province'] == 'Zuid-Holland')]\n",
    "L = cases[(cases['Province'] == 'Limburg')]\n",
    "D = cases[(cases['Province'] == 'Drenthe')]\n",
    "G = cases[(cases['Province'] == 'Groningen')]\n",
    "F = cases[(cases['Province'] == 'Friesland')]\n",
    "U = cases[(cases['Province'] == 'Utrecht')]\n",
    "Fl = cases[(cases['Province'] == 'Flevoland')]\n",
    "Z = cases[(cases['Province'] == 'Zeeland')]\n",
    "\n",
    "\n",
    "result = stats.kruskal(NB.Province, O.Province, Gl.Province, NH.Province, ZH.Province, \n",
    "              L.Province, D.Province, G.Province, F.Province, U.Province, Fl.Province, Z.Province)\n",
    "\n",
    "print(result)\n"
   ]
  },
  {
   "cell_type": "raw",
   "metadata": {},
   "source": [
    "From these results we can conclude that de cases df is not normally distributed but almost chi square distributed. And from the results of the Kruskal-Wallis H-test we can see that it got a pvalue of 0.0.\n",
    "The p-value for the test using the assumption that H has a chi square distribution. The p-value returned is the survival function of the chi square distribution evaluated at H. because P-value of 0 is smaller than 0.05 we can reject the 0 hypothesis and say that the provinces are not equally distributed. "
   ]
  },
  {
   "cell_type": "markdown",
   "metadata": {},
   "source": [
    "#### Zooming in on Groningen en Friesland"
   ]
  },
  {
   "cell_type": "code",
   "execution_count": 16,
   "metadata": {},
   "outputs": [],
   "source": [
    "# first lets create a simple graph visualizing the data in lines, to see if they follow the same curvation\n",
    "cases_g = df_cases[(df_cases['Province'] == 'Groningen')]\n",
    "cases_f = df_cases[(df_cases['Province'] == 'Friesland')]\n",
    "sewage_g = df_sewage[(df_sewage['Province'] == 'Groningen')]\n",
    "sewage_f = df_sewage[(df_sewage['Province'] == 'Friesland')]"
   ]
  },
  {
   "cell_type": "code",
   "execution_count": 17,
   "metadata": {},
   "outputs": [],
   "source": [
    "cases_g_sum = cases_g.groupby(by='Date_measurement').agg({'Total_reported': 'sum'})\n",
    "\n",
    "cases_f_sum = cases_f.groupby(by='Date_measurement').agg({'Total_reported': 'sum'})\n",
    "\n",
    "sewage_g_sum = sewage_g.groupby(by='Date_measurement').agg({'RNA_flow_per_100000': 'sum'})\n",
    "\n",
    "sewage_f_sum = sewage_f.groupby(by='Date_measurement').agg({'RNA_flow_per_100000': 'sum'})"
   ]
  },
  {
   "cell_type": "code",
   "execution_count": 18,
   "metadata": {},
   "outputs": [
    {
     "data": {
      "text/html": [
       "<div>\n",
       "<style scoped>\n",
       "    .dataframe tbody tr th:only-of-type {\n",
       "        vertical-align: middle;\n",
       "    }\n",
       "\n",
       "    .dataframe tbody tr th {\n",
       "        vertical-align: top;\n",
       "    }\n",
       "\n",
       "    .dataframe thead th {\n",
       "        text-align: right;\n",
       "    }\n",
       "</style>\n",
       "<table border=\"1\" class=\"dataframe\">\n",
       "  <thead>\n",
       "    <tr style=\"text-align: right;\">\n",
       "      <th></th>\n",
       "      <th>RNA_flow_per_100000</th>\n",
       "    </tr>\n",
       "    <tr>\n",
       "      <th>Date_measurement</th>\n",
       "      <th></th>\n",
       "    </tr>\n",
       "  </thead>\n",
       "  <tbody>\n",
       "    <tr>\n",
       "      <th>2020-09-08</th>\n",
       "      <td>83680804596726</td>\n",
       "    </tr>\n",
       "    <tr>\n",
       "      <th>2020-09-15</th>\n",
       "      <td>42049447262665</td>\n",
       "    </tr>\n",
       "    <tr>\n",
       "      <th>2020-09-22</th>\n",
       "      <td>96108538420255</td>\n",
       "    </tr>\n",
       "    <tr>\n",
       "      <th>2020-09-29</th>\n",
       "      <td>188207079567760</td>\n",
       "    </tr>\n",
       "    <tr>\n",
       "      <th>2020-10-06</th>\n",
       "      <td>534779001494232</td>\n",
       "    </tr>\n",
       "  </tbody>\n",
       "</table>\n",
       "</div>"
      ],
      "text/plain": [
       "                  RNA_flow_per_100000\n",
       "Date_measurement                     \n",
       "2020-09-08             83680804596726\n",
       "2020-09-15             42049447262665\n",
       "2020-09-22             96108538420255\n",
       "2020-09-29            188207079567760\n",
       "2020-10-06            534779001494232"
      ]
     },
     "execution_count": 18,
     "metadata": {},
     "output_type": "execute_result"
    }
   ],
   "source": [
    "# checking all the datapoints I noticed that the data starts with 09-07 for the Groningen datapoint\n",
    "# but for the sewage data on Friesland it started on the 09-08\n",
    "# This should not cause to many problems for now, so we are keeping the data as it is for now.\n",
    "sewage_f_sum.head(5)"
   ]
  },
  {
   "cell_type": "markdown",
   "metadata": {},
   "source": [
    "The next step is normalizing the data, this way it is easier to graph both datasets at the same time."
   ]
  },
  {
   "cell_type": "code",
   "execution_count": 19,
   "metadata": {},
   "outputs": [],
   "source": [
    "# from sklearn import preprocessing\n",
    "\n",
    "# def normalize(data):\n",
    "#     \"\"\"\n",
    "#     Normalizes the data to a scale of 1. This is done to be able to better graph the two datasets\n",
    "#     together later on in this project.\n",
    "#     \"\"\"\n",
    "def normalize(df):\n",
    "    \"\"\"\n",
    "    Normalizes the data to a scale of 1. This is done to be able to better graph the two datasets\n",
    "    together later on in this project.\n",
    "    \"\"\"\n",
    "    return (df - df.min()) * 1.0 / (df.max() - df.min())\n",
    "\n",
    "norm_sf = normalize(sewage_f_sum)\n",
    "norm_sg = normalize(sewage_g_sum)\n",
    "\n",
    "norm_cf = normalize(cases_f_sum)\n",
    "norm_cg = normalize(cases_f_sum)\n",
    "\n",
    "# put the dates in as regular columns again\n",
    "def reset_ind (df):\n",
    "    df.reset_index(level=0, inplace=True)\n",
    "    return df\n",
    "\n",
    "norm_sf = reset_ind(norm_sf)\n",
    "norm_sg = reset_ind(norm_sg)\n",
    "\n",
    "norm_cf = reset_ind(norm_cf)\n",
    "norm_cg = reset_ind(norm_cg)"
   ]
  },
  {
   "cell_type": "code",
   "execution_count": 20,
   "metadata": {},
   "outputs": [],
   "source": [
    "# # next the normalized datasets will be combined into two datasets based on Province\n",
    "\n",
    "df_F = pd.merge(norm_cf, norm_sf, on=\"Date_measurement\", how='outer')\n",
    "df_G = pd.merge(norm_cg, norm_sg, on=\"Date_measurement\", how='outer')"
   ]
  },
  {
   "cell_type": "code",
   "execution_count": 21,
   "metadata": {},
   "outputs": [],
   "source": [
    "def plot(df, title):\n",
    "    p = figure(width=500, plot_height=500, title=title,\n",
    "           x_axis_type=\"datetime\", x_axis_label='Date', y_axis_label=\"normalized value\")\n",
    "    p.line(df['Date_measurement'], df['Total_reported'], line_width =2, color=\"navy\", \n",
    "        alpha=0.5, legend_label=\"Total reported cases\")\n",
    "    p.square(df['Date_measurement'], df['RNA_flow_per_100000'], line_width =2, color=\"hotpink\", \n",
    "        alpha=0.5, legend_label=\"RNA particles sewage\")  \n",
    "    \n",
    "    p.legend.location = \"top_left\"\n",
    "    p.legend.click_policy=\"hide\"\n",
    "    \n",
    "    return p\n",
    "\n",
    "show(plot(df_F, \"Corona Friesland\"))\n",
    "show(plot(df_G, \"Corona Groningen\"))"
   ]
  },
  {
   "cell_type": "markdown",
   "metadata": {},
   "source": [
    "From the plots above we can't really draw any conclusions. Looking at the first plot we don't neccesarily see that the total amount of corona cases correlates with the RNA particles found in the sewage. When looking at the dataset from Groningen we can see that it sort of looks like the amount of virus particles found in the sewage is going up, but again it is not really clear when looking at the graph.\n",
    "\n",
    "We need a better way of finding a correlation between the total reported cases and the RNA particles in the sewage. We can take a quick look at the correlation value between the two."
   ]
  },
  {
   "cell_type": "code",
   "execution_count": 22,
   "metadata": {},
   "outputs": [
    {
     "name": "stdout",
     "output_type": "stream",
     "text": [
      "correlation between total cases and RNA flow per 100000 in sewage in the province Friesland\n"
     ]
    },
    {
     "data": {
      "text/html": [
       "<style  type=\"text/css\" >\n",
       "#T_773cb781_78e4_11eb_8c39_7085c2be34f7row0_col0,#T_773cb781_78e4_11eb_8c39_7085c2be34f7row1_col1{\n",
       "            background-color:  #b40426;\n",
       "            color:  #f1f1f1;\n",
       "        }#T_773cb781_78e4_11eb_8c39_7085c2be34f7row0_col1,#T_773cb781_78e4_11eb_8c39_7085c2be34f7row1_col0{\n",
       "            background-color:  #3b4cc0;\n",
       "            color:  #f1f1f1;\n",
       "        }</style><table id=\"T_773cb781_78e4_11eb_8c39_7085c2be34f7\" ><thead>    <tr>        <th class=\"blank level0\" ></th>        <th class=\"col_heading level0 col0\" >Total_reported</th>        <th class=\"col_heading level0 col1\" >RNA_flow_per_100000</th>    </tr></thead><tbody>\n",
       "                <tr>\n",
       "                        <th id=\"T_773cb781_78e4_11eb_8c39_7085c2be34f7level0_row0\" class=\"row_heading level0 row0\" >Total_reported</th>\n",
       "                        <td id=\"T_773cb781_78e4_11eb_8c39_7085c2be34f7row0_col0\" class=\"data row0 col0\" >1.000000</td>\n",
       "                        <td id=\"T_773cb781_78e4_11eb_8c39_7085c2be34f7row0_col1\" class=\"data row0 col1\" >0.327299</td>\n",
       "            </tr>\n",
       "            <tr>\n",
       "                        <th id=\"T_773cb781_78e4_11eb_8c39_7085c2be34f7level0_row1\" class=\"row_heading level0 row1\" >RNA_flow_per_100000</th>\n",
       "                        <td id=\"T_773cb781_78e4_11eb_8c39_7085c2be34f7row1_col0\" class=\"data row1 col0\" >0.327299</td>\n",
       "                        <td id=\"T_773cb781_78e4_11eb_8c39_7085c2be34f7row1_col1\" class=\"data row1 col1\" >1.000000</td>\n",
       "            </tr>\n",
       "    </tbody></table>"
      ],
      "text/plain": [
       "<pandas.io.formats.style.Styler at 0x2afe1e48460>"
      ]
     },
     "execution_count": 22,
     "metadata": {},
     "output_type": "execute_result"
    }
   ],
   "source": [
    "corr = df_F.corr()\n",
    "print(\"correlation between total cases and RNA flow per 100000 in sewage in the province Friesland\")\n",
    "corr.style.background_gradient(cmap='coolwarm')"
   ]
  },
  {
   "cell_type": "code",
   "execution_count": 23,
   "metadata": {},
   "outputs": [
    {
     "name": "stdout",
     "output_type": "stream",
     "text": [
      "correlation between total cases and RNA flow per 100000 in sewage in the province Groningen\n"
     ]
    },
    {
     "data": {
      "text/html": [
       "<style  type=\"text/css\" >\n",
       "#T_773e654b_78e4_11eb_8b02_7085c2be34f7row0_col0,#T_773e654b_78e4_11eb_8b02_7085c2be34f7row1_col1{\n",
       "            background-color:  #b40426;\n",
       "            color:  #f1f1f1;\n",
       "        }#T_773e654b_78e4_11eb_8b02_7085c2be34f7row0_col1,#T_773e654b_78e4_11eb_8b02_7085c2be34f7row1_col0{\n",
       "            background-color:  #3b4cc0;\n",
       "            color:  #f1f1f1;\n",
       "        }</style><table id=\"T_773e654b_78e4_11eb_8b02_7085c2be34f7\" ><thead>    <tr>        <th class=\"blank level0\" ></th>        <th class=\"col_heading level0 col0\" >Total_reported</th>        <th class=\"col_heading level0 col1\" >RNA_flow_per_100000</th>    </tr></thead><tbody>\n",
       "                <tr>\n",
       "                        <th id=\"T_773e654b_78e4_11eb_8b02_7085c2be34f7level0_row0\" class=\"row_heading level0 row0\" >Total_reported</th>\n",
       "                        <td id=\"T_773e654b_78e4_11eb_8b02_7085c2be34f7row0_col0\" class=\"data row0 col0\" >1.000000</td>\n",
       "                        <td id=\"T_773e654b_78e4_11eb_8b02_7085c2be34f7row0_col1\" class=\"data row0 col1\" >0.217100</td>\n",
       "            </tr>\n",
       "            <tr>\n",
       "                        <th id=\"T_773e654b_78e4_11eb_8b02_7085c2be34f7level0_row1\" class=\"row_heading level0 row1\" >RNA_flow_per_100000</th>\n",
       "                        <td id=\"T_773e654b_78e4_11eb_8b02_7085c2be34f7row1_col0\" class=\"data row1 col0\" >0.217100</td>\n",
       "                        <td id=\"T_773e654b_78e4_11eb_8b02_7085c2be34f7row1_col1\" class=\"data row1 col1\" >1.000000</td>\n",
       "            </tr>\n",
       "    </tbody></table>"
      ],
      "text/plain": [
       "<pandas.io.formats.style.Styler at 0x2afedf6ad60>"
      ]
     },
     "execution_count": 23,
     "metadata": {},
     "output_type": "execute_result"
    }
   ],
   "source": [
    "corr = df_G.corr()\n",
    "print(\"correlation between total cases and RNA flow per 100000 in sewage in the province Groningen\")\n",
    "corr.style.background_gradient(cmap='coolwarm')"
   ]
  },
  {
   "cell_type": "markdown",
   "metadata": {},
   "source": [
    "We can see in the correlations above that the dataset from Friesland seems to have a slightly higher correlation but both provinces do not have a strong correlation with one another.\n",
    "\n",
    "To further analyze, we should first look if the datasets are both normally distributed"
   ]
  },
  {
   "cell_type": "code",
   "execution_count": 24,
   "metadata": {},
   "outputs": [
    {
     "data": {
      "text/plain": [
       "array([[<AxesSubplot:title={'center':'Total_reported'}>,\n",
       "        <AxesSubplot:title={'center':'RNA_flow_per_100000'}>]],\n",
       "      dtype=object)"
      ]
     },
     "execution_count": 24,
     "metadata": {},
     "output_type": "execute_result"
    },
    {
     "data": {
      "image/png": "[encoded data removed]",
      "text/plain": [
       "<Figure size 432x288 with 2 Axes>"
      ]
     },
     "metadata": {
      "needs_background": "light"
     },
     "output_type": "display_data"
    },
    {
     "data": {
      "image/png": "[encoded data removed]",
      "text/plain": [
       "<Figure size 432x288 with 2 Axes>"
      ]
     },
     "metadata": {
      "needs_background": "light"
     },
     "output_type": "display_data"
    }
   ],
   "source": [
    "df_G.hist()\n",
    "df_F.hist()"
   ]
  },
  {
   "cell_type": "markdown",
   "metadata": {},
   "source": [
    "### Neither dataset is normally distributed. Lastly we will perform an statistical test comparing the total cases of Groningen and Friesland, and the RNA particles in sewage of Groningen and Friesland.For this we can choose between three statistical tests: \n",
    "#### The Mann-Whitney U test for comparing independent data samples: the nonparametric version of the Student t-test.\n",
    "#### The Wilcoxon signed-rank test for comparing paired data samples: the nonparametric version of the paired Student t-test.\n",
    "#### The Kruskal-Wallis H and Friedman tests for comparing more than two data samples: the nonparametric version of the ANOVA and repeated measures ANOVA tests.\n",
    "\n",
    "We chose the Mann-Whitney U test because we are comparing two groups of independent data samples. which as shown in the histogram are non parametric"
   ]
  },
  {
   "cell_type": "code",
   "execution_count": 25,
   "metadata": {},
   "outputs": [
    {
     "name": "stdout",
     "output_type": "stream",
     "text": [
      "Statistics=10224.500, p=0.500\n",
      "Same distribution (fail to reject H0)\n"
     ]
    },
    {
     "data": {
      "text/plain": [
       "'\\nAs we could already see in the histogram the distribution of the two were almost the same. \\nFrom this we can conclude that both Groningen as Friesland followed the same distribution when it comes to \\nthe total amount of corona cases.\\n'"
      ]
     },
     "execution_count": 25,
     "metadata": {},
     "output_type": "execute_result"
    }
   ],
   "source": [
    "from scipy.stats import mannwhitneyu\n",
    "# compare samples\n",
    "stat, p = mannwhitneyu(df_G['Total_reported'], df_F['Total_reported'])\n",
    "print('Statistics=%.3f, p=%.3f' % (stat, p))\n",
    "# interpret\n",
    "alpha = 0.05\n",
    "if p > alpha:\n",
    "\tprint('Same distribution (fail to reject H0)')\n",
    "else:\n",
    "\tprint('Different distribution (reject H0)')\n",
    "    \n",
    "\"\"\"\n",
    "As we could already see in the histogram the distribution of the two were almost the same. \n",
    "From this we can conclude that both Groningen as Friesland followed the same distribution when it comes to \n",
    "the total amount of corona cases.\n",
    "\"\"\" "
   ]
  },
  {
   "cell_type": "code",
   "execution_count": 26,
   "metadata": {
    "scrolled": true
   },
   "outputs": [
    {
     "name": "stdout",
     "output_type": "stream",
     "text": [
      "Statistics=4525.000, p=0.000\n",
      "Different distribution (reject H0)\n"
     ]
    },
    {
     "data": {
      "text/plain": [
       "'\\nWhen it comes to the distribution of the RNA corona particles in the sewage the distribution is not the same.\\nIn the histogram you can already see this a little bit, but it is not really clear if this is really the case.\\nFrom this we can conclude that Groningen and Friesland follow a different distribution when it comes to\\nthe amount of virus particles in the sewage water.\\n'"
      ]
     },
     "execution_count": 26,
     "metadata": {},
     "output_type": "execute_result"
    }
   ],
   "source": [
    "from scipy.stats import mannwhitneyu\n",
    "# compare samples\n",
    "stat, p = mannwhitneyu(df_G['RNA_flow_per_100000'], df_F['RNA_flow_per_100000'])\n",
    "print('Statistics=%.3f, p=%.3f' % (stat, p))\n",
    "# interpret\n",
    "alpha = 0.05\n",
    "if p > alpha:\n",
    "\tprint('Same distribution (fail to reject H0)')\n",
    "else:\n",
    "\tprint('Different distribution (reject H0)')\n",
    "    \n",
    "\"\"\"\n",
    "When it comes to the distribution of the RNA corona particles in the sewage the distribution is not the same.\n",
    "In the histogram you can already see this a little bit, but it is not really clear if this is really the case.\n",
    "From this we can conclude that Groningen and Friesland follow a different distribution when it comes to\n",
    "the amount of virus particles in the sewage water.\n",
    "\"\"\" "
   ]
  },
  {
   "cell_type": "markdown",
   "metadata": {},
   "source": [
    "#### As an extra because the data was kinda dissapointing from my expectations I wanted to make a map with the corona cases. This code will be below here\n"
   ]
  },
  {
   "cell_type": "code",
   "execution_count": 48,
   "metadata": {},
   "outputs": [
    {
     "ename": "ModuleNotFoundError",
     "evalue": "No module named 'geopandas'",
     "output_type": "error",
     "traceback": [
      "\u001b[1;31m---------------------------------------------------------------------------\u001b[0m",
      "\u001b[1;31mModuleNotFoundError\u001b[0m                       Traceback (most recent call last)",
      "\u001b[1;32m<ipython-input-48-87b586f4ff5b>\u001b[0m in \u001b[0;36m<module>\u001b[1;34m\u001b[0m\n\u001b[0;32m      3\u001b[0m \u001b[1;32mimport\u001b[0m \u001b[0murllib\u001b[0m\u001b[1;33m.\u001b[0m\u001b[0mrequest\u001b[0m \u001b[1;32mas\u001b[0m \u001b[0mrq\u001b[0m\u001b[1;33m\u001b[0m\u001b[1;33m\u001b[0m\u001b[0m\n\u001b[0;32m      4\u001b[0m \u001b[1;32mfrom\u001b[0m \u001b[0mbs4\u001b[0m \u001b[1;32mimport\u001b[0m \u001b[0mBeautifulSoup\u001b[0m \u001b[1;32mas\u001b[0m \u001b[0mbs\u001b[0m\u001b[1;33m\u001b[0m\u001b[1;33m\u001b[0m\u001b[0m\n\u001b[1;32m----> 5\u001b[1;33m \u001b[1;32mimport\u001b[0m \u001b[0mgeopandas\u001b[0m \u001b[1;32mas\u001b[0m \u001b[0mgpd\u001b[0m\u001b[1;33m\u001b[0m\u001b[1;33m\u001b[0m\u001b[0m\n\u001b[0m\u001b[0;32m      6\u001b[0m \u001b[1;32mfrom\u001b[0m \u001b[0mshapely\u001b[0m \u001b[1;32mimport\u001b[0m \u001b[0mgeometry\u001b[0m\u001b[1;33m\u001b[0m\u001b[1;33m\u001b[0m\u001b[0m\n\u001b[0;32m      7\u001b[0m \u001b[1;32mimport\u001b[0m \u001b[0mmatplotlib\u001b[0m\u001b[1;33m.\u001b[0m\u001b[0mpyplot\u001b[0m \u001b[1;32mas\u001b[0m \u001b[0mplt\u001b[0m\u001b[1;33m\u001b[0m\u001b[1;33m\u001b[0m\u001b[0m\n",
      "\u001b[1;31mModuleNotFoundError\u001b[0m: No module named 'geopandas'"
     ]
    }
   ],
   "source": [
    "import pandas as pd\n",
    "import numpy as np\n",
    "import urllib.request as rq\n",
    "from bs4 import BeautifulSoup as bs\n",
    "import geopandas as gpd\n",
    "from shapely import geometry\n",
    "import matplotlib.pyplot as plt\n",
    "from shutil import copyfile\n",
    "import subprocess\n",
    "from IPython.display import Video\n",
    "\n",
    "%matplotlib inline"
   ]
  },
  {
   "cell_type": "code",
   "execution_count": null,
   "metadata": {},
   "outputs": [],
   "source": [
    "## First fetch the parsing population data from wikipedia\n",
    "wikipedia = 'https://en.wikipedia.org/wiki/'\n",
    "wikipediapage = rq.urlopen(wikipedia + 'List_of_municipalities_of_the_Netherlands')\n",
    "parsedpage = bs(wikipediapage, 'html.parser')\n",
    "tables = parsedpage.find_all(\"table\", attrs={\"class\": \"wikitable plainrowheaders sortable\"})\n",
    "population_table = tables[0]\n",
    "objlist = list()\n",
    "for row in population_table.find_all('tr')[1:]:\n",
    "   obj = dict()\n",
    "   obj[\"Municipality_name\"] = row.find_all('th')[0].find_all('a')[0].getText()\n",
    "   if obj[\"Municipality_name\"] == \"The Hague\":\n",
    "      obj[\"Municipality_name\"] = \"'s-Gravenhage\"\n",
    "   if obj[\"Municipality_name\"] == \"Bergen (LI)\":\n",
    "      obj[\"Municipality_name\"] = \"Bergen (L.)\"\n",
    "   if obj[\"Municipality_name\"] == \"Bergen (NH)\":\n",
    "      obj[\"Municipality_name\"] = \"Bergen (NH.)\"\n",
    "   obj[\"population\"] = int(\"\".join(row.find_all('td')[2].getText().split(\",\")))\n",
    "   objlist.append(obj)\n",
    "wikipediadata = pd.DataFrame(objlist).set_index(\"Municipality_name\")\n",
    "df2 = pd.DataFrame([[\"min\",1000000],[\"max\",1000000]], \n",
    "                          columns=[\"Municipality_name\",\"population\"])\n",
    "df2 = df2.set_index(\"Municipality_name\")\n",
    "wikipediadata = wikipediadata.append(df2)"
   ]
  },
  {
   "cell_type": "code",
   "execution_count": null,
   "metadata": {},
   "outputs": [],
   "source": []
  },
  {
   "cell_type": "code",
   "execution_count": null,
   "metadata": {},
   "outputs": [],
   "source": []
  },
  {
   "cell_type": "code",
   "execution_count": null,
   "metadata": {},
   "outputs": [],
   "source": []
  },
  {
   "cell_type": "code",
   "execution_count": null,
   "metadata": {},
   "outputs": [],
   "source": []
  },
  {
   "cell_type": "code",
   "execution_count": null,
   "metadata": {},
   "outputs": [],
   "source": []
  },
  {
   "cell_type": "code",
   "execution_count": null,
   "metadata": {},
   "outputs": [],
   "source": []
  },
  {
   "cell_type": "code",
   "execution_count": null,
   "metadata": {},
   "outputs": [],
   "source": []
  }
 ],
 "metadata": {
  "kernelspec": {
   "display_name": "Python 3",
   "language": "python",
   "name": "python3"
  },
  "language_info": {
   "codemirror_mode": {
    "name": "ipython",
    "version": 3
   },
   "file_extension": ".py",
   "mimetype": "text/x-python",
   "name": "python",
   "nbconvert_exporter": "python",
   "pygments_lexer": "ipython3",
   "version": "3.8.5"
  }
 },
 "nbformat": 4,
 "nbformat_minor": 2
}
