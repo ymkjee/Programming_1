{
 "cells": [
  {
   "cell_type": "markdown",
   "metadata": {},
   "source": [
    "## Final Assignment"
   ]
  },
  {
   "cell_type": "markdown",
   "metadata": {},
   "source": [
    "\n",
    "Before working on this assignment please read these instructions fully. Use blackboard to submit a link to your repository. \n",
    "\n",
    "On blackboard your find the assessment criteria. Please familiarize yourself with the criteria before beginning the assignment.\n",
    "\n",
    "This assignment requires that you to find at least two datasets on the web which are related, and that you build an application that visualize these datasets to answer a research question with the broad topic of **health** or **agriculture** in the **region where you were born**. The region can be a city, town or a provence.  \n",
    "\n",
    "The research question should be a question with a causual nature. For instance questions like: How does independent variable X influence the dependent variable of Y?\n",
    "\n",
    "The code should be programmed efficiently. Also identify the most critical part and write software test for this part. Take into account the performance of the dataprocessing"
   ]
  },
  {
   "cell_type": "markdown",
   "metadata": {},
   "source": [
    "### About the data\n",
    "\n",
    "You can merge these datasets with data from different regions if you like. For instance, you might want to compare the health effect of earhtquacks in Groningen versus Los Angelos USA. \n",
    "\n",
    "You are welcome to choose datasets at your discretion, but keep in mind they will be shared with others, so choose appropriate datasets. You are welcome to use datasets of your own as well, but minimual two datasets should be coming from the web and or API's. \n",
    "\n",
    "Also, you are welcome to preserve data in its original language, but for the purposes of grading you should provide english translations in your visualization. "
   ]
  },
  {
   "cell_type": "markdown",
   "metadata": {},
   "source": [
    "### Instructions:\n",
    "\n",
    "Define a research question, select data and code your data acquisition, data processing, data analysis and visualization. Write code to test most critical parts. Use a repository with a commit strategy and write a readme file. \n",
    "\n",
    "Write a small document with the following:\n",
    "- State the region and the domain category that your data sets are about \n",
    "- State the research question \n",
    "- Justify the chosen data storage and processing approach\n",
    "- Justify the chosen analysis approach\n",
    "- Justify the chosen data visualization approach\n",
    "\n",
    "Upload your document and the link of your repository to black board"
   ]
  },
  {
   "cell_type": "markdown",
   "metadata": {},
   "source": [
    "## loading in the datafiles and taking a first look"
   ]
  },
  {
   "cell_type": "code",
   "execution_count": 89,
   "metadata": {},
   "outputs": [],
   "source": [
    "import json\n",
    "import pandas as pd\n",
    "pd.options.mode.chained_assignment = None\n",
    "\n",
    "def load_in(path_sewage, path_cases):\n",
    "    sewage = pd.read_json(path_sewage, orient= \"levels\")\n",
    "    cases = pd.read_json(path_cases, orient= \"levels\")\n",
    "    sewage.head()\n",
    "    cases.head()\n",
    "\n",
    "    return sewage, cases\n",
    "\n",
    "df_sewage, df_cases = load_in(\"Data/COVID-19_rioolwaterdata.json\", \n",
    "                              \"Data/COVID-19_aantallen_gemeente_cumulatief.json\")"
   ]
  },
  {
   "cell_type": "markdown",
   "metadata": {},
   "source": [
    "## Filtering\n",
    "For the filtering of the data the columns that are uneccesary for this research will be removed.\n",
    "Next there will be a check for missing data\n",
    "For the sewage data there will be looked at which measure points have been used \n",
    "throughout and the ones that have been added later.The measure points added later will be removed.\n",
    "\n",
    "Both datasets will be filtered on date. For an acurate date the sewage dataset is used. This is done\n",
    "by checking when they started wit measuring the RNA flow per 10.000 inhibitants instead of RNA per ml.\n",
    "This is done because it nearly impossible to calculate the RNA flow from the RNA per ml.\n",
    "The end date is the same as the end date of the last entry in the sewage dataset.\n",
    "\n",
    "Because of the many different measurepoints the RNA flow per 10.000 will be summed per province.\n",
    "This will also be done for the total amount of corona cases.\n",
    "\n"
   ]
  },
  {
   "cell_type": "markdown",
   "metadata": {},
   "source": [
    "#### sewage dataset"
   ]
  },
  {
   "cell_type": "code",
   "execution_count": 90,
   "metadata": {},
   "outputs": [
    {
     "name": "stdout",
     "output_type": "stream",
     "text": [
      "119\n",
      "1\n"
     ]
    }
   ],
   "source": [
    "# deleting uneccesary columns:\n",
    "\n",
    "df_sewage = df_sewage.drop([\"RWZI_AWZI_code\", \"RWZI_AWZI_name\", \"X_coordinate\", \"Y_coordinate\",\n",
    "                           \"Postal_code\", \"Security_region_code\", \"RNA_per_ml\"], axis = 1)\n",
    "\n",
    "# check unique values in the columns percentage_in_security_regrion and Representative_measurement to check \n",
    "# if there are any differences:\n",
    "\n",
    "print(df_sewage['Percentage_in_security_region'].nunique())\n",
    "\n",
    "print(df_sewage['Representative_measurement'].nunique())\n",
    "# with this we can remove the representative column because all values are TRUE\n",
    "df_sewage = df_sewage.drop(['Representative_measurement'], axis = 1)\n",
    "\n"
   ]
  },
  {
   "cell_type": "code",
   "execution_count": 95,
   "metadata": {
    "scrolled": false
   },
   "outputs": [
    {
     "data": {
      "text/plain": [
       "Date_measurement                  285\n",
       "Security_region_name               26\n",
       "Percentage_in_security_region     119\n",
       "RNA_flow_per_100000              8001\n",
       "Province                           12\n",
       "dtype: int64"
      ]
     },
     "execution_count": 95,
     "metadata": {},
     "output_type": "execute_result"
    }
   ],
   "source": [
    "import numpy as np\n",
    "# check the number of unique values in the Security region name.\n",
    "df_sewage['Security_region_name'].nunique()\n",
    "\n",
    "# from this we can see that there are 26 regions measured. However there are only twelve provinces.\n",
    "# We will check per region name in which province they belong and add them in an additional column.\n",
    "\n",
    "df_sewage.Security_region_name.unique()\n",
    "df_sewage[\"Province\"] = np.nan\n",
    "\n",
    "df_sewage.loc[(df_sewage.Security_region_name == \"Midden- en West-Brabant\")|\n",
    "              (df_sewage.Security_region_name == \"Brabant-Noord\")| \n",
    "              (df_sewage.Security_region_name == \"Brabant-Noord\"), 'Province'] = \"Noord Brabant\"\n",
    "#df_sewage.loc[df_sewage.Security_region_name == \"Brabant-Noord\", 'Province'] = \"Noord Brabant\"\n",
    "#df_sewage.loc[df_sewage.Security_region_name == \"Brabant-Zuidoost\", 'Province'] = \"Noord Brabant\"\n",
    "\n",
    "df_sewage.loc[(df_sewage.Security_region_name == \"IJsselland\")|\n",
    "              (df_sewage.Security_region_name == \"Ijsselland\")|\n",
    "              (df_sewage.Security_region_name == \"Twente\"), 'Province'] = \"Overijssel\"\n",
    "# df_sewage.loc[df_sewage.Security_region_name == \"Ijsselland\", 'Province'] = \"Overijssel\"\n",
    "# df_sewage.loc[df_sewage.Security_region_name == \"Twente\", 'Province'] = \"Overijssel\"\n",
    "\n",
    "df_sewage.loc[(df_sewage.Security_region_name == \"Gelderland-Midden\")|\n",
    "              (df_sewage.Security_region_name == \"Gelderland-Zuid\")|\n",
    "              (df_sewage.Security_region_name == \"Noord- en Oost-Gelderland\"), 'Province'] = \"Gelderland\"\n",
    "# df_sewage.loc[df_sewage.Security_region_name == \"Gelderland-Zuid\", 'Province'] = \"Gelderland\"\n",
    "# df_sewage.loc[df_sewage.Security_region_name == \"Noord- en Oost-Gelderland\", 'Province'] = \"Gelderland\"\n",
    "\n",
    "df_sewage.loc[(df_sewage.Security_region_name == \"Kennemerland\")|\n",
    "              (df_sewage.Security_region_name == \"Noord-Holland-Noord\")|\n",
    "              (df_sewage.Security_region_name == \"Zaanstreek-Waterland\")|\n",
    "              (df_sewage.Security_region_name == \"Amsterdam-Amstelland\")|\n",
    "              (df_sewage.Security_region_name == \"Gooi en Vechtstreek\"), 'Province'] = \"Noord Holland\"\n",
    "# df_sewage.loc[df_sewage.Security_region_name == \"Noord-Holland-Noord\", 'Province'] = \"Noord Holland\"\n",
    "# df_sewage.loc[df_sewage.Security_region_name == \"Zaanstreek-Waterland\", 'Province'] = \"Noord Holland\"\n",
    "# df_sewage.loc[df_sewage.Security_region_name == \"Amsterdam-Amstelland\", 'Province'] = \"Noord Holland\"\n",
    "# df_sewage.loc[df_sewage.Security_region_name == \"Gooi en Vechtstreek\", 'Province'] = \"Noord Holland\"\n",
    "\n",
    "df_sewage.loc[(df_sewage.Security_region_name == \"Hollands-Midden\")|\n",
    "              (df_sewage.Security_region_name == \"Haaglanden\")|\n",
    "              (df_sewage.Security_region_name == \"Rotterdam-Rijnmond\")|\n",
    "              (df_sewage.Security_region_name == \"Zuid-Holland-Zuid\"), 'Province'] = \"Zuid Holland\"\n",
    "# df_sewage.loc[df_sewage.Security_region_name == \"Haaglanden\", 'Province'] = \"Zuid Holland\"\n",
    "# df_sewage.loc[df_sewage.Security_region_name == \"Rotterdam-Rijnmond\", 'Province'] = \"Zuid Holland\"\n",
    "# df_sewage.loc[df_sewage.Security_region_name == \"Zuid-Holland-Zuid\", 'Province'] = \"Zuid Holland\"\n",
    "\n",
    "df_sewage.loc[(df_sewage.Security_region_name == \"Limburg-Noord\")|\n",
    "              (df_sewage.Security_region_name == \"Limburg-Zuid\"), 'Province'] = \"Limburg\"\n",
    "# df_sewage.loc[df_sewage.Security_region_name == \"Limburg-Zuid\", 'Province'] = \"Limburg\"\n",
    "\n",
    "df_sewage.loc[df_sewage.Security_region_name == \"Drenthe\", 'Province'] = \"Drenthe\"\n",
    "df_sewage.loc[df_sewage.Security_region_name == \"Groningen\", 'Province'] = \"Groningen\"\n",
    "df_sewage.loc[df_sewage.Security_region_name == \"Friesland\", 'Province'] = \"Friesland\"\n",
    "df_sewage.loc[df_sewage.Security_region_name == \"Utrecht\", 'Province'] = \"Utrecht\"\n",
    "df_sewage.loc[df_sewage.Security_region_name == \"Flevoland\", 'Province'] = \"Flevoland\"\n",
    "df_sewage.loc[df_sewage.Security_region_name == \"Zeeland\", 'Province'] = \"Zeeland\"\n",
    "\n",
    "df_sewage.nunique()"
   ]
  },
  {
   "cell_type": "code",
   "execution_count": 135,
   "metadata": {},
   "outputs": [
    {
     "name": "stdout",
     "output_type": "stream",
     "text": [
      "Date_measurement                 datetime64[ns]\n",
      "Security_region_name                     object\n",
      "Percentage_in_security_region            object\n",
      "RNA_flow_per_100000                       int64\n",
      "Province                                 object\n",
      "dtype: object\n"
     ]
    }
   ],
   "source": [
    "# remove the empty entries for the RNA column\n",
    "df_sewage = df_sewage.replace(r'^\\s*$', np.nan, regex=True)\n",
    "df_sewage.dropna(subset = [\"RNA_flow_per_100000\"], inplace=True)\n",
    "\n",
    "#checking data types of the sewage dataframe\n",
    "print(df_sewage.dtypes)\n",
    "# the datatypes for the date should be changed, \n",
    "#furthermore the datatype of the percentage and the RNA column should be changed\n",
    "df_sewage['Date_measurement'] = df_sewage['Date_measurement'].astype('datetime64[ns]')\n",
    "df_sewage['RNA_flow_per_100000'] = df_sewage['RNA_flow_per_100000'].astype('int64')\n",
    "\n",
    "df_sewage[\"Percentage_in_security_region\"].replace({\",\": \".\"}, inplace=True)\n",
    "#df_sewage['Percentage_in_security_region'] = df_sewage['Percentage_in_security_region'].astype('float')"
   ]
  },
  {
   "cell_type": "code",
   "execution_count": 136,
   "metadata": {},
   "outputs": [
    {
     "data": {
      "text/html": [
       "<div>\n",
       "<style scoped>\n",
       "    .dataframe tbody tr th:only-of-type {\n",
       "        vertical-align: middle;\n",
       "    }\n",
       "\n",
       "    .dataframe tbody tr th {\n",
       "        vertical-align: top;\n",
       "    }\n",
       "\n",
       "    .dataframe thead th {\n",
       "        text-align: right;\n",
       "    }\n",
       "</style>\n",
       "<table border=\"1\" class=\"dataframe\">\n",
       "  <thead>\n",
       "    <tr style=\"text-align: right;\">\n",
       "      <th></th>\n",
       "      <th>Date_measurement</th>\n",
       "      <th>Security_region_name</th>\n",
       "      <th>Percentage_in_security_region</th>\n",
       "      <th>RNA_flow_per_100000</th>\n",
       "      <th>Province</th>\n",
       "    </tr>\n",
       "  </thead>\n",
       "  <tbody>\n",
       "    <tr>\n",
       "      <th>1266</th>\n",
       "      <td>2020-09-07</td>\n",
       "      <td>IJsselland</td>\n",
       "      <td>1</td>\n",
       "      <td>0</td>\n",
       "      <td>Overijssel</td>\n",
       "    </tr>\n",
       "    <tr>\n",
       "      <th>1267</th>\n",
       "      <td>2020-09-07</td>\n",
       "      <td>Limburg-Zuid</td>\n",
       "      <td>1</td>\n",
       "      <td>0</td>\n",
       "      <td>Limburg</td>\n",
       "    </tr>\n",
       "    <tr>\n",
       "      <th>1268</th>\n",
       "      <td>2020-09-07</td>\n",
       "      <td>Limburg-Noord</td>\n",
       "      <td>1</td>\n",
       "      <td>0</td>\n",
       "      <td>Limburg</td>\n",
       "    </tr>\n",
       "    <tr>\n",
       "      <th>1269</th>\n",
       "      <td>2020-09-07</td>\n",
       "      <td>Utrecht</td>\n",
       "      <td>1</td>\n",
       "      <td>0</td>\n",
       "      <td>Utrecht</td>\n",
       "    </tr>\n",
       "    <tr>\n",
       "      <th>1270</th>\n",
       "      <td>2020-09-07</td>\n",
       "      <td>Haaglanden</td>\n",
       "      <td>0,841309046</td>\n",
       "      <td>0</td>\n",
       "      <td>Zuid Holland</td>\n",
       "    </tr>\n",
       "  </tbody>\n",
       "</table>\n",
       "</div>"
      ],
      "text/plain": [
       "     Date_measurement Security_region_name Percentage_in_security_region  \\\n",
       "1266       2020-09-07           IJsselland                             1   \n",
       "1267       2020-09-07         Limburg-Zuid                             1   \n",
       "1268       2020-09-07        Limburg-Noord                             1   \n",
       "1269       2020-09-07              Utrecht                             1   \n",
       "1270       2020-09-07           Haaglanden                   0,841309046   \n",
       "\n",
       "      RNA_flow_per_100000      Province  \n",
       "1266                    0    Overijssel  \n",
       "1267                    0       Limburg  \n",
       "1268                    0       Limburg  \n",
       "1269                    0       Utrecht  \n",
       "1270                    0  Zuid Holland  "
      ]
     },
     "execution_count": 136,
     "metadata": {},
     "output_type": "execute_result"
    }
   ],
   "source": [
    "df_sewage.head()"
   ]
  },
  {
   "cell_type": "code",
   "execution_count": 129,
   "metadata": {},
   "outputs": [
    {
     "ename": "IndexingError",
     "evalue": "Too many indexers",
     "output_type": "error",
     "traceback": [
      "\u001b[1;31m---------------------------------------------------------------------------\u001b[0m",
      "\u001b[1;31mIndexingError\u001b[0m                             Traceback (most recent call last)",
      "\u001b[1;32m<ipython-input-129-4bc1e577e847>\u001b[0m in \u001b[0;36m<module>\u001b[1;34m\u001b[0m\n\u001b[1;32m----> 1\u001b[1;33m \u001b[0mdf_sewage\u001b[0m\u001b[1;33m[\u001b[0m\u001b[1;34m'Percentage_in_security_region'\u001b[0m\u001b[1;33m]\u001b[0m \u001b[1;33m=\u001b[0m \u001b[0mdf_sewage\u001b[0m\u001b[1;33m[\u001b[0m\u001b[1;34m\"Percentage_in_security_region\"\u001b[0m\u001b[1;33m]\u001b[0m\u001b[1;33m.\u001b[0m\u001b[0miloc\u001b[0m\u001b[1;33m[\u001b[0m\u001b[1;33m:\u001b[0m\u001b[1;33m,\u001b[0m\u001b[1;33m:\u001b[0m\u001b[1;33m]\u001b[0m\u001b[1;33m.\u001b[0m\u001b[0mstr\u001b[0m\u001b[1;33m.\u001b[0m\u001b[0mreplace\u001b[0m\u001b[1;33m(\u001b[0m\u001b[1;34m','\u001b[0m\u001b[1;33m,\u001b[0m \u001b[1;34m''\u001b[0m\u001b[1;33m)\u001b[0m\u001b[1;33m.\u001b[0m\u001b[0mastype\u001b[0m\u001b[1;33m(\u001b[0m\u001b[0mfloat\u001b[0m\u001b[1;33m)\u001b[0m\u001b[1;33m\u001b[0m\u001b[1;33m\u001b[0m\u001b[0m\n\u001b[0m",
      "\u001b[1;32m~\\anaconda3\\lib\\site-packages\\pandas\\core\\indexing.py\u001b[0m in \u001b[0;36m__getitem__\u001b[1;34m(self, key)\u001b[0m\n\u001b[0;32m    871\u001b[0m                     \u001b[1;31m# AttributeError for IntervalTree get_value\u001b[0m\u001b[1;33m\u001b[0m\u001b[1;33m\u001b[0m\u001b[1;33m\u001b[0m\u001b[0m\n\u001b[0;32m    872\u001b[0m                     \u001b[1;32mpass\u001b[0m\u001b[1;33m\u001b[0m\u001b[1;33m\u001b[0m\u001b[0m\n\u001b[1;32m--> 873\u001b[1;33m             \u001b[1;32mreturn\u001b[0m \u001b[0mself\u001b[0m\u001b[1;33m.\u001b[0m\u001b[0m_getitem_tuple\u001b[0m\u001b[1;33m(\u001b[0m\u001b[0mkey\u001b[0m\u001b[1;33m)\u001b[0m\u001b[1;33m\u001b[0m\u001b[1;33m\u001b[0m\u001b[0m\n\u001b[0m\u001b[0;32m    874\u001b[0m         \u001b[1;32melse\u001b[0m\u001b[1;33m:\u001b[0m\u001b[1;33m\u001b[0m\u001b[1;33m\u001b[0m\u001b[0m\n\u001b[0;32m    875\u001b[0m             \u001b[1;31m# we by definition only have the 0th axis\u001b[0m\u001b[1;33m\u001b[0m\u001b[1;33m\u001b[0m\u001b[1;33m\u001b[0m\u001b[0m\n",
      "\u001b[1;32m~\\anaconda3\\lib\\site-packages\\pandas\\core\\indexing.py\u001b[0m in \u001b[0;36m_getitem_tuple\u001b[1;34m(self, tup)\u001b[0m\n\u001b[0;32m   1441\u001b[0m     \u001b[1;32mdef\u001b[0m \u001b[0m_getitem_tuple\u001b[0m\u001b[1;33m(\u001b[0m\u001b[0mself\u001b[0m\u001b[1;33m,\u001b[0m \u001b[0mtup\u001b[0m\u001b[1;33m:\u001b[0m \u001b[0mTuple\u001b[0m\u001b[1;33m)\u001b[0m\u001b[1;33m:\u001b[0m\u001b[1;33m\u001b[0m\u001b[1;33m\u001b[0m\u001b[0m\n\u001b[0;32m   1442\u001b[0m \u001b[1;33m\u001b[0m\u001b[0m\n\u001b[1;32m-> 1443\u001b[1;33m         \u001b[0mself\u001b[0m\u001b[1;33m.\u001b[0m\u001b[0m_has_valid_tuple\u001b[0m\u001b[1;33m(\u001b[0m\u001b[0mtup\u001b[0m\u001b[1;33m)\u001b[0m\u001b[1;33m\u001b[0m\u001b[1;33m\u001b[0m\u001b[0m\n\u001b[0m\u001b[0;32m   1444\u001b[0m         \u001b[1;32mtry\u001b[0m\u001b[1;33m:\u001b[0m\u001b[1;33m\u001b[0m\u001b[1;33m\u001b[0m\u001b[0m\n\u001b[0;32m   1445\u001b[0m             \u001b[1;32mreturn\u001b[0m \u001b[0mself\u001b[0m\u001b[1;33m.\u001b[0m\u001b[0m_getitem_lowerdim\u001b[0m\u001b[1;33m(\u001b[0m\u001b[0mtup\u001b[0m\u001b[1;33m)\u001b[0m\u001b[1;33m\u001b[0m\u001b[1;33m\u001b[0m\u001b[0m\n",
      "\u001b[1;32m~\\anaconda3\\lib\\site-packages\\pandas\\core\\indexing.py\u001b[0m in \u001b[0;36m_has_valid_tuple\u001b[1;34m(self, key)\u001b[0m\n\u001b[0;32m    698\u001b[0m         \u001b[1;32mfor\u001b[0m \u001b[0mi\u001b[0m\u001b[1;33m,\u001b[0m \u001b[0mk\u001b[0m \u001b[1;32min\u001b[0m \u001b[0menumerate\u001b[0m\u001b[1;33m(\u001b[0m\u001b[0mkey\u001b[0m\u001b[1;33m)\u001b[0m\u001b[1;33m:\u001b[0m\u001b[1;33m\u001b[0m\u001b[1;33m\u001b[0m\u001b[0m\n\u001b[0;32m    699\u001b[0m             \u001b[1;32mif\u001b[0m \u001b[0mi\u001b[0m \u001b[1;33m>=\u001b[0m \u001b[0mself\u001b[0m\u001b[1;33m.\u001b[0m\u001b[0mndim\u001b[0m\u001b[1;33m:\u001b[0m\u001b[1;33m\u001b[0m\u001b[1;33m\u001b[0m\u001b[0m\n\u001b[1;32m--> 700\u001b[1;33m                 \u001b[1;32mraise\u001b[0m \u001b[0mIndexingError\u001b[0m\u001b[1;33m(\u001b[0m\u001b[1;34m\"Too many indexers\"\u001b[0m\u001b[1;33m)\u001b[0m\u001b[1;33m\u001b[0m\u001b[1;33m\u001b[0m\u001b[0m\n\u001b[0m\u001b[0;32m    701\u001b[0m             \u001b[1;32mtry\u001b[0m\u001b[1;33m:\u001b[0m\u001b[1;33m\u001b[0m\u001b[1;33m\u001b[0m\u001b[0m\n\u001b[0;32m    702\u001b[0m                 \u001b[0mself\u001b[0m\u001b[1;33m.\u001b[0m\u001b[0m_validate_key\u001b[0m\u001b[1;33m(\u001b[0m\u001b[0mk\u001b[0m\u001b[1;33m,\u001b[0m \u001b[0mi\u001b[0m\u001b[1;33m)\u001b[0m\u001b[1;33m\u001b[0m\u001b[1;33m\u001b[0m\u001b[0m\n",
      "\u001b[1;31mIndexingError\u001b[0m: Too many indexers"
     ]
    }
   ],
   "source": []
  },
  {
   "cell_type": "code",
   "execution_count": null,
   "metadata": {},
   "outputs": [],
   "source": []
  },
  {
   "cell_type": "code",
   "execution_count": null,
   "metadata": {},
   "outputs": [],
   "source": []
  },
  {
   "cell_type": "code",
   "execution_count": null,
   "metadata": {},
   "outputs": [],
   "source": []
  },
  {
   "cell_type": "code",
   "execution_count": null,
   "metadata": {},
   "outputs": [],
   "source": []
  }
 ],
 "metadata": {
  "kernelspec": {
   "display_name": "Python 3",
   "language": "python",
   "name": "python3"
  },
  "language_info": {
   "codemirror_mode": {
    "name": "ipython",
    "version": 3
   },
   "file_extension": ".py",
   "mimetype": "text/x-python",
   "name": "python",
   "nbconvert_exporter": "python",
   "pygments_lexer": "ipython3",
   "version": "3.8.5"
  }
 },
 "nbformat": 4,
 "nbformat_minor": 2
}
