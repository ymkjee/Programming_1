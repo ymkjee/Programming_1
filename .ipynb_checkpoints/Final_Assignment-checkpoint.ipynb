{
 "cells": [
  {
   "cell_type": "markdown",
   "metadata": {},
   "source": [
    "## Final Assignment"
   ]
  },
  {
   "cell_type": "markdown",
   "metadata": {},
   "source": [
    "\n",
    "Before working on this assignment please read these instructions fully. Use blackboard to submit a link to your repository. \n",
    "\n",
    "On blackboard your find the assessment criteria. Please familiarize yourself with the criteria before beginning the assignment.\n",
    "\n",
    "This assignment requires that you to find at least two datasets on the web which are related, and that you build an application that visualize these datasets to answer a research question with the broad topic of **health** or **agriculture** in the **region where you were born**. The region can be a city, town or a provence.  \n",
    "\n",
    "The research question should be a question with a causual nature. For instance questions like: How does independent variable X influence the dependent variable of Y?\n",
    "\n",
    "The code should be programmed efficiently. Also identify the most critical part and write software test for this part. Take into account the performance of the dataprocessing"
   ]
  },
  {
   "cell_type": "markdown",
   "metadata": {},
   "source": [
    "### About the data\n",
    "\n",
    "You can merge these datasets with data from different regions if you like. For instance, you might want to compare the health effect of earhtquacks in Groningen versus Los Angelos USA. \n",
    "\n",
    "You are welcome to choose datasets at your discretion, but keep in mind they will be shared with others, so choose appropriate datasets. You are welcome to use datasets of your own as well, but minimual two datasets should be coming from the web and or API's. \n",
    "\n",
    "Also, you are welcome to preserve data in its original language, but for the purposes of grading you should provide english translations in your visualization. "
   ]
  },
  {
   "cell_type": "markdown",
   "metadata": {},
   "source": [
    "### Instructions:\n",
    "\n",
    "Define a research question, select data and code your data acquisition, data processing, data analysis and visualization. Write code to test most critical parts. Use a repository with a commit strategy and write a readme file. \n",
    "\n",
    "Write a small document with the following:\n",
    "- State the region and the domain category that your data sets are about \n",
    "- State the research question \n",
    "- Justify the chosen data storage and processing approach\n",
    "- Justify the chosen analysis approach\n",
    "- Justify the chosen data visualization approach\n",
    "\n",
    "Upload your document and the link of your repository to black board"
   ]
  },
  {
   "cell_type": "markdown",
   "metadata": {},
   "source": [
    "## loading in the datafiles and taking a first look"
   ]
  },
  {
   "cell_type": "code",
   "execution_count": 19,
   "metadata": {},
   "outputs": [],
   "source": [
    "import json\n",
    "import pandas as pd\n",
    "pd.options.mode.chained_assignment = None\n",
    "\n",
    "def load_in(path_sewage, path_cases):\n",
    "    sewage = pd.read_json(path_sewage, orient= \"levels\")\n",
    "    cases = pd.read_json(path_cases, orient= \"levels\")\n",
    "    sewage.head()\n",
    "    cases.head()\n",
    "\n",
    "    return sewage, cases\n",
    "\n",
    "df_sewage, df_cases = load_in(\"Data/COVID-19_rioolwaterdata.json\", \n",
    "                              \"Data/COVID-19_aantallen_gemeente_cumulatief.json\")"
   ]
  },
  {
   "cell_type": "markdown",
   "metadata": {},
   "source": [
    "## Filtering\n",
    "For the filtering of the data the columns that are uneccesary for this research will be removed.\n",
    "Next there will be a check for missing data\n",
    "For the sewage data there will be looked at which measure points have been used \n",
    "throughout and the ones that have been added later.The measure points added later will be removed.\n",
    "\n",
    "Both datasets will be filtered on date. For an acurate date the sewage dataset is used. This is done\n",
    "by checking when they started wit measuring the RNA flow per 10.000 inhibitants instead of RNA per ml.\n",
    "This is done because it nearly impossible to calculate the RNA flow from the RNA per ml.\n",
    "The end date is the same as the end date of the last entry in the sewage dataset.\n",
    "\n",
    "Because of the many different measurepoints the RNA flow per 10.000 will be summed per province.\n",
    "This will also be done for the total amount of corona cases.\n",
    "\n"
   ]
  },
  {
   "cell_type": "markdown",
   "metadata": {},
   "source": [
    "#### sewage dataset"
   ]
  },
  {
   "cell_type": "code",
   "execution_count": 29,
   "metadata": {},
   "outputs": [
    {
     "name": "stdout",
     "output_type": "stream",
     "text": [
      "119\n",
      "1\n",
      "26\n"
     ]
    }
   ],
   "source": [
    "# deleting uneccesary columns:\n",
    "\n",
    "#df_sewage = df_sewage.drop([\"RWZI_AWZI_code\", \"RWZI_AWZI_name\", \"X_coordinate\", \"Y_coordinate\",\n",
    "#                           \"Postal_code\", \"Security_region_code\", \"RNA_per_ml\"], axis = 1)\n",
    "\n",
    "# check unique values in the columns percentage_in_security_regrion and Representative_measurement to check \n",
    "# if there are any differences:\n",
    "\n",
    "print(df_sewage['Percentage_in_security_region'].nunique())\n",
    "print(df_sewage['Representative_measurement'].nunique())\n",
    "# with this we can remove the representative column because all values are TRUE\n",
    "#df_sewage = df_sewage.drop(['Representative_measurement'], axis = 1)\n",
    "\n"
   ]
  },
  {
   "cell_type": "code",
   "execution_count": 62,
   "metadata": {},
   "outputs": [
    {
     "data": {
      "text/html": [
       "<div>\n",
       "<style scoped>\n",
       "    .dataframe tbody tr th:only-of-type {\n",
       "        vertical-align: middle;\n",
       "    }\n",
       "\n",
       "    .dataframe tbody tr th {\n",
       "        vertical-align: top;\n",
       "    }\n",
       "\n",
       "    .dataframe thead th {\n",
       "        text-align: right;\n",
       "    }\n",
       "</style>\n",
       "<table border=\"1\" class=\"dataframe\">\n",
       "  <thead>\n",
       "    <tr style=\"text-align: right;\">\n",
       "      <th></th>\n",
       "      <th>Date_measurement</th>\n",
       "      <th>Security_region_name</th>\n",
       "      <th>Percentage_in_security_region</th>\n",
       "      <th>RNA_flow_per_100000</th>\n",
       "      <th>Province</th>\n",
       "    </tr>\n",
       "  </thead>\n",
       "  <tbody>\n",
       "    <tr>\n",
       "      <th>0</th>\n",
       "      <td>2020-03-30</td>\n",
       "      <td>Midden- en West-Brabant</td>\n",
       "      <td>1</td>\n",
       "      <td></td>\n",
       "      <td>Noord Brabant</td>\n",
       "    </tr>\n",
       "    <tr>\n",
       "      <th>1</th>\n",
       "      <td>2020-03-31</td>\n",
       "      <td>Drenthe</td>\n",
       "      <td>1</td>\n",
       "      <td></td>\n",
       "      <td>Drenthe</td>\n",
       "    </tr>\n",
       "    <tr>\n",
       "      <th>2</th>\n",
       "      <td>2020-03-31</td>\n",
       "      <td>Groningen</td>\n",
       "      <td>1</td>\n",
       "      <td></td>\n",
       "      <td>Groningen</td>\n",
       "    </tr>\n",
       "    <tr>\n",
       "      <th>3</th>\n",
       "      <td>2020-03-31</td>\n",
       "      <td>Friesland</td>\n",
       "      <td>1</td>\n",
       "      <td></td>\n",
       "      <td>Friesland</td>\n",
       "    </tr>\n",
       "    <tr>\n",
       "      <th>4</th>\n",
       "      <td>2020-03-31</td>\n",
       "      <td>Friesland</td>\n",
       "      <td>1</td>\n",
       "      <td></td>\n",
       "      <td>Friesland</td>\n",
       "    </tr>\n",
       "    <tr>\n",
       "      <th>...</th>\n",
       "      <td>...</td>\n",
       "      <td>...</td>\n",
       "      <td>...</td>\n",
       "      <td>...</td>\n",
       "      <td>...</td>\n",
       "    </tr>\n",
       "    <tr>\n",
       "      <th>10515</th>\n",
       "      <td>2021-01-27</td>\n",
       "      <td>Gelderland-Midden</td>\n",
       "      <td>1</td>\n",
       "      <td>12320280273098</td>\n",
       "      <td>Gelderland</td>\n",
       "    </tr>\n",
       "    <tr>\n",
       "      <th>10516</th>\n",
       "      <td>2021-01-27</td>\n",
       "      <td>Limburg-Noord</td>\n",
       "      <td>1</td>\n",
       "      <td>17615099163688</td>\n",
       "      <td>Limburg</td>\n",
       "    </tr>\n",
       "    <tr>\n",
       "      <th>10517</th>\n",
       "      <td>2021-01-27</td>\n",
       "      <td>Midden- en West-Brabant</td>\n",
       "      <td>1</td>\n",
       "      <td>20535140783432</td>\n",
       "      <td>Noord Brabant</td>\n",
       "    </tr>\n",
       "    <tr>\n",
       "      <th>10518</th>\n",
       "      <td>2021-01-27</td>\n",
       "      <td>Gelderland-Midden</td>\n",
       "      <td>1</td>\n",
       "      <td>7748971717648</td>\n",
       "      <td>Gelderland</td>\n",
       "    </tr>\n",
       "    <tr>\n",
       "      <th>10519</th>\n",
       "      <td>2021-01-23</td>\n",
       "      <td>Drenthe</td>\n",
       "      <td>1</td>\n",
       "      <td>12600374491714</td>\n",
       "      <td>Drenthe</td>\n",
       "    </tr>\n",
       "  </tbody>\n",
       "</table>\n",
       "<p>10520 rows × 5 columns</p>\n",
       "</div>"
      ],
      "text/plain": [
       "      Date_measurement     Security_region_name Percentage_in_security_region  \\\n",
       "0           2020-03-30  Midden- en West-Brabant                             1   \n",
       "1           2020-03-31                  Drenthe                             1   \n",
       "2           2020-03-31                Groningen                             1   \n",
       "3           2020-03-31                Friesland                             1   \n",
       "4           2020-03-31                Friesland                             1   \n",
       "...                ...                      ...                           ...   \n",
       "10515       2021-01-27        Gelderland-Midden                             1   \n",
       "10516       2021-01-27            Limburg-Noord                             1   \n",
       "10517       2021-01-27  Midden- en West-Brabant                             1   \n",
       "10518       2021-01-27        Gelderland-Midden                             1   \n",
       "10519       2021-01-23                  Drenthe                             1   \n",
       "\n",
       "      RNA_flow_per_100000       Province  \n",
       "0                          Noord Brabant  \n",
       "1                                Drenthe  \n",
       "2                              Groningen  \n",
       "3                              Friesland  \n",
       "4                              Friesland  \n",
       "...                   ...            ...  \n",
       "10515      12320280273098     Gelderland  \n",
       "10516      17615099163688        Limburg  \n",
       "10517      20535140783432  Noord Brabant  \n",
       "10518       7748971717648     Gelderland  \n",
       "10519      12600374491714        Drenthe  \n",
       "\n",
       "[10520 rows x 5 columns]"
      ]
     },
     "execution_count": 62,
     "metadata": {},
     "output_type": "execute_result"
    }
   ],
   "source": [
    "df_sewage\n"
   ]
  },
  {
   "cell_type": "code",
   "execution_count": 59,
   "metadata": {
    "scrolled": true
   },
   "outputs": [],
   "source": [
    "import numpy as np\n",
    "# check the number of unique values in the Security region name.\n",
    "df_sewage['Security_region_name'].nunique()\n",
    "\n",
    "# from this we can see that there are 26 regions measured. However there are only twelve provinces.\n",
    "# We will check per region name in which province they belong and add them in an additional column.\n",
    "\n",
    "df_sewage.Security_region_name.unique()\n",
    "df_sewage[\"Province\"] = np.nan\n",
    "\n",
    "df_sewage.loc[df_sewage.Security_region_name == \"Midden- en West-Brabant\", 'Province'] = \"Noord Brabant\"\n",
    "df_sewage.loc[df_sewage.Security_region_name == \"Brabant-Noord\", 'Province'] = \"Noord Brabant\"\n",
    "df_sewage.loc[df_sewage.Security_region_name == \"Brabant-Zuidoost\", 'Province'] = \"Noord Brabant\"\n",
    "\n",
    "df_sewage.loc[df_sewage.Security_region_name == \"IJsselland\", 'Province'] = \"Overijssel\"\n",
    "df_sewage.loc[df_sewage.Security_region_name == \"Ijsselland\", 'Province'] = \"Overijssel\"\n",
    "df_sewage.loc[df_sewage.Security_region_name == \"Twente\", 'Province'] = \"Overijssel\"\n",
    "\n",
    "df_sewage.loc[df_sewage.Security_region_name == \"Gelderland-Midden\", 'Province'] = \"Gelderland\"\n",
    "df_sewage.loc[df_sewage.Security_region_name == \"Gelderland-Zuid\", 'Province'] = \"Gelderland\"\n",
    "df_sewage.loc[df_sewage.Security_region_name == \"Noord- en Oost-Gelderland\", 'Province'] = \"Gelderland\"\n",
    "\n",
    "df_sewage.loc[df_sewage.Security_region_name == \"Kennemerland\", 'Province'] = \"Noord Holland\"\n",
    "df_sewage.loc[df_sewage.Security_region_name == \"Noord-Holland-Noord\", 'Province'] = \"Noord Holland\"\n",
    "df_sewage.loc[df_sewage.Security_region_name == \"Zaanstreek-Waterland\", 'Province'] = \"Noord Holland\"\n",
    "df_sewage.loc[df_sewage.Security_region_name == \"Amsterdam-Amstelland\", 'Province'] = \"Noord Holland\"\n",
    "df_sewage.loc[df_sewage.Security_region_name == \"Gooi en Vechtstreek\", 'Province'] = \"Noord Holland\"\n",
    "\n",
    "df_sewage.loc[df_sewage.Security_region_name == \"Hollands-Midden\", 'Province'] = \"Zuid Holland\"\n",
    "df_sewage.loc[df_sewage.Security_region_name == \"Haaglanden\", 'Province'] = \"Zuid Holland\"\n",
    "df_sewage.loc[df_sewage.Security_region_name == \"Rotterdam-Rijnmond\", 'Province'] = \"Zuid Holland\"\n",
    "df_sewage.loc[df_sewage.Security_region_name == \"Zuid-Holland-Zuid\", 'Province'] = \"Zuid Holland\"\n",
    "\n",
    "df_sewage.loc[df_sewage.Security_region_name == \"Limburg-Noord\", 'Province'] = \"Limburg\"\n",
    "df_sewage.loc[df_sewage.Security_region_name == \"Limburg-Zuid\", 'Province'] = \"Limburg\"\n",
    "\n",
    "df_sewage.loc[df_sewage.Security_region_name == \"Drenthe\", 'Province'] = \"Drenthe\"\n",
    "df_sewage.loc[df_sewage.Security_region_name == \"Groningen\", 'Province'] = \"Groningen\"\n",
    "df_sewage.loc[df_sewage.Security_region_name == \"Friesland\", 'Province'] = \"Friesland\"\n",
    "df_sewage.loc[df_sewage.Security_region_name == \"Utrecht\", 'Province'] = \"Utrecht\"\n",
    "df_sewage.loc[df_sewage.Security_region_name == \"Flevoland\", 'Province'] = \"Flevoland\"\n",
    "df_sewage.loc[df_sewage.Security_region_name == \"Zeeland\", 'Province'] = \"Zeeland\"\n",
    "\n"
   ]
  },
  {
   "cell_type": "code",
   "execution_count": null,
   "metadata": {},
   "outputs": [],
   "source": []
  },
  {
   "cell_type": "code",
   "execution_count": null,
   "metadata": {},
   "outputs": [],
   "source": []
  },
  {
   "cell_type": "code",
   "execution_count": null,
   "metadata": {},
   "outputs": [],
   "source": []
  },
  {
   "cell_type": "code",
   "execution_count": null,
   "metadata": {},
   "outputs": [],
   "source": []
  },
  {
   "cell_type": "code",
   "execution_count": null,
   "metadata": {},
   "outputs": [],
   "source": []
  },
  {
   "cell_type": "code",
   "execution_count": null,
   "metadata": {},
   "outputs": [],
   "source": []
  },
  {
   "cell_type": "code",
   "execution_count": null,
   "metadata": {},
   "outputs": [],
   "source": []
  },
  {
   "cell_type": "code",
   "execution_count": null,
   "metadata": {},
   "outputs": [],
   "source": []
  }
 ],
 "metadata": {
  "kernelspec": {
   "display_name": "Python 3",
   "language": "python",
   "name": "python3"
  },
  "language_info": {
   "codemirror_mode": {
    "name": "ipython",
    "version": 3
   },
   "file_extension": ".py",
   "mimetype": "text/x-python",
   "name": "python",
   "nbconvert_exporter": "python",
   "pygments_lexer": "ipython3",
   "version": "3.8.5"
  }
 },
 "nbformat": 4,
 "nbformat_minor": 2
}
