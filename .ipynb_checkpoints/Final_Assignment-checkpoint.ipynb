{
 "cells": [
  {
   "cell_type": "markdown",
   "metadata": {},
   "source": [
    "## Final Assignment"
   ]
  },
  {
   "cell_type": "markdown",
   "metadata": {},
   "source": [
    "\n",
    "Before working on this assignment please read these instructions fully. Use blackboard to submit a link to your repository. \n",
    "\n",
    "On blackboard your find the assessment criteria. Please familiarize yourself with the criteria before beginning the assignment.\n",
    "\n",
    "This assignment requires that you to find at least two datasets on the web which are related, and that you build an application that visualize these datasets to answer a research question with the broad topic of **health** or **agriculture** in the **region where you were born**. The region can be a city, town or a provence.  \n",
    "\n",
    "The research question should be a question with a causual nature. For instance questions like: How does independent variable X influence the dependent variable of Y?\n",
    "\n",
    "The code should be programmed efficiently. Also identify the most critical part and write software test for this part. Take into account the performance of the dataprocessing"
   ]
  },
  {
   "cell_type": "markdown",
   "metadata": {},
   "source": [
    "### About the data\n",
    "\n",
    "You can merge these datasets with data from different regions if you like. For instance, you might want to compare the health effect of earhtquacks in Groningen versus Los Angelos USA. \n",
    "\n",
    "You are welcome to choose datasets at your discretion, but keep in mind they will be shared with others, so choose appropriate datasets. You are welcome to use datasets of your own as well, but minimual two datasets should be coming from the web and or API's. \n",
    "\n",
    "Also, you are welcome to preserve data in its original language, but for the purposes of grading you should provide english translations in your visualization. "
   ]
  },
  {
   "cell_type": "markdown",
   "metadata": {},
   "source": [
    "### Instructions:\n",
    "\n",
    "Define a research question, select data and code your data acquisition, data processing, data analysis and visualization. Write code to test most critical parts. Use a repository with a commit strategy and write a readme file. \n",
    "\n",
    "Write a small document with the following:\n",
    "- State the region and the domain category that your data sets are about \n",
    "- State the research question \n",
    "- Justify the chosen data storage and processing approach\n",
    "- Justify the chosen analysis approach\n",
    "- Justify the chosen data visualization approach\n",
    "\n",
    "Upload your document and the link of your repository to black board"
   ]
  },
  {
   "cell_type": "markdown",
   "metadata": {},
   "source": [
    "## loading in the datafiles and taking a first look"
   ]
  },
  {
   "cell_type": "code",
   "execution_count": 79,
   "metadata": {},
   "outputs": [
    {
     "data": {
      "text/html": [
       "\n",
       "    <div class=\"bk-root\">\n",
       "        <a href=\"https://bokeh.org\" target=\"_blank\" class=\"bk-logo bk-logo-small bk-logo-notebook\"></a>\n",
       "        <span id=\"1124\">Loading BokehJS ...</span>\n",
       "    </div>"
      ]
     },
     "metadata": {},
     "output_type": "display_data"
    },
    {
     "data": {
      "application/javascript": [
       "\n",
       "(function(root) {\n",
       "  function now() {\n",
       "    return new Date();\n",
       "  }\n",
       "\n",
       "  var force = true;\n",
       "\n",
       "  if (typeof root._bokeh_onload_callbacks === \"undefined\" || force === true) {\n",
       "    root._bokeh_onload_callbacks = [];\n",
       "    root._bokeh_is_loading = undefined;\n",
       "  }\n",
       "\n",
       "  var JS_MIME_TYPE = 'application/javascript';\n",
       "  var HTML_MIME_TYPE = 'text/html';\n",
       "  var EXEC_MIME_TYPE = 'application/vnd.bokehjs_exec.v0+json';\n",
       "  var CLASS_NAME = 'output_bokeh rendered_html';\n",
       "\n",
       "  /**\n",
       "   * Render data to the DOM node\n",
       "   */\n",
       "  function render(props, node) {\n",
       "    var script = document.createElement(\"script\");\n",
       "    node.appendChild(script);\n",
       "  }\n",
       "\n",
       "  /**\n",
       "   * Handle when an output is cleared or removed\n",
       "   */\n",
       "  function handleClearOutput(event, handle) {\n",
       "    var cell = handle.cell;\n",
       "\n",
       "    var id = cell.output_area._bokeh_element_id;\n",
       "    var server_id = cell.output_area._bokeh_server_id;\n",
       "    // Clean up Bokeh references\n",
       "    if (id != null && id in Bokeh.index) {\n",
       "      Bokeh.index[id].model.document.clear();\n",
       "      delete Bokeh.index[id];\n",
       "    }\n",
       "\n",
       "    if (server_id !== undefined) {\n",
       "      // Clean up Bokeh references\n",
       "      var cmd = \"from bokeh.io.state import curstate; print(curstate().uuid_to_server['\" + server_id + \"'].get_sessions()[0].document.roots[0]._id)\";\n",
       "      cell.notebook.kernel.execute(cmd, {\n",
       "        iopub: {\n",
       "          output: function(msg) {\n",
       "            var id = msg.content.text.trim();\n",
       "            if (id in Bokeh.index) {\n",
       "              Bokeh.index[id].model.document.clear();\n",
       "              delete Bokeh.index[id];\n",
       "            }\n",
       "          }\n",
       "        }\n",
       "      });\n",
       "      // Destroy server and session\n",
       "      var cmd = \"import bokeh.io.notebook as ion; ion.destroy_server('\" + server_id + \"')\";\n",
       "      cell.notebook.kernel.execute(cmd);\n",
       "    }\n",
       "  }\n",
       "\n",
       "  /**\n",
       "   * Handle when a new output is added\n",
       "   */\n",
       "  function handleAddOutput(event, handle) {\n",
       "    var output_area = handle.output_area;\n",
       "    var output = handle.output;\n",
       "\n",
       "    // limit handleAddOutput to display_data with EXEC_MIME_TYPE content only\n",
       "    if ((output.output_type != \"display_data\") || (!output.data.hasOwnProperty(EXEC_MIME_TYPE))) {\n",
       "      return\n",
       "    }\n",
       "\n",
       "    var toinsert = output_area.element.find(\".\" + CLASS_NAME.split(' ')[0]);\n",
       "\n",
       "    if (output.metadata[EXEC_MIME_TYPE][\"id\"] !== undefined) {\n",
       "      toinsert[toinsert.length - 1].firstChild.textContent = output.data[JS_MIME_TYPE];\n",
       "      // store reference to embed id on output_area\n",
       "      output_area._bokeh_element_id = output.metadata[EXEC_MIME_TYPE][\"id\"];\n",
       "    }\n",
       "    if (output.metadata[EXEC_MIME_TYPE][\"server_id\"] !== undefined) {\n",
       "      var bk_div = document.createElement(\"div\");\n",
       "      bk_div.innerHTML = output.data[HTML_MIME_TYPE];\n",
       "      var script_attrs = bk_div.children[0].attributes;\n",
       "      for (var i = 0; i < script_attrs.length; i++) {\n",
       "        toinsert[toinsert.length - 1].firstChild.setAttribute(script_attrs[i].name, script_attrs[i].value);\n",
       "        toinsert[toinsert.length - 1].firstChild.textContent = bk_div.children[0].textContent\n",
       "      }\n",
       "      // store reference to server id on output_area\n",
       "      output_area._bokeh_server_id = output.metadata[EXEC_MIME_TYPE][\"server_id\"];\n",
       "    }\n",
       "  }\n",
       "\n",
       "  function register_renderer(events, OutputArea) {\n",
       "\n",
       "    function append_mime(data, metadata, element) {\n",
       "      // create a DOM node to render to\n",
       "      var toinsert = this.create_output_subarea(\n",
       "        metadata,\n",
       "        CLASS_NAME,\n",
       "        EXEC_MIME_TYPE\n",
       "      );\n",
       "      this.keyboard_manager.register_events(toinsert);\n",
       "      // Render to node\n",
       "      var props = {data: data, metadata: metadata[EXEC_MIME_TYPE]};\n",
       "      render(props, toinsert[toinsert.length - 1]);\n",
       "      element.append(toinsert);\n",
       "      return toinsert\n",
       "    }\n",
       "\n",
       "    /* Handle when an output is cleared or removed */\n",
       "    events.on('clear_output.CodeCell', handleClearOutput);\n",
       "    events.on('delete.Cell', handleClearOutput);\n",
       "\n",
       "    /* Handle when a new output is added */\n",
       "    events.on('output_added.OutputArea', handleAddOutput);\n",
       "\n",
       "    /**\n",
       "     * Register the mime type and append_mime function with output_area\n",
       "     */\n",
       "    OutputArea.prototype.register_mime_type(EXEC_MIME_TYPE, append_mime, {\n",
       "      /* Is output safe? */\n",
       "      safe: true,\n",
       "      /* Index of renderer in `output_area.display_order` */\n",
       "      index: 0\n",
       "    });\n",
       "  }\n",
       "\n",
       "  // register the mime type if in Jupyter Notebook environment and previously unregistered\n",
       "  if (root.Jupyter !== undefined) {\n",
       "    var events = require('base/js/events');\n",
       "    var OutputArea = require('notebook/js/outputarea').OutputArea;\n",
       "\n",
       "    if (OutputArea.prototype.mime_types().indexOf(EXEC_MIME_TYPE) == -1) {\n",
       "      register_renderer(events, OutputArea);\n",
       "    }\n",
       "  }\n",
       "\n",
       "  \n",
       "  if (typeof (root._bokeh_timeout) === \"undefined\" || force === true) {\n",
       "    root._bokeh_timeout = Date.now() + 5000;\n",
       "    root._bokeh_failed_load = false;\n",
       "  }\n",
       "\n",
       "  var NB_LOAD_WARNING = {'data': {'text/html':\n",
       "     \"<div style='background-color: #fdd'>\\n\"+\n",
       "     \"<p>\\n\"+\n",
       "     \"BokehJS does not appear to have successfully loaded. If loading BokehJS from CDN, this \\n\"+\n",
       "     \"may be due to a slow or bad network connection. Possible fixes:\\n\"+\n",
       "     \"</p>\\n\"+\n",
       "     \"<ul>\\n\"+\n",
       "     \"<li>re-rerun `output_notebook()` to attempt to load from CDN again, or</li>\\n\"+\n",
       "     \"<li>use INLINE resources instead, as so:</li>\\n\"+\n",
       "     \"</ul>\\n\"+\n",
       "     \"<code>\\n\"+\n",
       "     \"from bokeh.resources import INLINE\\n\"+\n",
       "     \"output_notebook(resources=INLINE)\\n\"+\n",
       "     \"</code>\\n\"+\n",
       "     \"</div>\"}};\n",
       "\n",
       "  function display_loaded() {\n",
       "    var el = document.getElementById(\"1124\");\n",
       "    if (el != null) {\n",
       "      el.textContent = \"BokehJS is loading...\";\n",
       "    }\n",
       "    if (root.Bokeh !== undefined) {\n",
       "      if (el != null) {\n",
       "        el.textContent = \"BokehJS \" + root.Bokeh.version + \" successfully loaded.\";\n",
       "      }\n",
       "    } else if (Date.now() < root._bokeh_timeout) {\n",
       "      setTimeout(display_loaded, 100)\n",
       "    }\n",
       "  }\n",
       "\n",
       "\n",
       "  function run_callbacks() {\n",
       "    try {\n",
       "      root._bokeh_onload_callbacks.forEach(function(callback) {\n",
       "        if (callback != null)\n",
       "          callback();\n",
       "      });\n",
       "    } finally {\n",
       "      delete root._bokeh_onload_callbacks\n",
       "    }\n",
       "    console.debug(\"Bokeh: all callbacks have finished\");\n",
       "  }\n",
       "\n",
       "  function load_libs(css_urls, js_urls, callback) {\n",
       "    if (css_urls == null) css_urls = [];\n",
       "    if (js_urls == null) js_urls = [];\n",
       "\n",
       "    root._bokeh_onload_callbacks.push(callback);\n",
       "    if (root._bokeh_is_loading > 0) {\n",
       "      console.debug(\"Bokeh: BokehJS is being loaded, scheduling callback at\", now());\n",
       "      return null;\n",
       "    }\n",
       "    if (js_urls == null || js_urls.length === 0) {\n",
       "      run_callbacks();\n",
       "      return null;\n",
       "    }\n",
       "    console.debug(\"Bokeh: BokehJS not loaded, scheduling load and callback at\", now());\n",
       "    root._bokeh_is_loading = css_urls.length + js_urls.length;\n",
       "\n",
       "    function on_load() {\n",
       "      root._bokeh_is_loading--;\n",
       "      if (root._bokeh_is_loading === 0) {\n",
       "        console.debug(\"Bokeh: all BokehJS libraries/stylesheets loaded\");\n",
       "        run_callbacks()\n",
       "      }\n",
       "    }\n",
       "\n",
       "    function on_error() {\n",
       "      console.error(\"failed to load \" + url);\n",
       "    }\n",
       "\n",
       "    for (var i = 0; i < css_urls.length; i++) {\n",
       "      var url = css_urls[i];\n",
       "      const element = document.createElement(\"link\");\n",
       "      element.onload = on_load;\n",
       "      element.onerror = on_error;\n",
       "      element.rel = \"stylesheet\";\n",
       "      element.type = \"text/css\";\n",
       "      element.href = url;\n",
       "      console.debug(\"Bokeh: injecting link tag for BokehJS stylesheet: \", url);\n",
       "      document.body.appendChild(element);\n",
       "    }\n",
       "\n",
       "    const hashes = {\"https://cdn.bokeh.org/bokeh/release/bokeh-2.2.3.min.js\": \"T2yuo9Oe71Cz/I4X9Ac5+gpEa5a8PpJCDlqKYO0CfAuEszu1JrXLl8YugMqYe3sM\", \"https://cdn.bokeh.org/bokeh/release/bokeh-widgets-2.2.3.min.js\": \"98GDGJ0kOMCUMUePhksaQ/GYgB3+NH9h996V88sh3aOiUNX3N+fLXAtry6xctSZ6\", \"https://cdn.bokeh.org/bokeh/release/bokeh-tables-2.2.3.min.js\": \"89bArO+nlbP3sgakeHjCo1JYxYR5wufVgA3IbUvDY+K7w4zyxJqssu7wVnfeKCq8\"};\n",
       "\n",
       "    for (var i = 0; i < js_urls.length; i++) {\n",
       "      var url = js_urls[i];\n",
       "      var element = document.createElement('script');\n",
       "      element.onload = on_load;\n",
       "      element.onerror = on_error;\n",
       "      element.async = false;\n",
       "      element.src = url;\n",
       "      if (url in hashes) {\n",
       "        element.crossOrigin = \"anonymous\";\n",
       "        element.integrity = \"sha384-\" + hashes[url];\n",
       "      }\n",
       "      console.debug(\"Bokeh: injecting script tag for BokehJS library: \", url);\n",
       "      document.head.appendChild(element);\n",
       "    }\n",
       "  };\n",
       "\n",
       "  function inject_raw_css(css) {\n",
       "    const element = document.createElement(\"style\");\n",
       "    element.appendChild(document.createTextNode(css));\n",
       "    document.body.appendChild(element);\n",
       "  }\n",
       "\n",
       "  \n",
       "  var js_urls = [\"https://cdn.bokeh.org/bokeh/release/bokeh-2.2.3.min.js\", \"https://cdn.bokeh.org/bokeh/release/bokeh-widgets-2.2.3.min.js\", \"https://cdn.bokeh.org/bokeh/release/bokeh-tables-2.2.3.min.js\"];\n",
       "  var css_urls = [];\n",
       "  \n",
       "\n",
       "  var inline_js = [\n",
       "    function(Bokeh) {\n",
       "      Bokeh.set_log_level(\"info\");\n",
       "    },\n",
       "    function(Bokeh) {\n",
       "    \n",
       "    \n",
       "    }\n",
       "  ];\n",
       "\n",
       "  function run_inline_js() {\n",
       "    \n",
       "    if (root.Bokeh !== undefined || force === true) {\n",
       "      \n",
       "    for (var i = 0; i < inline_js.length; i++) {\n",
       "      inline_js[i].call(root, root.Bokeh);\n",
       "    }\n",
       "    if (force === true) {\n",
       "        display_loaded();\n",
       "      }} else if (Date.now() < root._bokeh_timeout) {\n",
       "      setTimeout(run_inline_js, 100);\n",
       "    } else if (!root._bokeh_failed_load) {\n",
       "      console.log(\"Bokeh: BokehJS failed to load within specified timeout.\");\n",
       "      root._bokeh_failed_load = true;\n",
       "    } else if (force !== true) {\n",
       "      var cell = $(document.getElementById(\"1124\")).parents('.cell').data().cell;\n",
       "      cell.output_area.append_execute_result(NB_LOAD_WARNING)\n",
       "    }\n",
       "\n",
       "  }\n",
       "\n",
       "  if (root._bokeh_is_loading === 0) {\n",
       "    console.debug(\"Bokeh: BokehJS loaded, going straight to plotting\");\n",
       "    run_inline_js();\n",
       "  } else {\n",
       "    load_libs(css_urls, js_urls, function() {\n",
       "      console.debug(\"Bokeh: BokehJS plotting callback run at\", now());\n",
       "      run_inline_js();\n",
       "    });\n",
       "  }\n",
       "}(window));"
      ],
      "application/vnd.bokehjs_load.v0+json": "\n(function(root) {\n  function now() {\n    return new Date();\n  }\n\n  var force = true;\n\n  if (typeof root._bokeh_onload_callbacks === \"undefined\" || force === true) {\n    root._bokeh_onload_callbacks = [];\n    root._bokeh_is_loading = undefined;\n  }\n\n  \n\n  \n  if (typeof (root._bokeh_timeout) === \"undefined\" || force === true) {\n    root._bokeh_timeout = Date.now() + 5000;\n    root._bokeh_failed_load = false;\n  }\n\n  var NB_LOAD_WARNING = {'data': {'text/html':\n     \"<div style='background-color: #fdd'>\\n\"+\n     \"<p>\\n\"+\n     \"BokehJS does not appear to have successfully loaded. If loading BokehJS from CDN, this \\n\"+\n     \"may be due to a slow or bad network connection. Possible fixes:\\n\"+\n     \"</p>\\n\"+\n     \"<ul>\\n\"+\n     \"<li>re-rerun `output_notebook()` to attempt to load from CDN again, or</li>\\n\"+\n     \"<li>use INLINE resources instead, as so:</li>\\n\"+\n     \"</ul>\\n\"+\n     \"<code>\\n\"+\n     \"from bokeh.resources import INLINE\\n\"+\n     \"output_notebook(resources=INLINE)\\n\"+\n     \"</code>\\n\"+\n     \"</div>\"}};\n\n  function display_loaded() {\n    var el = document.getElementById(\"1124\");\n    if (el != null) {\n      el.textContent = \"BokehJS is loading...\";\n    }\n    if (root.Bokeh !== undefined) {\n      if (el != null) {\n        el.textContent = \"BokehJS \" + root.Bokeh.version + \" successfully loaded.\";\n      }\n    } else if (Date.now() < root._bokeh_timeout) {\n      setTimeout(display_loaded, 100)\n    }\n  }\n\n\n  function run_callbacks() {\n    try {\n      root._bokeh_onload_callbacks.forEach(function(callback) {\n        if (callback != null)\n          callback();\n      });\n    } finally {\n      delete root._bokeh_onload_callbacks\n    }\n    console.debug(\"Bokeh: all callbacks have finished\");\n  }\n\n  function load_libs(css_urls, js_urls, callback) {\n    if (css_urls == null) css_urls = [];\n    if (js_urls == null) js_urls = [];\n\n    root._bokeh_onload_callbacks.push(callback);\n    if (root._bokeh_is_loading > 0) {\n      console.debug(\"Bokeh: BokehJS is being loaded, scheduling callback at\", now());\n      return null;\n    }\n    if (js_urls == null || js_urls.length === 0) {\n      run_callbacks();\n      return null;\n    }\n    console.debug(\"Bokeh: BokehJS not loaded, scheduling load and callback at\", now());\n    root._bokeh_is_loading = css_urls.length + js_urls.length;\n\n    function on_load() {\n      root._bokeh_is_loading--;\n      if (root._bokeh_is_loading === 0) {\n        console.debug(\"Bokeh: all BokehJS libraries/stylesheets loaded\");\n        run_callbacks()\n      }\n    }\n\n    function on_error() {\n      console.error(\"failed to load \" + url);\n    }\n\n    for (var i = 0; i < css_urls.length; i++) {\n      var url = css_urls[i];\n      const element = document.createElement(\"link\");\n      element.onload = on_load;\n      element.onerror = on_error;\n      element.rel = \"stylesheet\";\n      element.type = \"text/css\";\n      element.href = url;\n      console.debug(\"Bokeh: injecting link tag for BokehJS stylesheet: \", url);\n      document.body.appendChild(element);\n    }\n\n    const hashes = {\"https://cdn.bokeh.org/bokeh/release/bokeh-2.2.3.min.js\": \"T2yuo9Oe71Cz/I4X9Ac5+gpEa5a8PpJCDlqKYO0CfAuEszu1JrXLl8YugMqYe3sM\", \"https://cdn.bokeh.org/bokeh/release/bokeh-widgets-2.2.3.min.js\": \"98GDGJ0kOMCUMUePhksaQ/GYgB3+NH9h996V88sh3aOiUNX3N+fLXAtry6xctSZ6\", \"https://cdn.bokeh.org/bokeh/release/bokeh-tables-2.2.3.min.js\": \"89bArO+nlbP3sgakeHjCo1JYxYR5wufVgA3IbUvDY+K7w4zyxJqssu7wVnfeKCq8\"};\n\n    for (var i = 0; i < js_urls.length; i++) {\n      var url = js_urls[i];\n      var element = document.createElement('script');\n      element.onload = on_load;\n      element.onerror = on_error;\n      element.async = false;\n      element.src = url;\n      if (url in hashes) {\n        element.crossOrigin = \"anonymous\";\n        element.integrity = \"sha384-\" + hashes[url];\n      }\n      console.debug(\"Bokeh: injecting script tag for BokehJS library: \", url);\n      document.head.appendChild(element);\n    }\n  };\n\n  function inject_raw_css(css) {\n    const element = document.createElement(\"style\");\n    element.appendChild(document.createTextNode(css));\n    document.body.appendChild(element);\n  }\n\n  \n  var js_urls = [\"https://cdn.bokeh.org/bokeh/release/bokeh-2.2.3.min.js\", \"https://cdn.bokeh.org/bokeh/release/bokeh-widgets-2.2.3.min.js\", \"https://cdn.bokeh.org/bokeh/release/bokeh-tables-2.2.3.min.js\"];\n  var css_urls = [];\n  \n\n  var inline_js = [\n    function(Bokeh) {\n      Bokeh.set_log_level(\"info\");\n    },\n    function(Bokeh) {\n    \n    \n    }\n  ];\n\n  function run_inline_js() {\n    \n    if (root.Bokeh !== undefined || force === true) {\n      \n    for (var i = 0; i < inline_js.length; i++) {\n      inline_js[i].call(root, root.Bokeh);\n    }\n    if (force === true) {\n        display_loaded();\n      }} else if (Date.now() < root._bokeh_timeout) {\n      setTimeout(run_inline_js, 100);\n    } else if (!root._bokeh_failed_load) {\n      console.log(\"Bokeh: BokehJS failed to load within specified timeout.\");\n      root._bokeh_failed_load = true;\n    } else if (force !== true) {\n      var cell = $(document.getElementById(\"1124\")).parents('.cell').data().cell;\n      cell.output_area.append_execute_result(NB_LOAD_WARNING)\n    }\n\n  }\n\n  if (root._bokeh_is_loading === 0) {\n    console.debug(\"Bokeh: BokehJS loaded, going straight to plotting\");\n    run_inline_js();\n  } else {\n    load_libs(css_urls, js_urls, function() {\n      console.debug(\"Bokeh: BokehJS plotting callback run at\", now());\n      run_inline_js();\n    });\n  }\n}(window));"
     },
     "metadata": {},
     "output_type": "display_data"
    }
   ],
   "source": [
    "import pandas as pd\n",
    "import numpy as np\n",
    "from bokeh.models import (Band, ColumnDataSource, HoverTool, Span, \n",
    "                          LinearColorMapper, PrintfTickFormatter, BasicTicker, ColorBar)\n",
    "from bokeh.models.widgets import DataTable, DateFormatter, TableColumn, HTMLTemplateFormatter\n",
    "from bokeh.plotting import figure, show, output_file\n",
    "from bokeh.models.widgets import Panel, Tabs\n",
    "from bokeh.transform import transform\n",
    "from bokeh.palettes import Inferno\n",
    "from collections import OrderedDict\n",
    "from bokeh.io import output_notebook\n",
    "import seaborn as sns\n",
    "import matplotlib.pyplot as plt\n",
    "output_notebook()"
   ]
  },
  {
   "cell_type": "code",
   "execution_count": 10,
   "metadata": {},
   "outputs": [],
   "source": [
    "import json\n",
    "import pandas as pd\n",
    "pd.options.mode.chained_assignment = None\n",
    "\n",
    "def load_in(path_sewage, path_cases):\n",
    "    sewage = pd.read_json(path_sewage, orient= \"levels\")\n",
    "    cases = pd.read_json(path_cases, orient= \"levels\")\n",
    "    sewage.head()\n",
    "    cases.head()\n",
    "\n",
    "    return sewage, cases\n",
    "\n",
    "df_sewage, df_cases = load_in(\"Data/COVID-19_rioolwaterdata.json\", \n",
    "                              \"Data/COVID-19_aantallen_gemeente_cumulatief.json\")"
   ]
  },
  {
   "cell_type": "markdown",
   "metadata": {},
   "source": [
    "## Filtering\n",
    "For the filtering of the data the columns that are uneccesary for this research will be removed.\n",
    "Next there will be a check for missing data\n",
    "For the sewage data there will be looked at which measure points have been used \n",
    "throughout and the ones that have been added later.The measure points added later will be removed.\n",
    "\n",
    "Both datasets will be filtered on date. For an acurate date the sewage dataset is used. This is done\n",
    "by checking when they started wit measuring the RNA flow per 10.000 inhibitants instead of RNA per ml.\n",
    "This is done because it nearly impossible to calculate the RNA flow from the RNA per ml.\n",
    "The end date is the same as the end date of the last entry in the sewage dataset.\n",
    "\n",
    "Because of the many different measurepoints the RNA flow per 10.000 will be summed per province.\n",
    "This will also be done for the total amount of corona cases.\n",
    "\n"
   ]
  },
  {
   "cell_type": "markdown",
   "metadata": {},
   "source": [
    "#### sewage dataset"
   ]
  },
  {
   "cell_type": "code",
   "execution_count": 11,
   "metadata": {},
   "outputs": [
    {
     "name": "stdout",
     "output_type": "stream",
     "text": [
      "119\n",
      "1\n"
     ]
    }
   ],
   "source": [
    "# deleting uneccesary columns:\n",
    "\n",
    "df_sewage = df_sewage.drop([\"RWZI_AWZI_code\", \"RWZI_AWZI_name\", \"X_coordinate\", \"Y_coordinate\",\n",
    "                           \"Postal_code\", \"Security_region_code\", \"RNA_per_ml\"], axis = 1)\n",
    "\n",
    "# check unique values in the columns percentage_in_security_regrion and Representative_measurement to check \n",
    "# if there are any differences:\n",
    "\n",
    "print(df_sewage['Percentage_in_security_region'].nunique())\n",
    "\n",
    "print(df_sewage['Representative_measurement'].nunique())\n",
    "# with this we can remove the representative column because all values are TRUE\n",
    "df_sewage = df_sewage.drop(['Representative_measurement'], axis = 1)\n",
    "\n"
   ]
  },
  {
   "cell_type": "code",
   "execution_count": 12,
   "metadata": {
    "scrolled": false
   },
   "outputs": [
    {
     "data": {
      "text/plain": [
       "Date_measurement                  285\n",
       "Security_region_name               26\n",
       "Percentage_in_security_region     119\n",
       "RNA_flow_per_100000              8001\n",
       "Province                           12\n",
       "dtype: int64"
      ]
     },
     "execution_count": 12,
     "metadata": {},
     "output_type": "execute_result"
    }
   ],
   "source": [
    "import numpy as np\n",
    "# check the number of unique values in the Security region name.\n",
    "df_sewage['Security_region_name'].nunique()\n",
    "\n",
    "# from this we can see that there are 26 regions measured. However there are only twelve provinces.\n",
    "# We will check per region name in which province they belong and add them in an additional column.\n",
    "\n",
    "df_sewage.Security_region_name.unique()\n",
    "df_sewage[\"Province\"] = np.nan\n",
    "\n",
    "df_sewage.loc[(df_sewage.Security_region_name == \"Midden- en West-Brabant\")|\n",
    "              (df_sewage.Security_region_name == \"Brabant-Noord\")| \n",
    "              (df_sewage.Security_region_name == \"Brabant-Zuidoost\"), 'Province'] = \"Noord Brabant\"\n",
    "#df_sewage.loc[df_sewage.Security_region_name == \"Brabant-Noord\", 'Province'] = \"Noord Brabant\"\n",
    "#df_sewage.loc[df_sewage.Security_region_name == \"Brabant-Zuidoost\", 'Province'] = \"Noord Brabant\"\n",
    "\n",
    "df_sewage.loc[(df_sewage.Security_region_name == \"IJsselland\")|\n",
    "              (df_sewage.Security_region_name == \"Ijsselland\")|\n",
    "              (df_sewage.Security_region_name == \"Twente\"), 'Province'] = \"Overijssel\"\n",
    "# df_sewage.loc[df_sewage.Security_region_name == \"Ijsselland\", 'Province'] = \"Overijssel\"\n",
    "# df_sewage.loc[df_sewage.Security_region_name == \"Twente\", 'Province'] = \"Overijssel\"\n",
    "\n",
    "df_sewage.loc[(df_sewage.Security_region_name == \"Gelderland-Midden\")|\n",
    "              (df_sewage.Security_region_name == \"Gelderland-Zuid\")|\n",
    "              (df_sewage.Security_region_name == \"Noord- en Oost-Gelderland\"), 'Province'] = \"Gelderland\"\n",
    "# df_sewage.loc[df_sewage.Security_region_name == \"Gelderland-Zuid\", 'Province'] = \"Gelderland\"\n",
    "# df_sewage.loc[df_sewage.Security_region_name == \"Noord- en Oost-Gelderland\", 'Province'] = \"Gelderland\"\n",
    "\n",
    "df_sewage.loc[(df_sewage.Security_region_name == \"Kennemerland\")|\n",
    "              (df_sewage.Security_region_name == \"Noord-Holland-Noord\")|\n",
    "              (df_sewage.Security_region_name == \"Zaanstreek-Waterland\")|\n",
    "              (df_sewage.Security_region_name == \"Amsterdam-Amstelland\")|\n",
    "              (df_sewage.Security_region_name == \"Gooi en Vechtstreek\"), 'Province'] = \"Noord Holland\"\n",
    "# df_sewage.loc[df_sewage.Security_region_name == \"Noord-Holland-Noord\", 'Province'] = \"Noord Holland\"\n",
    "# df_sewage.loc[df_sewage.Security_region_name == \"Zaanstreek-Waterland\", 'Province'] = \"Noord Holland\"\n",
    "# df_sewage.loc[df_sewage.Security_region_name == \"Amsterdam-Amstelland\", 'Province'] = \"Noord Holland\"\n",
    "# df_sewage.loc[df_sewage.Security_region_name == \"Gooi en Vechtstreek\", 'Province'] = \"Noord Holland\"\n",
    "\n",
    "df_sewage.loc[(df_sewage.Security_region_name == \"Hollands-Midden\")|\n",
    "              (df_sewage.Security_region_name == \"Haaglanden\")|\n",
    "              (df_sewage.Security_region_name == \"Rotterdam-Rijnmond\")|\n",
    "              (df_sewage.Security_region_name == \"Zuid-Holland-Zuid\"), 'Province'] = \"Zuid Holland\"\n",
    "# df_sewage.loc[df_sewage.Security_region_name == \"Haaglanden\", 'Province'] = \"Zuid Holland\"\n",
    "# df_sewage.loc[df_sewage.Security_region_name == \"Rotterdam-Rijnmond\", 'Province'] = \"Zuid Holland\"\n",
    "# df_sewage.loc[df_sewage.Security_region_name == \"Zuid-Holland-Zuid\", 'Province'] = \"Zuid Holland\"\n",
    "\n",
    "df_sewage.loc[(df_sewage.Security_region_name == \"Limburg-Noord\")|\n",
    "              (df_sewage.Security_region_name == \"Limburg-Zuid\"), 'Province'] = \"Limburg\"\n",
    "# df_sewage.loc[df_sewage.Security_region_name == \"Limburg-Zuid\", 'Province'] = \"Limburg\"\n",
    "\n",
    "df_sewage.loc[df_sewage.Security_region_name == \"Drenthe\", 'Province'] = \"Drenthe\"\n",
    "df_sewage.loc[df_sewage.Security_region_name == \"Groningen\", 'Province'] = \"Groningen\"\n",
    "df_sewage.loc[df_sewage.Security_region_name == \"Friesland\", 'Province'] = \"Friesland\"\n",
    "df_sewage.loc[df_sewage.Security_region_name == \"Utrecht\", 'Province'] = \"Utrecht\"\n",
    "df_sewage.loc[df_sewage.Security_region_name == \"Flevoland\", 'Province'] = \"Flevoland\"\n",
    "df_sewage.loc[df_sewage.Security_region_name == \"Zeeland\", 'Province'] = \"Zeeland\"\n",
    "\n",
    "df_sewage.nunique()"
   ]
  },
  {
   "cell_type": "code",
   "execution_count": 13,
   "metadata": {},
   "outputs": [
    {
     "name": "stdout",
     "output_type": "stream",
     "text": [
      "Date_measurement                 object\n",
      "Security_region_name             object\n",
      "Percentage_in_security_region    object\n",
      "RNA_flow_per_100000              object\n",
      "Province                         object\n",
      "dtype: object\n"
     ]
    },
    {
     "data": {
      "text/html": [
       "<div>\n",
       "<style scoped>\n",
       "    .dataframe tbody tr th:only-of-type {\n",
       "        vertical-align: middle;\n",
       "    }\n",
       "\n",
       "    .dataframe tbody tr th {\n",
       "        vertical-align: top;\n",
       "    }\n",
       "\n",
       "    .dataframe thead th {\n",
       "        text-align: right;\n",
       "    }\n",
       "</style>\n",
       "<table border=\"1\" class=\"dataframe\">\n",
       "  <thead>\n",
       "    <tr style=\"text-align: right;\">\n",
       "      <th></th>\n",
       "      <th>Date_measurement</th>\n",
       "      <th>Security_region_name</th>\n",
       "      <th>Percentage_in_security_region</th>\n",
       "      <th>RNA_flow_per_100000</th>\n",
       "      <th>Province</th>\n",
       "    </tr>\n",
       "  </thead>\n",
       "  <tbody>\n",
       "    <tr>\n",
       "      <th>1266</th>\n",
       "      <td>2020-09-07</td>\n",
       "      <td>IJsselland</td>\n",
       "      <td>1</td>\n",
       "      <td>0</td>\n",
       "      <td>Overijssel</td>\n",
       "    </tr>\n",
       "    <tr>\n",
       "      <th>1267</th>\n",
       "      <td>2020-09-07</td>\n",
       "      <td>Limburg-Zuid</td>\n",
       "      <td>1</td>\n",
       "      <td>0</td>\n",
       "      <td>Limburg</td>\n",
       "    </tr>\n",
       "    <tr>\n",
       "      <th>1268</th>\n",
       "      <td>2020-09-07</td>\n",
       "      <td>Limburg-Noord</td>\n",
       "      <td>1</td>\n",
       "      <td>0</td>\n",
       "      <td>Limburg</td>\n",
       "    </tr>\n",
       "    <tr>\n",
       "      <th>1269</th>\n",
       "      <td>2020-09-07</td>\n",
       "      <td>Utrecht</td>\n",
       "      <td>1</td>\n",
       "      <td>0</td>\n",
       "      <td>Utrecht</td>\n",
       "    </tr>\n",
       "    <tr>\n",
       "      <th>1270</th>\n",
       "      <td>2020-09-07</td>\n",
       "      <td>Haaglanden</td>\n",
       "      <td>0,841309046</td>\n",
       "      <td>0</td>\n",
       "      <td>Zuid Holland</td>\n",
       "    </tr>\n",
       "  </tbody>\n",
       "</table>\n",
       "</div>"
      ],
      "text/plain": [
       "     Date_measurement Security_region_name Percentage_in_security_region  \\\n",
       "1266       2020-09-07           IJsselland                             1   \n",
       "1267       2020-09-07         Limburg-Zuid                             1   \n",
       "1268       2020-09-07        Limburg-Noord                             1   \n",
       "1269       2020-09-07              Utrecht                             1   \n",
       "1270       2020-09-07           Haaglanden                   0,841309046   \n",
       "\n",
       "      RNA_flow_per_100000      Province  \n",
       "1266                    0    Overijssel  \n",
       "1267                    0       Limburg  \n",
       "1268                    0       Limburg  \n",
       "1269                    0       Utrecht  \n",
       "1270                    0  Zuid Holland  "
      ]
     },
     "execution_count": 13,
     "metadata": {},
     "output_type": "execute_result"
    }
   ],
   "source": [
    "# remove the empty entries for the RNA column\n",
    "df_sewage = df_sewage.replace(r'^\\s*$', np.nan, regex=True)\n",
    "df_sewage.dropna(subset = [\"RNA_flow_per_100000\"], inplace=True)\n",
    "\n",
    "#checking data types of the sewage dataframe\n",
    "print(df_sewage.dtypes)\n",
    "# the datatypes for the date should be changed, \n",
    "#furthermore the datatype of the percentage and the RNA column should be changed\n",
    "df_sewage['Date_measurement'] = df_sewage['Date_measurement'].astype('datetime64[ns]')\n",
    "df_sewage['RNA_flow_per_100000'] = df_sewage['RNA_flow_per_100000'].astype('int64')\n",
    "\n",
    "#df_sewage[\"Percentage_in_security_region\"].replace({\",\": \".\"}, inplace=True)\n",
    "#df_sewage['Percentage_in_security_region'] = df_sewage['Percentage_in_security_region'].astype('float')\n",
    "\n",
    "df_sewage.head()"
   ]
  },
  {
   "cell_type": "markdown",
   "metadata": {},
   "source": [
    "### The Cases dataset is from 13th of March 2020 to the first of February 2021. However the sewage dataset is only from the 7th of September 2020 to the 27th of January 2021.\n",
    "#### To work with both datsets and being able to compare them all dates out of the sewage dates will be removed from the cases dataet. This way it will be more logical to compare the two together."
   ]
  },
  {
   "cell_type": "code",
   "execution_count": 14,
   "metadata": {},
   "outputs": [],
   "source": [
    "df_cases['Date_of_report'] =pd.to_datetime(df_cases.Date_of_report)\n",
    "#df_cases.dtypes\n",
    "\n",
    "start_date = pd.to_datetime('2020/09/07')\n",
    "end_date = pd.to_datetime('2021/01/28')\n",
    "mask = (df_cases['Date_of_report'] > start_date) & (df_cases['Date_of_report'] <= end_date)\n",
    "df_cases = df_cases.loc[mask]"
   ]
  },
  {
   "cell_type": "code",
   "execution_count": 15,
   "metadata": {},
   "outputs": [
    {
     "data": {
      "text/html": [
       "<div>\n",
       "<style scoped>\n",
       "    .dataframe tbody tr th:only-of-type {\n",
       "        vertical-align: middle;\n",
       "    }\n",
       "\n",
       "    .dataframe tbody tr th {\n",
       "        vertical-align: top;\n",
       "    }\n",
       "\n",
       "    .dataframe thead th {\n",
       "        text-align: right;\n",
       "    }\n",
       "</style>\n",
       "<table border=\"1\" class=\"dataframe\">\n",
       "  <thead>\n",
       "    <tr style=\"text-align: right;\">\n",
       "      <th></th>\n",
       "      <th>Date_of_report</th>\n",
       "      <th>Province</th>\n",
       "      <th>Total_reported</th>\n",
       "      <th>Hospital_admission</th>\n",
       "      <th>Deceased</th>\n",
       "    </tr>\n",
       "  </thead>\n",
       "  <tbody>\n",
       "    <tr>\n",
       "      <th>65326</th>\n",
       "      <td>2020-09-07 10:00:00</td>\n",
       "      <td>Groningen</td>\n",
       "      <td>7</td>\n",
       "      <td>3</td>\n",
       "      <td>0</td>\n",
       "    </tr>\n",
       "    <tr>\n",
       "      <th>65327</th>\n",
       "      <td>2020-09-07 10:00:00</td>\n",
       "      <td>Groningen</td>\n",
       "      <td>63</td>\n",
       "      <td>6</td>\n",
       "      <td>0</td>\n",
       "    </tr>\n",
       "    <tr>\n",
       "      <th>65328</th>\n",
       "      <td>2020-09-07 10:00:00</td>\n",
       "      <td>Groningen</td>\n",
       "      <td>335</td>\n",
       "      <td>18</td>\n",
       "      <td>3</td>\n",
       "    </tr>\n",
       "    <tr>\n",
       "      <th>65329</th>\n",
       "      <td>2020-09-07 10:00:00</td>\n",
       "      <td>Groningen</td>\n",
       "      <td>2</td>\n",
       "      <td>0</td>\n",
       "      <td>0</td>\n",
       "    </tr>\n",
       "    <tr>\n",
       "      <th>65330</th>\n",
       "      <td>2020-09-07 10:00:00</td>\n",
       "      <td>Flevoland</td>\n",
       "      <td>817</td>\n",
       "      <td>132</td>\n",
       "      <td>33</td>\n",
       "    </tr>\n",
       "  </tbody>\n",
       "</table>\n",
       "</div>"
      ],
      "text/plain": [
       "           Date_of_report   Province  Total_reported  Hospital_admission  \\\n",
       "65326 2020-09-07 10:00:00  Groningen               7                   3   \n",
       "65327 2020-09-07 10:00:00  Groningen              63                   6   \n",
       "65328 2020-09-07 10:00:00  Groningen             335                  18   \n",
       "65329 2020-09-07 10:00:00  Groningen               2                   0   \n",
       "65330 2020-09-07 10:00:00  Flevoland             817                 132   \n",
       "\n",
       "       Deceased  \n",
       "65326         0  \n",
       "65327         0  \n",
       "65328         3  \n",
       "65329         0  \n",
       "65330        33  "
      ]
     },
     "execution_count": 15,
     "metadata": {},
     "output_type": "execute_result"
    }
   ],
   "source": [
    "# furthermore the columns with useless values (for this research) will be removed\n",
    "df_cases = df_cases.drop([\"Municipality_code\", \"Municipality_name\"], axis = 1)\n",
    "df_cases.head()"
   ]
  },
  {
   "cell_type": "code",
   "execution_count": 16,
   "metadata": {
    "scrolled": true
   },
   "outputs": [
    {
     "data": {
      "text/html": [
       "<div>\n",
       "<style scoped>\n",
       "    .dataframe tbody tr th:only-of-type {\n",
       "        vertical-align: middle;\n",
       "    }\n",
       "\n",
       "    .dataframe tbody tr th {\n",
       "        vertical-align: top;\n",
       "    }\n",
       "\n",
       "    .dataframe thead th {\n",
       "        text-align: right;\n",
       "    }\n",
       "</style>\n",
       "<table border=\"1\" class=\"dataframe\">\n",
       "  <thead>\n",
       "    <tr style=\"text-align: right;\">\n",
       "      <th></th>\n",
       "      <th>Date_measurement</th>\n",
       "      <th>Security_region_name</th>\n",
       "      <th>Percentage_in_security_region</th>\n",
       "      <th>RNA_flow_per_100000</th>\n",
       "      <th>Province</th>\n",
       "    </tr>\n",
       "  </thead>\n",
       "  <tbody>\n",
       "    <tr>\n",
       "      <th>1266</th>\n",
       "      <td>2020-09-07</td>\n",
       "      <td>IJsselland</td>\n",
       "      <td>1</td>\n",
       "      <td>0</td>\n",
       "      <td>Overijssel</td>\n",
       "    </tr>\n",
       "    <tr>\n",
       "      <th>1267</th>\n",
       "      <td>2020-09-07</td>\n",
       "      <td>Limburg-Zuid</td>\n",
       "      <td>1</td>\n",
       "      <td>0</td>\n",
       "      <td>Limburg</td>\n",
       "    </tr>\n",
       "    <tr>\n",
       "      <th>1268</th>\n",
       "      <td>2020-09-07</td>\n",
       "      <td>Limburg-Noord</td>\n",
       "      <td>1</td>\n",
       "      <td>0</td>\n",
       "      <td>Limburg</td>\n",
       "    </tr>\n",
       "    <tr>\n",
       "      <th>1269</th>\n",
       "      <td>2020-09-07</td>\n",
       "      <td>Utrecht</td>\n",
       "      <td>1</td>\n",
       "      <td>0</td>\n",
       "      <td>Utrecht</td>\n",
       "    </tr>\n",
       "    <tr>\n",
       "      <th>1270</th>\n",
       "      <td>2020-09-07</td>\n",
       "      <td>Haaglanden</td>\n",
       "      <td>0,841309046</td>\n",
       "      <td>0</td>\n",
       "      <td>Zuid Holland</td>\n",
       "    </tr>\n",
       "    <tr>\n",
       "      <th>...</th>\n",
       "      <td>...</td>\n",
       "      <td>...</td>\n",
       "      <td>...</td>\n",
       "      <td>...</td>\n",
       "      <td>...</td>\n",
       "    </tr>\n",
       "    <tr>\n",
       "      <th>10515</th>\n",
       "      <td>2021-01-27</td>\n",
       "      <td>Gelderland-Midden</td>\n",
       "      <td>1</td>\n",
       "      <td>12320280273098</td>\n",
       "      <td>Gelderland</td>\n",
       "    </tr>\n",
       "    <tr>\n",
       "      <th>10516</th>\n",
       "      <td>2021-01-27</td>\n",
       "      <td>Limburg-Noord</td>\n",
       "      <td>1</td>\n",
       "      <td>17615099163688</td>\n",
       "      <td>Limburg</td>\n",
       "    </tr>\n",
       "    <tr>\n",
       "      <th>10517</th>\n",
       "      <td>2021-01-27</td>\n",
       "      <td>Midden- en West-Brabant</td>\n",
       "      <td>1</td>\n",
       "      <td>20535140783432</td>\n",
       "      <td>Noord Brabant</td>\n",
       "    </tr>\n",
       "    <tr>\n",
       "      <th>10518</th>\n",
       "      <td>2021-01-27</td>\n",
       "      <td>Gelderland-Midden</td>\n",
       "      <td>1</td>\n",
       "      <td>7748971717648</td>\n",
       "      <td>Gelderland</td>\n",
       "    </tr>\n",
       "    <tr>\n",
       "      <th>10519</th>\n",
       "      <td>2021-01-23</td>\n",
       "      <td>Drenthe</td>\n",
       "      <td>1</td>\n",
       "      <td>12600374491714</td>\n",
       "      <td>Drenthe</td>\n",
       "    </tr>\n",
       "  </tbody>\n",
       "</table>\n",
       "<p>9254 rows × 5 columns</p>\n",
       "</div>"
      ],
      "text/plain": [
       "      Date_measurement     Security_region_name Percentage_in_security_region  \\\n",
       "1266        2020-09-07               IJsselland                             1   \n",
       "1267        2020-09-07             Limburg-Zuid                             1   \n",
       "1268        2020-09-07            Limburg-Noord                             1   \n",
       "1269        2020-09-07                  Utrecht                             1   \n",
       "1270        2020-09-07               Haaglanden                   0,841309046   \n",
       "...                ...                      ...                           ...   \n",
       "10515       2021-01-27        Gelderland-Midden                             1   \n",
       "10516       2021-01-27            Limburg-Noord                             1   \n",
       "10517       2021-01-27  Midden- en West-Brabant                             1   \n",
       "10518       2021-01-27        Gelderland-Midden                             1   \n",
       "10519       2021-01-23                  Drenthe                             1   \n",
       "\n",
       "       RNA_flow_per_100000       Province  \n",
       "1266                     0     Overijssel  \n",
       "1267                     0        Limburg  \n",
       "1268                     0        Limburg  \n",
       "1269                     0        Utrecht  \n",
       "1270                     0   Zuid Holland  \n",
       "...                    ...            ...  \n",
       "10515       12320280273098     Gelderland  \n",
       "10516       17615099163688        Limburg  \n",
       "10517       20535140783432  Noord Brabant  \n",
       "10518        7748971717648     Gelderland  \n",
       "10519       12600374491714        Drenthe  \n",
       "\n",
       "[9254 rows x 5 columns]"
      ]
     },
     "execution_count": 16,
     "metadata": {},
     "output_type": "execute_result"
    }
   ],
   "source": [
    "df_cases = df_cases.rename(columns={'Date_of_report': 'Date_measurement'})\n",
    "df_sewage"
   ]
  },
  {
   "cell_type": "markdown",
   "metadata": {},
   "source": [
    "## Data comparison\n",
    "#### Now that both datasets have been cleaned an filtered, we can take a closer look to the data itself\n",
    "Because the data is so extensive we will first take a closer look at two provinces (Groningen and Friesland). \n",
    "We will then graph the cases of Groningen to the cases of Friesland.\n",
    "Furthermore we will graph the cases compared to the amount of virus particles in the sewage water."
   ]
  },
  {
   "cell_type": "code",
   "execution_count": 17,
   "metadata": {},
   "outputs": [],
   "source": [
    "# first lets create a simple graph visualizing the data in lines, to see if they follow the same curvation\n",
    "cases_g = df_cases[(df_cases['Province'] == 'Groningen')]\n",
    "cases_f = df_cases[(df_cases['Province'] == 'Friesland')]\n",
    "sewage_g = df_sewage[(df_sewage['Province'] == 'Groningen')]\n",
    "sewage_f = df_sewage[(df_sewage['Province'] == 'Friesland')]"
   ]
  },
  {
   "cell_type": "code",
   "execution_count": 31,
   "metadata": {},
   "outputs": [],
   "source": [
    "cases_g_sum = cases_g.groupby(by='Date_measurement').agg({'Total_reported': 'sum'})\n",
    "\n",
    "cases_f_sum = cases_f.groupby(by='Date_measurement').agg({'Total_reported': 'sum'})\n",
    "\n",
    "sewage_g_sum = sewage_g.groupby(by='Date_measurement').agg({'RNA_flow_per_100000': 'sum'})\n",
    "\n",
    "sewage_f_sum = sewage_f.groupby(by='Date_measurement').agg({'RNA_flow_per_100000': 'sum'})"
   ]
  },
  {
   "cell_type": "code",
   "execution_count": 32,
   "metadata": {},
   "outputs": [
    {
     "data": {
      "text/html": [
       "<div>\n",
       "<style scoped>\n",
       "    .dataframe tbody tr th:only-of-type {\n",
       "        vertical-align: middle;\n",
       "    }\n",
       "\n",
       "    .dataframe tbody tr th {\n",
       "        vertical-align: top;\n",
       "    }\n",
       "\n",
       "    .dataframe thead th {\n",
       "        text-align: right;\n",
       "    }\n",
       "</style>\n",
       "<table border=\"1\" class=\"dataframe\">\n",
       "  <thead>\n",
       "    <tr style=\"text-align: right;\">\n",
       "      <th></th>\n",
       "      <th>RNA_flow_per_100000</th>\n",
       "    </tr>\n",
       "    <tr>\n",
       "      <th>Date_measurement</th>\n",
       "      <th></th>\n",
       "    </tr>\n",
       "  </thead>\n",
       "  <tbody>\n",
       "    <tr>\n",
       "      <th>2020-09-08</th>\n",
       "      <td>83680804596726</td>\n",
       "    </tr>\n",
       "    <tr>\n",
       "      <th>2020-09-15</th>\n",
       "      <td>42049447262665</td>\n",
       "    </tr>\n",
       "    <tr>\n",
       "      <th>2020-09-22</th>\n",
       "      <td>96108538420255</td>\n",
       "    </tr>\n",
       "    <tr>\n",
       "      <th>2020-09-29</th>\n",
       "      <td>188207079567760</td>\n",
       "    </tr>\n",
       "    <tr>\n",
       "      <th>2020-10-06</th>\n",
       "      <td>534779001494232</td>\n",
       "    </tr>\n",
       "  </tbody>\n",
       "</table>\n",
       "</div>"
      ],
      "text/plain": [
       "                  RNA_flow_per_100000\n",
       "Date_measurement                     \n",
       "2020-09-08             83680804596726\n",
       "2020-09-15             42049447262665\n",
       "2020-09-22             96108538420255\n",
       "2020-09-29            188207079567760\n",
       "2020-10-06            534779001494232"
      ]
     },
     "execution_count": 32,
     "metadata": {},
     "output_type": "execute_result"
    }
   ],
   "source": [
    "# checking all the datapoints I noticed that the data starts with 09-07 for the Groningen datapoint\n",
    "# but for the sewage data on Friesland it started on the 09-08\n",
    "# This should not cause to many problems for now, so we are keeping the data as it is for now.\n",
    "sewage_f_sum.head(5)"
   ]
  },
  {
   "cell_type": "markdown",
   "metadata": {},
   "source": [
    "The next step is normalizing the data, this way it is easier to graph both datasets at the same time.\n"
   ]
  },
  {
   "cell_type": "code",
   "execution_count": 98,
   "metadata": {},
   "outputs": [],
   "source": [
    "# from sklearn import preprocessing\n",
    "\n",
    "# def normalize(data):\n",
    "#     \"\"\"\n",
    "#     Normalizes the data to a scale of 1. This is done to be able to better graph the two datasets\n",
    "#     together later on in this project.\n",
    "#     \"\"\"\n",
    "def normalize(df):\n",
    "    \"\"\"\n",
    "    Normalizes the data to a scale of 1. This is done to be able to better graph the two datasets\n",
    "    together later on in this project.\n",
    "    \"\"\"\n",
    "    return (df - df.min()) * 1.0 / (df.max() - df.min())\n",
    "\n",
    "norm_sf = normalize(sewage_f_sum)\n",
    "norm_sg = normalize(sewage_g_sum)\n",
    "\n",
    "norm_cf = normalize(cases_f_sum)\n",
    "norm_cg = normalize(cases_f_sum)\n",
    "\n",
    "# put the dates in as regular columns again\n",
    "def reset_ind (df):\n",
    "    df.reset_index(level=0, inplace=True)\n",
    "    return df\n",
    "\n",
    "norm_sf = reset_ind(norm_sf)\n",
    "norm_sg = reset_ind(norm_sg)\n",
    "\n",
    "norm_cf = reset_ind(norm_cf)\n",
    "norm_cg = reset_ind(norm_cg)\n"
   ]
  },
  {
   "cell_type": "markdown",
   "metadata": {},
   "source": [
    "## Data comparison\n",
    "#### Now that both datasets have been cleaned an filtered, we can take a closer look to the data itself\n",
    "To do so the cases and sewage will be visualized together and seperatly to get a feel of what we are looking at.\n",
    "Furthermore we will take a closer look to two provinces, Friesland and Groningen. These are both provinces I lived in and I would like to compare these as well"
   ]
  },
  {
   "cell_type": "markdown",
   "metadata": {},
   "source": [
    "#### Zooming in on Groningen en Friesland"
   ]
  },
  {
   "cell_type": "code",
   "execution_count": 116,
   "metadata": {},
   "outputs": [],
   "source": [
    "# next the normalized datasets will be combined into two datasets based on Province\n",
    "\n",
    "# remove the time stamp from the datasets\n",
    "norm_cf['Date_measurement'] = pd.to_datetime(norm_cf['Date_measurement']).dt.date\n",
    "norm_cg['Date_measurement'] = pd.to_datetime(norm_cf['Date_measurement']).dt.date\n",
    "norm_cf['Date_measurement'] =pd.to_datetime(norm_cf.Date_measurement)\n",
    "norm_cg['Date_measurement'] =pd.to_datetime(norm_cg.Date_measurement)\n",
    "\n",
    "df_F = pd.merge(norm_cf, norm_sf, on=\"Date_measurement\", how='outer')\n",
    "df_G = pd.merge(norm_cg, norm_sg, on=\"Date_measurement\", how='outer')"
   ]
  },
  {
   "cell_type": "code",
   "execution_count": 117,
   "metadata": {},
   "outputs": [
    {
     "name": "stderr",
     "output_type": "stream",
     "text": [
      "BokehUserWarning: ColumnDataSource's columns must be of the same length. Current lengths: ('x', 142), ('y', 130)\n",
      "BokehUserWarning: ColumnDataSource's columns must be of the same length. Current lengths: ('x', 142), ('y', 130)\n"
     ]
    }
   ],
   "source": [
    "# lets make two simple graphs of these datasets, to see what we are looking at\n",
    "# create a new plot\n",
    "s1 = figure(width=500, plot_height=500, title=\"cases and corona particles in sewage Friesland\",\n",
    "           x_axis_type=\"datetime\")\n",
    "s1.line(df_F['Date_measurement'], df_F['Total_reported'], line_width =2, color=\"navy\", \n",
    "        alpha=0.5, legend_label=\"Total reported cases\")\n",
    "s1.line(df_F['Date_measurement'], df_F['RNA_flow_per_100000'], line_width =2, color=\"hotpink\", \n",
    "        alpha=0.5, legend_label=\"RNA particles sewage\")\n",
    "\n",
    "# create another one\n",
    "s2 = figure(width=500, plot_height=500, title=\"cases and corona particles in sewage Groningen\",\n",
    "           x_axis_type=\"datetime\")\n",
    "s2.line(df_G['Date_measurement'], df_F['Total_reported'], line_width =2, color=\"navy\", \n",
    "        alpha=0.5, legend_label=\"Total reported cases\")\n",
    "s2.line(df_G['Date_measurement'], df_F['RNA_flow_per_100000'], line_width =2, color=\"hotpink\", \n",
    "        alpha=0.5, legend_label=\"RNA particles sewage\")\n",
    "\n",
    "s1.legend.location = \"top_left\"\n",
    "s2.legend.click_policy=\"hide\"\n",
    "\n",
    "# show the results\n",
    "#show(s1)\n",
    "#show(s2)"
   ]
  },
  {
   "cell_type": "code",
   "execution_count": 124,
   "metadata": {},
   "outputs": [
    {
     "data": {
      "text/html": [
       "\n",
       "\n",
       "\n",
       "\n",
       "\n",
       "\n",
       "  <div class=\"bk-root\" id=\"0bb6c119-0453-49ba-a9fa-3c969cb90a92\" data-root-id=\"10627\"></div>\n"
      ]
     },
     "metadata": {},
     "output_type": "display_data"
    },
    {
     "data": {
      "application/javascript": [
       "(function(root) {\n",
       "  function embed_document(root) {\n",
       "    \n",
       "  var docs_json = {\"96b5d121-5b8d-4423-8c4c-6b3730dfdf42\":{\"roots\":{\"references\":[{\"attributes\":{\"below\":[{\"id\":\"10638\"}],\"center\":[{\"id\":\"10641\"},{\"id\":\"10645\"},{\"id\":\"10685\"}],\"left\":[{\"id\":\"10642\"}],\"plot_height\":500,\"plot_width\":500,\"renderers\":[{\"id\":\"10663\"},{\"id\":\"10690\"}],\"title\":{\"id\":\"10628\"},\"toolbar\":{\"id\":\"10653\"},\"x_range\":{\"id\":\"10630\"},\"x_scale\":{\"id\":\"10634\"},\"y_range\":{\"id\":\"10632\"},\"y_scale\":{\"id\":\"10636\"}},\"id\":\"10627\",\"subtype\":\"Figure\",\"type\":\"Plot\"},{\"attributes\":{\"fill_alpha\":{\"value\":0.5},\"fill_color\":{\"value\":\"hotpink\"},\"line_alpha\":{\"value\":0.5},\"line_color\":{\"value\":\"hotpink\"},\"line_width\":{\"value\":2},\"x\":{\"field\":\"x\"},\"y\":{\"field\":\"y\"}},\"id\":\"10688\",\"type\":\"Square\"},{\"attributes\":{},\"id\":\"10634\",\"type\":\"LinearScale\"},{\"attributes\":{\"data_source\":{\"id\":\"10660\"},\"glyph\":{\"id\":\"10661\"},\"hover_glyph\":null,\"muted_glyph\":null,\"nonselection_glyph\":{\"id\":\"10662\"},\"selection_glyph\":null,\"view\":{\"id\":\"10664\"}},\"id\":\"10663\",\"type\":\"GlyphRenderer\"},{\"attributes\":{\"text\":\"Corona Friesland\"},\"id\":\"10628\",\"type\":\"Title\"},{\"attributes\":{\"data\":{\"x\":{\"__ndarray__\":\"AAAAzF1Gd0IAAMAxsEZ3QgAAgJcCR3dCAABA/VRHd0IAAABjp0d3QgAAwMj5R3dCAACALkxId0IAAECUnkh3QgAAAPrwSHdCAADAX0NJd0IAAIDFlUl3QgAAQCvoSXdCAAAAkTpKd0IAAMD2jEp3QgAAgFzfSndCAABAwjFLd0IAAAAohEt3QgAAwI3WS3dCAACA8yhMd0IAAEBZe0x3QgAAAL/NTHdCAADAJCBNd0IAAICKck13QgAAQPDETXdCAAAAVhdOd0IAAMC7aU53QgAAgCG8TndCAABAhw5Pd0IAAADtYE93QgAAwFKzT3dCAACAuAVQd0IAAEAeWFB3QgAAAISqUHdCAADA6fxQd0IAAIBPT1F3QgAAQLWhUXdCAAAAG/RRd0IAAMCARlJ3QgAAgOaYUndCAABATOtSd0IAAACyPVN3QgAAwBeQU3dCAACAfeJTd0IAAEDjNFR3QgAAAEmHVHdCAADArtlUd0IAAIAULFV3QgAAQHp+VXdCAAAA4NBVd0IAAMBFI1Z3QgAAgKt1VndCAABAEchWd0IAAAB3Gld3QgAAwNxsV3dCAACAQr9Xd0IAAECoEVh3QgAAAA5kWHdCAADAc7ZYd0IAAIDZCFl3QgAAQD9bWXdCAAAApa1Zd0IAAMAKAFp3QgAAgHBSWndCAABA1qRad0IAAAA891p3QgAAwKFJW3dCAACAB5xbd0IAAEBt7lt3QgAAANNAXHdCAADAOJNcd0IAAICe5Vx3QgAAQAQ4XXdCAAAAaopdd0IAAMDP3F13QgAAgDUvXndCAABAm4Fed0IAAAAB1F53QgAAwGYmX3dCAACAzHhfd0IAAEAyy193QgAAAJgdYHdCAADA/W9gd0IAAIBjwmB3QgAAQMkUYXdCAAAAL2dhd0IAAMCUuWF3QgAAgPoLYndCAABAYF5id0IAAADGsGJ3QgAAwCsDY3dCAACAkVVjd0IAAED3p2N3QgAAAF36Y3dCAADAwkxkd0IAAIAon2R3QgAAQI7xZHdCAAAA9ENld0IAAMBZlmV3QgAAgL/oZXdCAABAJTtmd0IAAACLjWZ3QgAAwPDfZndCAACAVjJnd0IAAEC8hGd3QgAAACLXZ3dCAADAhylod0IAAIDte2h3QgAAQFPOaHdCAAAAuSBpd0IAAMAec2l3QgAAgITFaXdCAABA6hdqd0IAAABQamp3QgAAwLW8andCAACAGw9rd0IAAECBYWt3QgAAAOeza3dCAADATAZsd0IAAICyWGx3QgAAQBirbHdCAAAAfv1sd0IAAMDjT213QgAAgEmibXdCAABAr/Rtd0IAAIDg6253QgAAwBHjb3dCAADAqCxxd0IAAADaI3J3QgAAQAsbc3dCAAAAcW1zd0I=\",\"dtype\":\"float64\",\"order\":\"little\",\"shape\":[130]},\"y\":{\"__ndarray__\":\"AAAAAAAAAAAh5pzB2QYRP6kfBDKQSEU/fS8GS9jsTz8L7h3O/VhWP/X1ntohq1s/5YLQ+bQnYz8xWWuiRoppP+pAsPYr03E/C+4dzv1Ydj9XxLh2j7t8P1LNqY8Qj4E/3OWAfoImhT/EDpIM6yKLP08naftcuo4/n/ZkAvxbkT+xvFOtwkmTP8OCQliJN5U/mOVkOytGmT9piqchVqmeP/tAd8dBy6A/Pu5yQD9Boz+0YesFL5WlP4FhlpPtrKg/aMR/R6Wzqz/nmm9ieP6uPy8H9BM0qbA/kdUNsKG5sT/wxLfNU3SzPyoPPPFt87Q//MzGe6O2tj/gbSxEx+y4Pyb6lzuAuLo/xPGlecOdvD/+Hj4Ktpe/P4hVqseWPcI/8MS3zVN0wz/fxPD8PXzEP0kVwPhEG8Y/CvBvRYxrxz9xX31LSaLIP8UMQJVcEMo/yq+FdjpJyz+LijXDgZnMPwxdge83v80/4vl7+CjYzj97T+2Q1Q3QPz8JDVzYs9A/F4V344Qi0T+Vluhf7gDSP/HCZVbFYdI/uTy3lc3F0j/jorc/skjTPwKokgtC59M/M4+f2Xhv1D+d3Rxe8fvUP3N5biubi9U/1Ubfi8ES1j9M1pqokWLWP9voezFYwtY//q2Ice0e1z8RcXxp3nDXP1ca1PO+wdc/MXZXNW4P2D+vhh92kGTYP9rMONp3xtg/IHaQZFgX2T+EIxp/gX3ZP+FPl3VY3tk/UF5GbtYo2j9AXdZheafaP3ulCA4FFNs//1bEuHaP2z8wPtGGrRfcP/A2FqJjdtw/+pjku//j3D9WxWGy1kTdPxxfmjfcyd0/TybAvxUx3j8XoBH/HZXeP44vzRvu5N4/61tKEsVF3z8mpHy+ULLfP2rdx+uvE+A/kILt5UdP4D8I8sG8Gn7gP2huZMp1reA/v/ntVv3n4D/ULO6rbynhPxFVORL+dOE/4y+wL1u94T9av2tMKw3iP1b/OdglT+I/Qc3ivvqW4j91BBWkte3iP07wi4jjS+M/1IFg7Vem4z9KoQ+tpgbkPxi8VFb+kOQ/84fk9C7O5D+Iq8VExkPlP1bGCu4dzuU/42jfGWM+5j/67K3BoNfmP8Yn2rD1guc/rMVExkMd6D+tpga8jYXoP8YK7h3O/eg/g7MNIgCO6T+rqQFvYyHqP7K7qnF7wOo/gEb8d1Q66z8gywKmQJTrP3QGZxtEAOw/Aak7R4lw7D8ykEgVwPjsPxmev4ePgu0/SRXA+EQb7j9HplzXCrXuP1cZK7h3OO8/q1SPLXuk7z8AAAAAAADwPwAAAAAAAPh/AAAAAAAA+H8AAAAAAAD4fwAAAAAAAPh/AAAAAAAA+H8AAAAAAAD4fwAAAAAAAPh/AAAAAAAA+H8=\",\"dtype\":\"float64\",\"order\":\"little\",\"shape\":[130]}},\"selected\":{\"id\":\"10684\"},\"selection_policy\":{\"id\":\"10683\"}},\"id\":\"10660\",\"type\":\"ColumnDataSource\"},{\"attributes\":{\"base\":24,\"mantissas\":[1,2,4,6,8,12],\"max_interval\":43200000.0,\"min_interval\":3600000.0,\"num_minor_ticks\":0},\"id\":\"10672\",\"type\":\"AdaptiveTicker\"},{\"attributes\":{\"fill_alpha\":{\"value\":0.1},\"fill_color\":{\"value\":\"hotpink\"},\"line_alpha\":{\"value\":0.1},\"line_color\":{\"value\":\"hotpink\"},\"line_width\":{\"value\":2},\"x\":{\"field\":\"x\"},\"y\":{\"field\":\"y\"}},\"id\":\"10689\",\"type\":\"Square\"},{\"attributes\":{\"num_minor_ticks\":5,\"tickers\":[{\"id\":\"10670\"},{\"id\":\"10671\"},{\"id\":\"10672\"},{\"id\":\"10673\"},{\"id\":\"10674\"},{\"id\":\"10675\"},{\"id\":\"10676\"},{\"id\":\"10677\"},{\"id\":\"10678\"},{\"id\":\"10679\"},{\"id\":\"10680\"},{\"id\":\"10681\"}]},\"id\":\"10639\",\"type\":\"DatetimeTicker\"},{\"attributes\":{},\"id\":\"10649\",\"type\":\"SaveTool\"},{\"attributes\":{},\"id\":\"10669\",\"type\":\"BasicTickFormatter\"},{\"attributes\":{\"months\":[0,6]},\"id\":\"10680\",\"type\":\"MonthsTicker\"},{\"attributes\":{},\"id\":\"10632\",\"type\":\"DataRange1d\"},{\"attributes\":{\"line_alpha\":0.5,\"line_color\":\"navy\",\"line_width\":2,\"x\":{\"field\":\"x\"},\"y\":{\"field\":\"y\"}},\"id\":\"10661\",\"type\":\"Line\"},{\"attributes\":{},\"id\":\"10630\",\"type\":\"DataRange1d\"},{\"attributes\":{},\"id\":\"10712\",\"type\":\"UnionRenderers\"},{\"attributes\":{\"days\":[1,4,7,10,13,16,19,22,25,28]},\"id\":\"10674\",\"type\":\"DaysTicker\"},{\"attributes\":{\"axis_label\":\"normalized value\",\"formatter\":{\"id\":\"10669\"},\"ticker\":{\"id\":\"10643\"}},\"id\":\"10642\",\"type\":\"LinearAxis\"},{\"attributes\":{},\"id\":\"10667\",\"type\":\"DatetimeTickFormatter\"},{\"attributes\":{\"active_drag\":\"auto\",\"active_inspect\":\"auto\",\"active_multi\":null,\"active_scroll\":\"auto\",\"active_tap\":\"auto\",\"tools\":[{\"id\":\"10646\"},{\"id\":\"10647\"},{\"id\":\"10648\"},{\"id\":\"10649\"},{\"id\":\"10650\"},{\"id\":\"10651\"}]},\"id\":\"10653\",\"type\":\"Toolbar\"},{\"attributes\":{\"label\":{\"value\":\"Total reported cases\"},\"renderers\":[{\"id\":\"10663\"}]},\"id\":\"10686\",\"type\":\"LegendItem\"},{\"attributes\":{},\"id\":\"10643\",\"type\":\"BasicTicker\"},{\"attributes\":{\"axis_label\":\"Date\",\"formatter\":{\"id\":\"10667\"},\"ticker\":{\"id\":\"10639\"}},\"id\":\"10638\",\"type\":\"DatetimeAxis\"},{\"attributes\":{\"axis\":{\"id\":\"10638\"},\"ticker\":null},\"id\":\"10641\",\"type\":\"Grid\"},{\"attributes\":{},\"id\":\"10636\",\"type\":\"LinearScale\"},{\"attributes\":{\"base\":60,\"mantissas\":[1,2,5,10,15,20,30],\"max_interval\":1800000.0,\"min_interval\":1000.0,\"num_minor_ticks\":0},\"id\":\"10671\",\"type\":\"AdaptiveTicker\"},{\"attributes\":{\"bottom_units\":\"screen\",\"fill_alpha\":0.5,\"fill_color\":\"lightgrey\",\"left_units\":\"screen\",\"level\":\"overlay\",\"line_alpha\":1.0,\"line_color\":\"black\",\"line_dash\":[4,4],\"line_width\":2,\"right_units\":\"screen\",\"top_units\":\"screen\"},\"id\":\"10652\",\"type\":\"BoxAnnotation\"},{\"attributes\":{},\"id\":\"10684\",\"type\":\"Selection\"},{\"attributes\":{\"mantissas\":[1,2,5],\"max_interval\":500.0,\"num_minor_ticks\":0},\"id\":\"10670\",\"type\":\"AdaptiveTicker\"},{\"attributes\":{\"days\":[1,8,15,22]},\"id\":\"10675\",\"type\":\"DaysTicker\"},{\"attributes\":{\"overlay\":{\"id\":\"10652\"}},\"id\":\"10648\",\"type\":\"BoxZoomTool\"},{\"attributes\":{},\"id\":\"10713\",\"type\":\"Selection\"},{\"attributes\":{\"source\":{\"id\":\"10660\"}},\"id\":\"10664\",\"type\":\"CDSView\"},{\"attributes\":{\"line_alpha\":0.1,\"line_color\":\"navy\",\"line_width\":2,\"x\":{\"field\":\"x\"},\"y\":{\"field\":\"y\"}},\"id\":\"10662\",\"type\":\"Line\"},{\"attributes\":{\"months\":[0,1,2,3,4,5,6,7,8,9,10,11]},\"id\":\"10677\",\"type\":\"MonthsTicker\"},{\"attributes\":{},\"id\":\"10683\",\"type\":\"UnionRenderers\"},{\"attributes\":{\"click_policy\":\"hide\",\"items\":[{\"id\":\"10686\"},{\"id\":\"10714\"}],\"location\":\"top_left\"},\"id\":\"10685\",\"type\":\"Legend\"},{\"attributes\":{},\"id\":\"10651\",\"type\":\"HelpTool\"},{\"attributes\":{},\"id\":\"10681\",\"type\":\"YearsTicker\"},{\"attributes\":{\"label\":{\"value\":\"RNA particles sewage\"},\"renderers\":[{\"id\":\"10690\"}]},\"id\":\"10714\",\"type\":\"LegendItem\"},{\"attributes\":{},\"id\":\"10650\",\"type\":\"ResetTool\"},{\"attributes\":{\"months\":[0,2,4,6,8,10]},\"id\":\"10678\",\"type\":\"MonthsTicker\"},{\"attributes\":{\"data\":{\"x\":{\"__ndarray__\":\"AAAAzF1Gd0IAAMAxsEZ3QgAAgJcCR3dCAABA/VRHd0IAAABjp0d3QgAAwMj5R3dCAACALkxId0IAAECUnkh3QgAAAPrwSHdCAADAX0NJd0IAAIDFlUl3QgAAQCvoSXdCAAAAkTpKd0IAAMD2jEp3QgAAgFzfSndCAABAwjFLd0IAAAAohEt3QgAAwI3WS3dCAACA8yhMd0IAAEBZe0x3QgAAAL/NTHdCAADAJCBNd0IAAICKck13QgAAQPDETXdCAAAAVhdOd0IAAMC7aU53QgAAgCG8TndCAABAhw5Pd0IAAADtYE93QgAAwFKzT3dCAACAuAVQd0IAAEAeWFB3QgAAAISqUHdCAADA6fxQd0IAAIBPT1F3QgAAQLWhUXdCAAAAG/RRd0IAAMCARlJ3QgAAgOaYUndCAABATOtSd0IAAACyPVN3QgAAwBeQU3dCAACAfeJTd0IAAEDjNFR3QgAAAEmHVHdCAADArtlUd0IAAIAULFV3QgAAQHp+VXdCAAAA4NBVd0IAAMBFI1Z3QgAAgKt1VndCAABAEchWd0IAAAB3Gld3QgAAwNxsV3dCAACAQr9Xd0IAAECoEVh3QgAAAA5kWHdCAADAc7ZYd0IAAIDZCFl3QgAAQD9bWXdCAAAApa1Zd0IAAMAKAFp3QgAAgHBSWndCAABA1qRad0IAAAA891p3QgAAwKFJW3dCAACAB5xbd0IAAEBt7lt3QgAAANNAXHdCAADAOJNcd0IAAICe5Vx3QgAAQAQ4XXdCAAAAaopdd0IAAMDP3F13QgAAgDUvXndCAABAm4Fed0IAAAAB1F53QgAAwGYmX3dCAACAzHhfd0IAAEAyy193QgAAAJgdYHdCAADA/W9gd0IAAIBjwmB3QgAAQMkUYXdCAAAAL2dhd0IAAMCUuWF3QgAAgPoLYndCAABAYF5id0IAAADGsGJ3QgAAwCsDY3dCAACAkVVjd0IAAED3p2N3QgAAAF36Y3dCAADAwkxkd0IAAIAon2R3QgAAQI7xZHdCAAAA9ENld0IAAMBZlmV3QgAAgL/oZXdCAABAJTtmd0IAAACLjWZ3QgAAwPDfZndCAACAVjJnd0IAAEC8hGd3QgAAACLXZ3dCAADAhylod0IAAIDte2h3QgAAQFPOaHdCAAAAuSBpd0IAAMAec2l3QgAAgITFaXdCAABA6hdqd0IAAABQamp3QgAAwLW8andCAACAGw9rd0IAAECBYWt3QgAAAOeza3dCAADATAZsd0IAAICyWGx3QgAAQBirbHdCAAAAfv1sd0IAAMDjT213QgAAgEmibXdCAABAr/Rtd0IAAIDg6253QgAAwBHjb3dCAADAqCxxd0IAAADaI3J3QgAAQAsbc3dCAAAAcW1zd0I=\",\"dtype\":\"float64\",\"order\":\"little\",\"shape\":[130]},\"y\":{\"__ndarray__\":\"AAAAAAAA+H8yOPsm72irPwAAAAAAAPh/AAAAAAAA+H8AAAAAAAD4fwAAAAAAAPh/AAAAAAAA+H8AAAAAAAD4f3WMAe6ocJg/AAAAAAAA+H8AAAAAAAD4fwAAAAAAAPh/AAAAAAAA+H8AAAAAAAD4fwAAAAAAAPh/njLtO8Hxrz8AAAAAAAD4fwAAAAAAAPh/AAAAAAAA+H8AAAAAAAD4fwAAAAAAAPh/AAAAAAAA+H+N6BjjEWPAPwAAAAAAAPh/AAAAAAAA+H8AAAAAAAD4fwAAAAAAAPh/AAAAAAAA+H8AAAAAAAD4fxJYA9UBANg/AAAAAAAA+H8AAAAAAAD4f5suUIA4GpY/AAAAAAAA+H8AAAAAAAD4f58dFIJMh8o/AAAAAAAA+H8AAAAAAAD4f9MYnK3Ht9A/AAAAAAAA+H8AAAAAAAD4fwAAAAAAAPh/Q3kYGdch0z8AAAAAAAD4fwAAAAAAAPh/dGzX1EmH1T8AAAAAAAD4fwAAAAAAAPh/AAAAAAAA+H/fVHzlKKPiPwAAAAAAAPh/AAAAAAAA+H+iCgacEnXpPwAAAAAAAPh/AAAAAAAA+H8AAAAAAAD4f6Heozcu68c/AAAAAAAA+H8AAAAAAAD4fwCEuwab5to/AAAAAAAA+H8AAAAAAAD4fwAAAAAAAPh/GEd/dATKgz88odev+DrnPwAAAAAAAPh/E6tq6aon2D8AAAAAAAD4fwAAAAAAAPh/AAAAAAAA+H+zI+UFKljQPwAAAAAAAPh/AAAAAAAA+H8OlO2hmhLCPwAAAAAAAPh/AAAAAAAA+H8AAAAAAAD4f7xnhl6JHrk/AAAAAAAA+H8AAAAAAAD4f1p9s+NJ4L4/AAAAAAAA+H8AAAAAAAD4fwAAAAAAAPh/jm/7y9xo5z8lPoqEHwWCPwAAAAAAAAAABmgurLla3T8AAAAAAAD4fwAAAAAAAPh/AAAAAAAA+H8rZlqf+tDePwAAAAAAAPh/AAAAAAAA+H+2qY49Y4XGPwAAAAAAAPh/AAAAAAAA+H8AAAAAAAD4f8VnDv0gROI/AAAAAAAA+H8AAAAAAAD4f0VmHAVCPtI/AAAAAAAA+H8AAAAAAAD4fwAAAAAAAPh/kO2LlYtM7z8AAAAAAAD4f/NFi6hWDO8/AAAAAAAA+H8AAAAAAAD4fwAAAAAAAPh/AAAAAAAA+H+8jJci3bTOPwAAAAAAAPh/AAAAAAAA+H8AAAAAAAD4fwAAAAAAAPh/AAAAAAAA+H8AAAAAAAD4f+4hXRDHQtQ/AAAAAAAA+H8AAAAAAAD4f0335nqFOuA/QoBrQLZMYj8AAAAAAADwP5uM+J5stsg/hdIpH39e4T+BSLb686PhP+o+PKS1CLA/HfKz33Ld5D8=\",\"dtype\":\"float64\",\"order\":\"little\",\"shape\":[130]}},\"selected\":{\"id\":\"10713\"},\"selection_policy\":{\"id\":\"10712\"}},\"id\":\"10687\",\"type\":\"ColumnDataSource\"},{\"attributes\":{\"source\":{\"id\":\"10687\"}},\"id\":\"10691\",\"type\":\"CDSView\"},{\"attributes\":{\"axis\":{\"id\":\"10642\"},\"dimension\":1,\"ticker\":null},\"id\":\"10645\",\"type\":\"Grid\"},{\"attributes\":{\"data_source\":{\"id\":\"10687\"},\"glyph\":{\"id\":\"10688\"},\"hover_glyph\":null,\"muted_glyph\":null,\"nonselection_glyph\":{\"id\":\"10689\"},\"selection_glyph\":null,\"view\":{\"id\":\"10691\"}},\"id\":\"10690\",\"type\":\"GlyphRenderer\"},{\"attributes\":{},\"id\":\"10647\",\"type\":\"WheelZoomTool\"},{\"attributes\":{},\"id\":\"10646\",\"type\":\"PanTool\"},{\"attributes\":{\"months\":[0,4,8]},\"id\":\"10679\",\"type\":\"MonthsTicker\"},{\"attributes\":{\"days\":[1,2,3,4,5,6,7,8,9,10,11,12,13,14,15,16,17,18,19,20,21,22,23,24,25,26,27,28,29,30,31]},\"id\":\"10673\",\"type\":\"DaysTicker\"},{\"attributes\":{\"days\":[1,15]},\"id\":\"10676\",\"type\":\"DaysTicker\"}],\"root_ids\":[\"10627\"]},\"title\":\"Bokeh Application\",\"version\":\"2.2.3\"}};\n",
       "  var render_items = [{\"docid\":\"96b5d121-5b8d-4423-8c4c-6b3730dfdf42\",\"root_ids\":[\"10627\"],\"roots\":{\"10627\":\"0bb6c119-0453-49ba-a9fa-3c969cb90a92\"}}];\n",
       "  root.Bokeh.embed.embed_items_notebook(docs_json, render_items);\n",
       "\n",
       "  }\n",
       "  if (root.Bokeh !== undefined) {\n",
       "    embed_document(root);\n",
       "  } else {\n",
       "    var attempts = 0;\n",
       "    var timer = setInterval(function(root) {\n",
       "      if (root.Bokeh !== undefined) {\n",
       "        clearInterval(timer);\n",
       "        embed_document(root);\n",
       "      } else {\n",
       "        attempts++;\n",
       "        if (attempts > 100) {\n",
       "          clearInterval(timer);\n",
       "          console.log(\"Bokeh: ERROR: Unable to run BokehJS code because BokehJS library is missing\");\n",
       "        }\n",
       "      }\n",
       "    }, 10, root)\n",
       "  }\n",
       "})(window);"
      ],
      "application/vnd.bokehjs_exec.v0+json": ""
     },
     "metadata": {
      "application/vnd.bokehjs_exec.v0+json": {
       "id": "10627"
      }
     },
     "output_type": "display_data"
    },
    {
     "data": {
      "text/html": [
       "\n",
       "\n",
       "\n",
       "\n",
       "\n",
       "\n",
       "  <div class=\"bk-root\" id=\"6cdb65e7-5397-4f21-83cf-bca6b6a1c0fa\" data-root-id=\"11305\"></div>\n"
      ]
     },
     "metadata": {},
     "output_type": "display_data"
    },
    {
     "data": {
      "application/javascript": [
       "(function(root) {\n",
       "  function embed_document(root) {\n",
       "    \n",
       "  var docs_json = {\"bd2f08f8-037c-4138-ba57-c2860644f63e\":{\"roots\":{\"references\":[{\"attributes\":{\"below\":[{\"id\":\"11316\"}],\"center\":[{\"id\":\"11319\"},{\"id\":\"11323\"},{\"id\":\"11363\"}],\"left\":[{\"id\":\"11320\"}],\"plot_height\":500,\"plot_width\":500,\"renderers\":[{\"id\":\"11341\"},{\"id\":\"11368\"}],\"title\":{\"id\":\"11306\"},\"toolbar\":{\"id\":\"11331\"},\"x_range\":{\"id\":\"11308\"},\"x_scale\":{\"id\":\"11312\"},\"y_range\":{\"id\":\"11310\"},\"y_scale\":{\"id\":\"11314\"}},\"id\":\"11305\",\"subtype\":\"Figure\",\"type\":\"Plot\"},{\"attributes\":{\"axis_label\":\"normalized value\",\"formatter\":{\"id\":\"11347\"},\"ticker\":{\"id\":\"11321\"}},\"id\":\"11320\",\"type\":\"LinearAxis\"},{\"attributes\":{\"base\":60,\"mantissas\":[1,2,5,10,15,20,30],\"max_interval\":1800000.0,\"min_interval\":1000.0,\"num_minor_ticks\":0},\"id\":\"11349\",\"type\":\"AdaptiveTicker\"},{\"attributes\":{\"num_minor_ticks\":5,\"tickers\":[{\"id\":\"11348\"},{\"id\":\"11349\"},{\"id\":\"11350\"},{\"id\":\"11351\"},{\"id\":\"11352\"},{\"id\":\"11353\"},{\"id\":\"11354\"},{\"id\":\"11355\"},{\"id\":\"11356\"},{\"id\":\"11357\"},{\"id\":\"11358\"},{\"id\":\"11359\"}]},\"id\":\"11317\",\"type\":\"DatetimeTicker\"},{\"attributes\":{\"days\":[1,2,3,4,5,6,7,8,9,10,11,12,13,14,15,16,17,18,19,20,21,22,23,24,25,26,27,28,29,30,31]},\"id\":\"11351\",\"type\":\"DaysTicker\"},{\"attributes\":{\"axis_label\":\"Date\",\"formatter\":{\"id\":\"11345\"},\"ticker\":{\"id\":\"11317\"}},\"id\":\"11316\",\"type\":\"DatetimeAxis\"},{\"attributes\":{\"base\":24,\"mantissas\":[1,2,4,6,8,12],\"max_interval\":43200000.0,\"min_interval\":3600000.0,\"num_minor_ticks\":0},\"id\":\"11350\",\"type\":\"AdaptiveTicker\"},{\"attributes\":{\"axis\":{\"id\":\"11316\"},\"ticker\":null},\"id\":\"11319\",\"type\":\"Grid\"},{\"attributes\":{\"months\":[0,1,2,3,4,5,6,7,8,9,10,11]},\"id\":\"11355\",\"type\":\"MonthsTicker\"},{\"attributes\":{},\"id\":\"11325\",\"type\":\"WheelZoomTool\"},{\"attributes\":{\"months\":[0,2,4,6,8,10]},\"id\":\"11356\",\"type\":\"MonthsTicker\"},{\"attributes\":{\"days\":[1,4,7,10,13,16,19,22,25,28]},\"id\":\"11352\",\"type\":\"DaysTicker\"},{\"attributes\":{\"days\":[1,15]},\"id\":\"11354\",\"type\":\"DaysTicker\"},{\"attributes\":{\"axis\":{\"id\":\"11320\"},\"dimension\":1,\"ticker\":null},\"id\":\"11323\",\"type\":\"Grid\"},{\"attributes\":{\"months\":[0,6]},\"id\":\"11358\",\"type\":\"MonthsTicker\"},{\"attributes\":{},\"id\":\"11321\",\"type\":\"BasicTicker\"},{\"attributes\":{\"days\":[1,8,15,22]},\"id\":\"11353\",\"type\":\"DaysTicker\"},{\"attributes\":{},\"id\":\"11359\",\"type\":\"YearsTicker\"},{\"attributes\":{},\"id\":\"11310\",\"type\":\"DataRange1d\"},{\"attributes\":{},\"id\":\"11308\",\"type\":\"DataRange1d\"},{\"attributes\":{},\"id\":\"11329\",\"type\":\"HelpTool\"},{\"attributes\":{\"active_drag\":\"auto\",\"active_inspect\":\"auto\",\"active_multi\":null,\"active_scroll\":\"auto\",\"active_tap\":\"auto\",\"tools\":[{\"id\":\"11324\"},{\"id\":\"11325\"},{\"id\":\"11326\"},{\"id\":\"11327\"},{\"id\":\"11328\"},{\"id\":\"11329\"}]},\"id\":\"11331\",\"type\":\"Toolbar\"},{\"attributes\":{\"months\":[0,4,8]},\"id\":\"11357\",\"type\":\"MonthsTicker\"},{\"attributes\":{\"text\":\"Corona Groningen\"},\"id\":\"11306\",\"type\":\"Title\"},{\"attributes\":{\"data_source\":{\"id\":\"11338\"},\"glyph\":{\"id\":\"11339\"},\"hover_glyph\":null,\"muted_glyph\":null,\"nonselection_glyph\":{\"id\":\"11340\"},\"selection_glyph\":null,\"view\":{\"id\":\"11342\"}},\"id\":\"11341\",\"type\":\"GlyphRenderer\"},{\"attributes\":{},\"id\":\"11324\",\"type\":\"PanTool\"},{\"attributes\":{\"overlay\":{\"id\":\"11330\"}},\"id\":\"11326\",\"type\":\"BoxZoomTool\"},{\"attributes\":{},\"id\":\"11327\",\"type\":\"SaveTool\"},{\"attributes\":{},\"id\":\"11328\",\"type\":\"ResetTool\"},{\"attributes\":{\"fill_alpha\":{\"value\":0.5},\"fill_color\":{\"value\":\"hotpink\"},\"line_alpha\":{\"value\":0.5},\"line_color\":{\"value\":\"hotpink\"},\"line_width\":{\"value\":2},\"x\":{\"field\":\"x\"},\"y\":{\"field\":\"y\"}},\"id\":\"11366\",\"type\":\"Square\"},{\"attributes\":{},\"id\":\"11362\",\"type\":\"Selection\"},{\"attributes\":{},\"id\":\"11361\",\"type\":\"UnionRenderers\"},{\"attributes\":{\"fill_alpha\":{\"value\":0.1},\"fill_color\":{\"value\":\"hotpink\"},\"line_alpha\":{\"value\":0.1},\"line_color\":{\"value\":\"hotpink\"},\"line_width\":{\"value\":2},\"x\":{\"field\":\"x\"},\"y\":{\"field\":\"y\"}},\"id\":\"11367\",\"type\":\"Square\"},{\"attributes\":{\"data\":{\"x\":{\"__ndarray__\":\"AAAAzF1Gd0IAAMAxsEZ3QgAAgJcCR3dCAABA/VRHd0IAAABjp0d3QgAAwMj5R3dCAACALkxId0IAAECUnkh3QgAAAPrwSHdCAADAX0NJd0IAAIDFlUl3QgAAQCvoSXdCAAAAkTpKd0IAAMD2jEp3QgAAgFzfSndCAABAwjFLd0IAAAAohEt3QgAAwI3WS3dCAACA8yhMd0IAAEBZe0x3QgAAAL/NTHdCAADAJCBNd0IAAICKck13QgAAQPDETXdCAAAAVhdOd0IAAMC7aU53QgAAgCG8TndCAABAhw5Pd0IAAADtYE93QgAAwFKzT3dCAACAuAVQd0IAAEAeWFB3QgAAAISqUHdCAADA6fxQd0IAAIBPT1F3QgAAQLWhUXdCAAAAG/RRd0IAAMCARlJ3QgAAgOaYUndCAABATOtSd0IAAACyPVN3QgAAwBeQU3dCAACAfeJTd0IAAEDjNFR3QgAAAEmHVHdCAADArtlUd0IAAIAULFV3QgAAQHp+VXdCAAAA4NBVd0IAAMBFI1Z3QgAAgKt1VndCAABAEchWd0IAAAB3Gld3QgAAwNxsV3dCAACAQr9Xd0IAAECoEVh3QgAAAA5kWHdCAADAc7ZYd0IAAIDZCFl3QgAAQD9bWXdCAAAApa1Zd0IAAMAKAFp3QgAAgHBSWndCAABA1qRad0IAAAA891p3QgAAwKFJW3dCAACAB5xbd0IAAEBt7lt3QgAAANNAXHdCAADAOJNcd0IAAICe5Vx3QgAAQAQ4XXdCAAAAaopdd0IAAMDP3F13QgAAgDUvXndCAABAm4Fed0IAAAAB1F53QgAAwGYmX3dCAACAzHhfd0IAAEAyy193QgAAAJgdYHdCAADA/W9gd0IAAIBjwmB3QgAAQMkUYXdCAAAAL2dhd0IAAMCUuWF3QgAAgPoLYndCAABAYF5id0IAAADGsGJ3QgAAwCsDY3dCAACAkVVjd0IAAED3p2N3QgAAAF36Y3dCAADAwkxkd0IAAIAon2R3QgAAQI7xZHdCAAAA9ENld0IAAMBZlmV3QgAAgL/oZXdCAABAJTtmd0IAAACLjWZ3QgAAwPDfZndCAACAVjJnd0IAAEC8hGd3QgAAACLXZ3dCAADAhylod0IAAIDte2h3QgAAQFPOaHdCAAAAuSBpd0IAAMAec2l3QgAAgITFaXdCAABA6hdqd0IAAABQamp3QgAAwLW8andCAACAGw9rd0IAAECBYWt3QgAAAOeza3dCAADATAZsd0IAAICyWGx3QgAAQBirbHdCAAAAfv1sd0IAAMDjT213QgAAgEmibXdCAABAr/Rtd0IAAAAVR253QgAAwHqZbndCAACA4Otud0IAAEBGPm93QgAAAKyQb3dCAADAEeNvd0IAAEDdh3B3QgAAAEPacHdCAADAqCxxd0IAAIAOf3F3QgAAQHTRcXdCAAAA2iNyd0IAAMA/dnJ3QgAAgKXIcndCAABACxtzd0IAAABxbXN3QgAAwNa/c3dCAACAPBJ0d0I=\",\"dtype\":\"float64\",\"order\":\"little\",\"shape\":[142]},\"y\":{\"__ndarray__\":\"AAAAAAAAAAAh5pzB2QYRP6kfBDKQSEU/fS8GS9jsTz8L7h3O/VhWP/X1ntohq1s/5YLQ+bQnYz8xWWuiRoppP+pAsPYr03E/C+4dzv1Ydj9XxLh2j7t8P1LNqY8Qj4E/3OWAfoImhT/EDpIM6yKLP08naftcuo4/n/ZkAvxbkT+xvFOtwkmTP8OCQliJN5U/mOVkOytGmT9piqchVqmeP/tAd8dBy6A/Pu5yQD9Boz+0YesFL5WlP4FhlpPtrKg/aMR/R6Wzqz/nmm9ieP6uPy8H9BM0qbA/kdUNsKG5sT/wxLfNU3SzPyoPPPFt87Q//MzGe6O2tj/gbSxEx+y4Pyb6lzuAuLo/xPGlecOdvD/+Hj4Ktpe/P4hVqseWPcI/8MS3zVN0wz/fxPD8PXzEP0kVwPhEG8Y/CvBvRYxrxz9xX31LSaLIP8UMQJVcEMo/yq+FdjpJyz+LijXDgZnMPwxdge83v80/4vl7+CjYzj97T+2Q1Q3QPz8JDVzYs9A/F4V344Qi0T+Vluhf7gDSP/HCZVbFYdI/uTy3lc3F0j/jorc/skjTPwKokgtC59M/M4+f2Xhv1D+d3Rxe8fvUP3N5biubi9U/1Ubfi8ES1j9M1pqokWLWP9voezFYwtY//q2Ice0e1z8RcXxp3nDXP1ca1PO+wdc/MXZXNW4P2D+vhh92kGTYP9rMONp3xtg/IHaQZFgX2T+EIxp/gX3ZP+FPl3VY3tk/UF5GbtYo2j9AXdZheafaP3ulCA4FFNs//1bEuHaP2z8wPtGGrRfcP/A2FqJjdtw/+pjku//j3D9WxWGy1kTdPxxfmjfcyd0/TybAvxUx3j8XoBH/HZXeP44vzRvu5N4/61tKEsVF3z8mpHy+ULLfP2rdx+uvE+A/kILt5UdP4D8I8sG8Gn7gP2huZMp1reA/v/ntVv3n4D/ULO6rbynhPxFVORL+dOE/4y+wL1u94T9av2tMKw3iP1b/OdglT+I/Qc3ivvqW4j91BBWkte3iP07wi4jjS+M/1IFg7Vem4z9KoQ+tpgbkPxi8VFb+kOQ/84fk9C7O5D+Iq8VExkPlP1bGCu4dzuU/42jfGWM+5j/67K3BoNfmP8Yn2rD1guc/rMVExkMd6D+tpga8jYXoP8YK7h3O/eg/g7MNIgCO6T+rqQFvYyHqP7K7qnF7wOo/gEb8d1Q66z8gywKmQJTrP3QGZxtEAOw/Aak7R4lw7D8ykEgVwPjsPxmev4ePgu0/SRXA+EQb7j9HplzXCrXuP1cZK7h3OO8/q1SPLXuk7z8AAAAAAADwPwAAAAAAAPh/AAAAAAAA+H8AAAAAAAD4fwAAAAAAAPh/AAAAAAAA+H8AAAAAAAD4fwAAAAAAAPh/AAAAAAAA+H8AAAAAAAD4fwAAAAAAAPh/AAAAAAAA+H8AAAAAAAD4fwAAAAAAAPh/AAAAAAAA+H8AAAAAAAD4fwAAAAAAAPh/AAAAAAAA+H8AAAAAAAD4fwAAAAAAAPh/AAAAAAAA+H8=\",\"dtype\":\"float64\",\"order\":\"little\",\"shape\":[142]}},\"selected\":{\"id\":\"11362\"},\"selection_policy\":{\"id\":\"11361\"}},\"id\":\"11338\",\"type\":\"ColumnDataSource\"},{\"attributes\":{\"click_policy\":\"hide\",\"items\":[{\"id\":\"11364\"},{\"id\":\"11392\"}],\"location\":\"top_left\"},\"id\":\"11363\",\"type\":\"Legend\"},{\"attributes\":{\"source\":{\"id\":\"11365\"}},\"id\":\"11369\",\"type\":\"CDSView\"},{\"attributes\":{},\"id\":\"11314\",\"type\":\"LinearScale\"},{\"attributes\":{\"data\":{\"x\":{\"__ndarray__\":\"AAAAzF1Gd0IAAMAxsEZ3QgAAgJcCR3dCAABA/VRHd0IAAABjp0d3QgAAwMj5R3dCAACALkxId0IAAECUnkh3QgAAAPrwSHdCAADAX0NJd0IAAIDFlUl3QgAAQCvoSXdCAAAAkTpKd0IAAMD2jEp3QgAAgFzfSndCAABAwjFLd0IAAAAohEt3QgAAwI3WS3dCAACA8yhMd0IAAEBZe0x3QgAAAL/NTHdCAADAJCBNd0IAAICKck13QgAAQPDETXdCAAAAVhdOd0IAAMC7aU53QgAAgCG8TndCAABAhw5Pd0IAAADtYE93QgAAwFKzT3dCAACAuAVQd0IAAEAeWFB3QgAAAISqUHdCAADA6fxQd0IAAIBPT1F3QgAAQLWhUXdCAAAAG/RRd0IAAMCARlJ3QgAAgOaYUndCAABATOtSd0IAAACyPVN3QgAAwBeQU3dCAACAfeJTd0IAAEDjNFR3QgAAAEmHVHdCAADArtlUd0IAAIAULFV3QgAAQHp+VXdCAAAA4NBVd0IAAMBFI1Z3QgAAgKt1VndCAABAEchWd0IAAAB3Gld3QgAAwNxsV3dCAACAQr9Xd0IAAECoEVh3QgAAAA5kWHdCAADAc7ZYd0IAAIDZCFl3QgAAQD9bWXdCAAAApa1Zd0IAAMAKAFp3QgAAgHBSWndCAABA1qRad0IAAAA891p3QgAAwKFJW3dCAACAB5xbd0IAAEBt7lt3QgAAANNAXHdCAADAOJNcd0IAAICe5Vx3QgAAQAQ4XXdCAAAAaopdd0IAAMDP3F13QgAAgDUvXndCAABAm4Fed0IAAAAB1F53QgAAwGYmX3dCAACAzHhfd0IAAEAyy193QgAAAJgdYHdCAADA/W9gd0IAAIBjwmB3QgAAQMkUYXdCAAAAL2dhd0IAAMCUuWF3QgAAgPoLYndCAABAYF5id0IAAADGsGJ3QgAAwCsDY3dCAACAkVVjd0IAAED3p2N3QgAAAF36Y3dCAADAwkxkd0IAAIAon2R3QgAAQI7xZHdCAAAA9ENld0IAAMBZlmV3QgAAgL/oZXdCAABAJTtmd0IAAACLjWZ3QgAAwPDfZndCAACAVjJnd0IAAEC8hGd3QgAAACLXZ3dCAADAhylod0IAAIDte2h3QgAAQFPOaHdCAAAAuSBpd0IAAMAec2l3QgAAgITFaXdCAABA6hdqd0IAAABQamp3QgAAwLW8andCAACAGw9rd0IAAECBYWt3QgAAAOeza3dCAADATAZsd0IAAICyWGx3QgAAQBirbHdCAAAAfv1sd0IAAMDjT213QgAAgEmibXdCAABAr/Rtd0IAAAAVR253QgAAwHqZbndCAACA4Otud0IAAEBGPm93QgAAAKyQb3dCAADAEeNvd0IAAEDdh3B3QgAAAEPacHdCAADAqCxxd0IAAIAOf3F3QgAAQHTRcXdCAAAA2iNyd0IAAMA/dnJ3QgAAgKXIcndCAABACxtzd0IAAABxbXN3QgAAwNa/c3dCAACAPBJ0d0I=\",\"dtype\":\"float64\",\"order\":\"little\",\"shape\":[142]},\"y\":{\"__ndarray__\":\"5/euO8Jycj/dB+1zb2FPP7wvFxfxGH8/FVCnBYZRRD+cxyckkfVYPwAAAAAAAPh/H0leXg/lTj+b0QPbJIN6P1vFidGFzZU/AAAAAAAA+H/eFrgIEPGHP2INuswvNC8/AAAAAAAAAAAAAAAAAAD4fwx5Z7JPfLA/AAAAAAAA+H9Kq1kcgupcP09iOaxMlKQ/AAAAAAAA+H/JbAEcU6gsP/XbjcZ3PKM/xQuwxWZ9iD8AAAAAAAD4fwAAAAAAAPh/h0o8Z8AapT/N2Hc50sGYP/1rjXnHmpA/AAAAAAAA8D8AAAAAAAD4fwAAAAAAAPh/v9pOT3SzsD/4xlqK8+WwP7X7mJvY6Hk/St2IBGyqjT8AAAAAAAD4f1NpXft2mq8/XbZIdUWrmj8AAAAAAAD4fw/0BbkvJ2w/7HwfnMNJwT9DPRLxNoZ3P6fjqEAFvL4/clGFVz0ZuT89MseUOMutPwAAAAAAAPh/g4sE/mtclD+hH7Z/28mUPyAlUAdmOo8/t/s0X95iwT8AAAAAAAD4fwAAAAAAAPh/Agn16hipsj9s84XSyvWmPwAAAAAAAPh/AAAAAAAA+H+lt20w2eOXP/mHDOumHH4/AAAAAAAA+H/Rtu4r60GMP766tMK+F7Q/+lQEAPsvYz9bhRqwVkCvPwAAAAAAAPh/Cux6OTZnZT85XZsf2janP8mqSJi6gZg/AAAAAAAA+H9l/KkPGqB7PxBOMu70o8w/mWYgH4FKxT8AAAAAAAD4fz6IcYp397I/AAAAAAAA+H9ADiCMB+CCP8Cvm6PZ8bg/lYHoqzdTiT8AAAAAAAD4f858wVa8x5U/mM2OSGs3sD854HBkuEigP+9mSS4Brqs/AAAAAAAA+H8AAAAAAAD4f0OP9t6+rbg/AAAAAAAA+H+5EYjO5/LWPw52HOu0lo8/xqX6Pfg2xT+jPG4u4fOgPwf1Y1Lxz5o/TY1pOQw6eT/SLWnQ9jWvP+aSsdwJGbk/Q4QzuudnhT/pCUoVWh++Pye6XkFNHMg/AAAAAAAA+H8AAAAAAAD4f923A0uZTdA/M6pzCGZExD/Rh2GGNX/QP8tyeIPXS8k/AAAAAAAA+H8AAAAAAAD4fxzmiZ9z9rU/LSy55whl2z/pu9pskyupP5FdXz9YFeE/AAAAAAAA+H8AAAAAAAD4fwAAAAAAAPh/HzFwEGUa2D8AAAAAAAD4f1eNxGQVaNY/AAAAAAAA+H8AAAAAAAD4f7vvar7wlHE/pQfgfJKAoD8AAAAAAAD4f5Gb86f35ss/MAtMPpkKpj8Z2HRDiwOlP5IsBP4v9MU/wyT4mf83oz/TZsAXmZSrP3ToABqt25o/+8QmWCXuwz8VlHFh+YbXP/utIWldC7I/qWXBylj5xD+uoCPpFbRhPwY7Oui9Ltc/cICwswkenT+O1hfkCpLMP/d9xaX7k70/Gzci27xkuT8eL/B6m4SPPz9jVXveB14/Ig4P2LHjrD9HFZPp1i3CPy2yZsxRyrs/fTc1hyEQfj8=\",\"dtype\":\"float64\",\"order\":\"little\",\"shape\":[142]}},\"selected\":{\"id\":\"11391\"},\"selection_policy\":{\"id\":\"11390\"}},\"id\":\"11365\",\"type\":\"ColumnDataSource\"},{\"attributes\":{},\"id\":\"11345\",\"type\":\"DatetimeTickFormatter\"},{\"attributes\":{\"data_source\":{\"id\":\"11365\"},\"glyph\":{\"id\":\"11366\"},\"hover_glyph\":null,\"muted_glyph\":null,\"nonselection_glyph\":{\"id\":\"11367\"},\"selection_glyph\":null,\"view\":{\"id\":\"11369\"}},\"id\":\"11368\",\"type\":\"GlyphRenderer\"},{\"attributes\":{},\"id\":\"11312\",\"type\":\"LinearScale\"},{\"attributes\":{\"label\":{\"value\":\"RNA particles sewage\"},\"renderers\":[{\"id\":\"11368\"}]},\"id\":\"11392\",\"type\":\"LegendItem\"},{\"attributes\":{\"label\":{\"value\":\"Total reported cases\"},\"renderers\":[{\"id\":\"11341\"}]},\"id\":\"11364\",\"type\":\"LegendItem\"},{\"attributes\":{\"line_alpha\":0.1,\"line_color\":\"navy\",\"line_width\":2,\"x\":{\"field\":\"x\"},\"y\":{\"field\":\"y\"}},\"id\":\"11340\",\"type\":\"Line\"},{\"attributes\":{},\"id\":\"11391\",\"type\":\"Selection\"},{\"attributes\":{\"line_alpha\":0.5,\"line_color\":\"navy\",\"line_width\":2,\"x\":{\"field\":\"x\"},\"y\":{\"field\":\"y\"}},\"id\":\"11339\",\"type\":\"Line\"},{\"attributes\":{\"mantissas\":[1,2,5],\"max_interval\":500.0,\"num_minor_ticks\":0},\"id\":\"11348\",\"type\":\"AdaptiveTicker\"},{\"attributes\":{},\"id\":\"11347\",\"type\":\"BasicTickFormatter\"},{\"attributes\":{\"bottom_units\":\"screen\",\"fill_alpha\":0.5,\"fill_color\":\"lightgrey\",\"left_units\":\"screen\",\"level\":\"overlay\",\"line_alpha\":1.0,\"line_color\":\"black\",\"line_dash\":[4,4],\"line_width\":2,\"right_units\":\"screen\",\"top_units\":\"screen\"},\"id\":\"11330\",\"type\":\"BoxAnnotation\"},{\"attributes\":{},\"id\":\"11390\",\"type\":\"UnionRenderers\"},{\"attributes\":{\"source\":{\"id\":\"11338\"}},\"id\":\"11342\",\"type\":\"CDSView\"}],\"root_ids\":[\"11305\"]},\"title\":\"Bokeh Application\",\"version\":\"2.2.3\"}};\n",
       "  var render_items = [{\"docid\":\"bd2f08f8-037c-4138-ba57-c2860644f63e\",\"root_ids\":[\"11305\"],\"roots\":{\"11305\":\"6cdb65e7-5397-4f21-83cf-bca6b6a1c0fa\"}}];\n",
       "  root.Bokeh.embed.embed_items_notebook(docs_json, render_items);\n",
       "\n",
       "  }\n",
       "  if (root.Bokeh !== undefined) {\n",
       "    embed_document(root);\n",
       "  } else {\n",
       "    var attempts = 0;\n",
       "    var timer = setInterval(function(root) {\n",
       "      if (root.Bokeh !== undefined) {\n",
       "        clearInterval(timer);\n",
       "        embed_document(root);\n",
       "      } else {\n",
       "        attempts++;\n",
       "        if (attempts > 100) {\n",
       "          clearInterval(timer);\n",
       "          console.log(\"Bokeh: ERROR: Unable to run BokehJS code because BokehJS library is missing\");\n",
       "        }\n",
       "      }\n",
       "    }, 10, root)\n",
       "  }\n",
       "})(window);"
      ],
      "application/vnd.bokehjs_exec.v0+json": ""
     },
     "metadata": {
      "application/vnd.bokehjs_exec.v0+json": {
       "id": "11305"
      }
     },
     "output_type": "display_data"
    }
   ],
   "source": [
    "def plot(df, title):\n",
    "    p = figure(width=500, plot_height=500, title=title,\n",
    "           x_axis_type=\"datetime\", x_axis_label='Date', y_axis_label=\"normalized value\")\n",
    "    p.line(df['Date_measurement'], df['Total_reported'], line_width =2, color=\"navy\", \n",
    "        alpha=0.5, legend_label=\"Total reported cases\")\n",
    "    p.square(df['Date_measurement'], df['RNA_flow_per_100000'], line_width =2, color=\"hotpink\", \n",
    "        alpha=0.5, legend_label=\"RNA particles sewage\")  \n",
    "    \n",
    "    p.legend.location = \"top_left\"\n",
    "    p.legend.click_policy=\"hide\"\n",
    "    \n",
    "    return p\n",
    "\n",
    "show(plot(df_F, \"Corona Friesland\"))\n",
    "show(plot(df_G, \"Corona Groningen\"))"
   ]
  },
  {
   "cell_type": "markdown",
   "metadata": {},
   "source": [
    "From the plots above we can't really draw any conclusions. Looking at the first plot we don't neccesarily see that the total amount of corona cases correlates with the RNA particles found in the sewage. When looking at the dataset from Groningen we can see that it sort of looks like the amount of virus particles found in the sewage is going up, but again it is not really clear when looking at the graph.\n",
    "\n",
    "We need a better way of finding a correlation between the total reported cases and the RNA particles in the sewage. We can take a quick look at the correlation value between the two."
   ]
  },
  {
   "cell_type": "code",
   "execution_count": 130,
   "metadata": {},
   "outputs": [
    {
     "name": "stdout",
     "output_type": "stream",
     "text": [
      "correlation between total cases and RNA flow per 100000 in sewage in the province Friesland\n"
     ]
    },
    {
     "data": {
      "text/html": [
       "<style  type=\"text/css\" >\n",
       "#T_df9ddbaf_7776_11eb_bd94_7085c2be34f7row0_col0,#T_df9ddbaf_7776_11eb_bd94_7085c2be34f7row1_col1{\n",
       "            background-color:  #b40426;\n",
       "            color:  #f1f1f1;\n",
       "        }#T_df9ddbaf_7776_11eb_bd94_7085c2be34f7row0_col1,#T_df9ddbaf_7776_11eb_bd94_7085c2be34f7row1_col0{\n",
       "            background-color:  #3b4cc0;\n",
       "            color:  #f1f1f1;\n",
       "        }</style><table id=\"T_df9ddbaf_7776_11eb_bd94_7085c2be34f7\" ><thead>    <tr>        <th class=\"blank level0\" ></th>        <th class=\"col_heading level0 col0\" >Total_reported</th>        <th class=\"col_heading level0 col1\" >RNA_flow_per_100000</th>    </tr></thead><tbody>\n",
       "                <tr>\n",
       "                        <th id=\"T_df9ddbaf_7776_11eb_bd94_7085c2be34f7level0_row0\" class=\"row_heading level0 row0\" >Total_reported</th>\n",
       "                        <td id=\"T_df9ddbaf_7776_11eb_bd94_7085c2be34f7row0_col0\" class=\"data row0 col0\" >1.000000</td>\n",
       "                        <td id=\"T_df9ddbaf_7776_11eb_bd94_7085c2be34f7row0_col1\" class=\"data row0 col1\" >0.387047</td>\n",
       "            </tr>\n",
       "            <tr>\n",
       "                        <th id=\"T_df9ddbaf_7776_11eb_bd94_7085c2be34f7level0_row1\" class=\"row_heading level0 row1\" >RNA_flow_per_100000</th>\n",
       "                        <td id=\"T_df9ddbaf_7776_11eb_bd94_7085c2be34f7row1_col0\" class=\"data row1 col0\" >0.387047</td>\n",
       "                        <td id=\"T_df9ddbaf_7776_11eb_bd94_7085c2be34f7row1_col1\" class=\"data row1 col1\" >1.000000</td>\n",
       "            </tr>\n",
       "    </tbody></table>"
      ],
      "text/plain": [
       "<pandas.io.formats.style.Styler at 0x266c2bad160>"
      ]
     },
     "execution_count": 130,
     "metadata": {},
     "output_type": "execute_result"
    }
   ],
   "source": [
    "corr = df_F.corr()\n",
    "print(\"correlation between total cases and RNA flow per 100000 in sewage in the province Friesland\")\n",
    "corr.style.background_gradient(cmap='coolwarm')"
   ]
  },
  {
   "cell_type": "code",
   "execution_count": 131,
   "metadata": {},
   "outputs": [
    {
     "name": "stdout",
     "output_type": "stream",
     "text": [
      "correlation between total cases and RNA flow per 100000 in sewage in the province Groningen\n"
     ]
    },
    {
     "data": {
      "text/html": [
       "<style  type=\"text/css\" >\n",
       "#T_e83e6a39_7776_11eb_a03d_7085c2be34f7row0_col0,#T_e83e6a39_7776_11eb_a03d_7085c2be34f7row1_col1{\n",
       "            background-color:  #b40426;\n",
       "            color:  #f1f1f1;\n",
       "        }#T_e83e6a39_7776_11eb_a03d_7085c2be34f7row0_col1,#T_e83e6a39_7776_11eb_a03d_7085c2be34f7row1_col0{\n",
       "            background-color:  #3b4cc0;\n",
       "            color:  #f1f1f1;\n",
       "        }</style><table id=\"T_e83e6a39_7776_11eb_a03d_7085c2be34f7\" ><thead>    <tr>        <th class=\"blank level0\" ></th>        <th class=\"col_heading level0 col0\" >Total_reported</th>        <th class=\"col_heading level0 col1\" >RNA_flow_per_100000</th>    </tr></thead><tbody>\n",
       "                <tr>\n",
       "                        <th id=\"T_e83e6a39_7776_11eb_a03d_7085c2be34f7level0_row0\" class=\"row_heading level0 row0\" >Total_reported</th>\n",
       "                        <td id=\"T_e83e6a39_7776_11eb_a03d_7085c2be34f7row0_col0\" class=\"data row0 col0\" >1.000000</td>\n",
       "                        <td id=\"T_e83e6a39_7776_11eb_a03d_7085c2be34f7row0_col1\" class=\"data row0 col1\" >0.291313</td>\n",
       "            </tr>\n",
       "            <tr>\n",
       "                        <th id=\"T_e83e6a39_7776_11eb_a03d_7085c2be34f7level0_row1\" class=\"row_heading level0 row1\" >RNA_flow_per_100000</th>\n",
       "                        <td id=\"T_e83e6a39_7776_11eb_a03d_7085c2be34f7row1_col0\" class=\"data row1 col0\" >0.291313</td>\n",
       "                        <td id=\"T_e83e6a39_7776_11eb_a03d_7085c2be34f7row1_col1\" class=\"data row1 col1\" >1.000000</td>\n",
       "            </tr>\n",
       "    </tbody></table>"
      ],
      "text/plain": [
       "<pandas.io.formats.style.Styler at 0x266c2badb80>"
      ]
     },
     "execution_count": 131,
     "metadata": {},
     "output_type": "execute_result"
    }
   ],
   "source": [
    "corr = df_G.corr()\n",
    "print(\"correlation between total cases and RNA flow per 100000 in sewage in the province Groningen\")\n",
    "corr.style.background_gradient(cmap='coolwarm')"
   ]
  },
  {
   "cell_type": "markdown",
   "metadata": {},
   "source": [
    "To further analyze, we should first look if the datasets are both normally distributed"
   ]
  },
  {
   "cell_type": "code",
   "execution_count": 137,
   "metadata": {},
   "outputs": [
    {
     "data": {
      "text/plain": [
       "array([[<AxesSubplot:title={'center':'Total_reported'}>,\n",
       "        <AxesSubplot:title={'center':'RNA_flow_per_100000'}>]],\n",
       "      dtype=object)"
      ]
     },
     "execution_count": 137,
     "metadata": {},
     "output_type": "execute_result"
    },
    {
     "data": {
      "image/png": "[encoded data removed]",
      "text/plain": [
       "<Figure size 432x288 with 2 Axes>"
      ]
     },
     "metadata": {
      "needs_background": "light"
     },
     "output_type": "display_data"
    },
    {
     "data": {
      "image/png": "[encoded data removed]",
      "text/plain": [
       "<Figure size 432x288 with 2 Axes>"
      ]
     },
     "metadata": {
      "needs_background": "light"
     },
     "output_type": "display_data"
    }
   ],
   "source": [
    "df_G.hist()\n",
    "df_F.hist()"
   ]
  },
  {
   "cell_type": "code",
   "execution_count": null,
   "metadata": {},
   "outputs": [],
   "source": []
  },
  {
   "cell_type": "code",
   "execution_count": null,
   "metadata": {},
   "outputs": [],
   "source": []
  },
  {
   "cell_type": "code",
   "execution_count": null,
   "metadata": {},
   "outputs": [],
   "source": []
  },
  {
   "cell_type": "code",
   "execution_count": null,
   "metadata": {},
   "outputs": [],
   "source": []
  }
 ],
 "metadata": {
  "kernelspec": {
   "display_name": "Python 3",
   "language": "python",
   "name": "python3"
  },
  "language_info": {
   "codemirror_mode": {
    "name": "ipython",
    "version": 3
   },
   "file_extension": ".py",
   "mimetype": "text/x-python",
   "name": "python",
   "nbconvert_exporter": "python",
   "pygments_lexer": "ipython3",
   "version": "3.8.5"
  }
 },
 "nbformat": 4,
 "nbformat_minor": 2
}
